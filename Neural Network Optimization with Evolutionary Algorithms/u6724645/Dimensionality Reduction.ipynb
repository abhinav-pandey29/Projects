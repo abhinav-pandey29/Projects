{
 "cells": [
  {
   "cell_type": "code",
   "execution_count": 1,
   "metadata": {
    "jupyter": {
     "source_hidden": true
    }
   },
   "outputs": [
    {
     "name": "stderr",
     "output_type": "stream",
     "text": [
      "Using TensorFlow backend.\n"
     ]
    }
   ],
   "source": [
    "# Set seeds for reproducible results\n",
    "from numpy.random import seed\n",
    "seed(327)\n",
    "import tensorflow\n",
    "tensorflow.random.set_seed(327)\n",
    "\n",
    "# Import libraries\n",
    "import numpy as np\n",
    "import pandas as pd\n",
    "import matplotlib.pyplot as plt\n",
    "import seaborn as sns\n",
    "\n",
    "from sklearn.model_selection import train_test_split\n",
    "from sklearn import metrics\n",
    "\n",
    "from keras.models import Sequential\n",
    "from keras.layers import Dense\n",
    "from keras.layers import Dropout\n",
    "from keras.wrappers.scikit_learn import KerasClassifier\n",
    "from sklearn.model_selection import GridSearchCV, StratifiedKFold\n",
    "\n",
    "from torch\n",
    "\n",
    "import itertools"
   ]
  },
  {
   "cell_type": "markdown",
   "metadata": {},
   "source": [
    "#### Helper Functions"
   ]
  },
  {
   "cell_type": "markdown",
   "metadata": {},
   "source": [
    "##### 1. Data Preprocessing"
   ]
  },
  {
   "cell_type": "code",
   "execution_count": 2,
   "metadata": {
    "jupyter": {
     "source_hidden": true
    }
   },
   "outputs": [],
   "source": [
    "def preprocess_data(raw_data):\n",
    "    \n",
    "    # Add categorical dummy variables (All 0s represent)\n",
    "    tasknum_dummies = pd.get_dummies(raw_data['Task_num'],\n",
    "                                     prefix=\"TaskNum\") # Create dummy variables\n",
    "    data = pd.concat([raw_data, tasknum_dummies], axis=1) \n",
    "\n",
    "    # Remove the unnecessary columns\n",
    "    remove_cols = [\"Skip_distance\",\n",
    "              \"Subject\",\n",
    "              \"Mean_fixation_duration\",\n",
    "              \"Loag_Fixationtime\",\n",
    "              \"Log_timetoF\",\n",
    "              \"Task_completion_duration\",\n",
    "              \"Compressed_scanpath_value\", \n",
    "              \"Total_r_d\",\n",
    "              \"Compressed_M_Minimal\",\n",
    "              \"Strictly_linearWID\",\n",
    "              \"Mean_fixation_duration_for_onelink\",\n",
    "              \"Skip\",\n",
    "              \"Skip_count\", \n",
    "              \"Task_num\",\n",
    "              \"TaskNum_t9\"]  # Remove one dummy variable to avoid the dummy variable trap\n",
    "\n",
    "    data = data.drop(remove_cols, axis=1)\n",
    "    \n",
    "    # Encode the Screen_size column\n",
    "    vals = ['S', 'M', 'L']\n",
    "    for i in range(len(vals)):\n",
    "        data.at[data['Screen_size'] == vals[i], ['Screen_size']] = i    \n",
    "\n",
    "    # Replace missing values with 0 in column Regression_distance\n",
    "    preprocessed_data = data.fillna(0)\n",
    "\n",
    "    # Inspect the number of missing values in the preprocessed_data dataset\n",
    "    num_missing = preprocessed_data.isnull().sum().sum()\n",
    "    print(\"The number of missing values in the data = {}\".format(num_missing))\n",
    "    print(\"Number of features remaining = {}\".format(data.shape[1]))\n",
    "    \n",
    "    return preprocessed_data"
   ]
  },
  {
   "cell_type": "markdown",
   "metadata": {},
   "source": [
    "##### 2. Model Building"
   ]
  },
  {
   "cell_type": "code",
   "execution_count": 133,
   "metadata": {
    "jupyter": {
     "source_hidden": true
    }
   },
   "outputs": [],
   "source": [
    "def create_model(hidden_neurons, learning_rate, num_epoch, input_neurons = 4, output_neurons=3):\n",
    "    \n",
    "    # define the structure of our neural network\n",
    "    net = torch.nn.Sequential(\n",
    "        torch.nn.Linear(input_neurons, 128),\n",
    "        torch.nn.ReLU(),\n",
    "        torch.nn.Linear(128, 64),\n",
    "        torch.nn.ReLU(),\n",
    "        torch.nn.Linear(64, hidden_neurons),\n",
    "        torch.nn.Sigmoid(),\n",
    "        torch.nn.Linear(hidden_neurons, output_neurons),\n",
    "    )\n",
    "\n",
    "    # define loss functions\n",
    "    loss_func = torch.nn.CrossEntropyLoss()\n",
    "\n",
    "    # define optimiser\n",
    "    optimiser = torch.optim.SGD(net.parameters(), lr=learning_rate)\n",
    "    \n",
    "    return net, loss_func, optimiser"
   ]
  },
  {
   "cell_type": "markdown",
   "metadata": {},
   "source": [
    "##### 3. Train Model"
   ]
  },
  {
   "cell_type": "code",
   "execution_count": 118,
   "metadata": {
    "jupyter": {
     "source_hidden": true
    }
   },
   "outputs": [],
   "source": [
    "def train_neural_network(model, X_train, y_train):\n",
    "    \n",
    "    # create Tensors to hold inputs and outputs. Tensors are data structures\n",
    "    # similar to numpy matrices. They can be operated on efficiently by a GPU\n",
    "    # \n",
    "    # Note: In torch versions before 0.4, Tensors had to be wrapped in a Variable\n",
    "    # to be used by the NN.\n",
    "    X = torch.tensor(X_train, dtype=torch.float)\n",
    "    Y = torch.tensor(y_train.values, dtype=torch.long)\n",
    "    \n",
    "    \n",
    "    # store all losses for visualisation\n",
    "    all_losses = []\n",
    "\n",
    "    # train a neural network\n",
    "    for epoch in range(num_epoch):\n",
    "        # Perform forward pass: compute predicted y by passing x to the model.\n",
    "        # Here we pass a Tensor of input data to the Module and it produces\n",
    "        # a Tensor of output data.\n",
    "        # In this case, Y_pred contains three columns, where the index of the\n",
    "        # max column indicates the class of the instance\n",
    "        Y_pred = net(X)\n",
    "\n",
    "        # Compute loss\n",
    "        # Here we pass Tensors containing the predicted and true values of Y,\n",
    "        # and the loss function returns a Tensor containing the loss.\n",
    "        loss = loss_func(Y_pred, Y)\n",
    "        all_losses.append(loss.item())\n",
    "\n",
    "        # print progress\n",
    "#         if epoch % 50 == 0:\n",
    "#             # convert three-column predicted Y values to one column for comparison\n",
    "#             _, predicted = torch.max(F.softmax(Y_pred,1), 1)\n",
    "\n",
    "#             # calculate and print accuracy\n",
    "#             total = predicted.size(0)\n",
    "#             correct = predicted.data.numpy() == Y.data.numpy()\n",
    "\n",
    "#             print('Epoch [%d/%d] Loss: %.4f  Accuracy: %.2f %%'\n",
    "#                   % (epoch + 1, num_epoch, loss.item(), 100 * sum(correct)/total))\n",
    "\n",
    "        # Clear the gradients before running the backward pass.\n",
    "        net.zero_grad()\n",
    "\n",
    "        # Perform backward pass: compute gradients of the loss with respect to\n",
    "        # all the learnable parameters of the model.\n",
    "        loss.backward()\n",
    "\n",
    "        # Calling the step function on an Optimiser makes an update to its\n",
    "        # parameters\n",
    "        optimiser.step()\n",
    "        \n",
    "    return np.array(all_losses)"
   ]
  },
  {
   "cell_type": "markdown",
   "metadata": {},
   "source": [
    "##### 4. Evaluate Model"
   ]
  },
  {
   "cell_type": "code",
   "execution_count": 139,
   "metadata": {
    "jupyter": {
     "source_hidden": true
    }
   },
   "outputs": [],
   "source": [
    "def evaluate(net, x, y, mode='Train'):\n",
    "    \n",
    "    # Transform data to tensors\n",
    "    X = torch.tensor(x, dtype=torch.float)\n",
    "    Y = torch.tensor(y.values, dtype=torch.long) \n",
    "\n",
    "    # Create empty 3x3 confusion matrix\n",
    "    confusion = torch.zeros(3, 3)\n",
    "\n",
    "    # Make predictions on X\n",
    "    Y_pred = net(X)\n",
    "    _, predicted = torch.max(F.softmax(Y_pred,1), 1)\n",
    "\n",
    "    # Create confusion Matrix\n",
    "    for i in range(X.shape[0]):\n",
    "        actual_class = Y.data[i]\n",
    "        predicted_class = predicted.data[i]\n",
    "\n",
    "        confusion[actual_class][predicted_class] += 1\n",
    "\n",
    "    # Calculate Accuracy score\n",
    "    correct_pred_count = confusion[0,0] + confusion[1,1] + confusion[2,2]\n",
    "    accuracy_score = correct_pred_count / confusion.sum() * 100\n",
    "\n",
    "    print(\"{}ing Accuracy = {}%\".format(mode, accuracy_score))    \n",
    "    print('Confusion matrix for {}ing:'.format(mode))\n",
    "    print(confusion.numpy())\n",
    "    \n",
    "    print(\"\\nClassification Report -\")\n",
    "    print(metrics.classification_report(y, predicted.numpy()))"
   ]
  },
  {
   "cell_type": "markdown",
   "metadata": {},
   "source": [
    "#### Data Preparation"
   ]
  },
  {
   "cell_type": "code",
   "execution_count": 6,
   "metadata": {
    "jupyter": {
     "source_hidden": true
    }
   },
   "outputs": [
    {
     "name": "stdout",
     "output_type": "stream",
     "text": [
      "The number of missing values in the data = 0\n",
      "Number of features remaining = 30\n"
     ]
    }
   ],
   "source": [
    "# Step 1. Import the dataset\n",
    "\n",
    "# Total number of columns in the dataset = 36\n",
    "required_cols = list(range(36))\n",
    "\n",
    "# Read the dataset\n",
    "raw_data = pd.read_excel(\"Jae-Second_Exp_data.xlsx\",\n",
    "                     sheet_name=\"Analysis_summary\",\n",
    "                     nrows=161,\n",
    "                     usecols = required_cols)\n",
    "\n",
    "# Step 2. Preprocess the data\n",
    "data = preprocess_data(raw_data = raw_data)\n",
    "\n",
    "# Step 3. Split the data into training and test sets\n",
    "\n",
    "# Divide into features and target variables\n",
    "X = data.drop(\"Screen_size\", axis=1)\n",
    "y = data['Screen_size']\n",
    "\n",
    "X_train, X_test, y_train, y_test = train_test_split(X, y, test_size=0.2, stratify=y, random_state=42)"
   ]
  },
  {
   "cell_type": "markdown",
   "metadata": {},
   "source": [
    "#### Model Building"
   ]
  },
  {
   "cell_type": "code",
   "execution_count": 7,
   "metadata": {
    "jupyter": {
     "source_hidden": true
    }
   },
   "outputs": [],
   "source": [
    "# # Step 4. Initialise model parameters\n",
    "# hidden_neurons = 32\n",
    "# learning_rate = 0.474\n",
    "# num_epoch = 200\n",
    "\n",
    "# # Step 5. Build model skeleton\n",
    "# net, loss_func, optimiser = create_model(hidden_neurons=hidden_neurons,\n",
    "#                                          learning_rate=learning_rate,\n",
    "#                                          num_epoch=num_epoch)\n",
    "\n",
    "# # Step 6. Train the model and store build history\n",
    "# losses = train_neural_network(net, X_train, y_train)"
   ]
  },
  {
   "cell_type": "markdown",
   "metadata": {},
   "source": [
    "#### Model evaluation"
   ]
  },
  {
   "cell_type": "code",
   "execution_count": 8,
   "metadata": {
    "jupyter": {
     "source_hidden": true
    }
   },
   "outputs": [],
   "source": [
    "# # Step 7. Evaluate on train and test data\n",
    "# evaluate(net, X_train, y_train)\n",
    "# evaluate(net, X_test, y_test, mode='Test')"
   ]
  },
  {
   "cell_type": "code",
   "execution_count": 9,
   "metadata": {},
   "outputs": [],
   "source": [
    "from sklearn.preprocessing import MinMaxScaler\n",
    "from sklearn.decomposition import PCA\n",
    "\n",
    "# Normalise training data\n",
    "scaler = MinMaxScaler()\n",
    "X_train_scaled = scaler.fit_transform(X_train)\n",
    "\n",
    "# Perform PCA\n",
    "pca = PCA()\n",
    "X_train_scaled_pca = pca.fit_transform(X_train_scaled)"
   ]
  },
  {
   "cell_type": "code",
   "execution_count": 113,
   "metadata": {},
   "outputs": [
    {
     "data": {
      "image/png": "[encoded data removed]",
      "text/plain": [
       "<Figure size 720x360 with 1 Axes>"
      ]
     },
     "metadata": {
      "needs_background": "light"
     },
     "output_type": "display_data"
    }
   ],
   "source": [
    "# Perform PCA on train data for dimensionality reduction\n",
    "pca = PCA()\n",
    "X_train_pca = pca.fit_transform(X_train_scaled)\n",
    "\n",
    "# Calculate cumulative explained variance\n",
    "cumulative_explained_variance_ratio = np.cumsum(pca.explained_variance_ratio_)\n",
    "\n",
    "# Visualize the explained variance percentages\n",
    "fig, ax = plt.subplots(figsize=(10,5))\n",
    "\n",
    "# Plot the Cumulative Explained Variance Percentage for all Principal Components\n",
    "ax.scatter(np.arange(len(X_train.columns)), cumulative_explained_variance_ratio)\n",
    "ax.set_title(\"Cumulative Explained Variance\", fontsize=16)\n",
    "ax.set_ylabel(\"Cumulative Explained Variance\", fontsize=14)\n",
    "ax.set_xlabel(\"# Principal Component\", fontsize=14)\n",
    "ax.set_ylim([0,1.1])\n",
    "plt.show()"
   ]
  },
  {
   "cell_type": "code",
   "execution_count": 11,
   "metadata": {},
   "outputs": [
    {
     "data": {
      "text/plain": [
       "0.35680819180819184"
      ]
     },
     "execution_count": 11,
     "metadata": {},
     "output_type": "execute_result"
    }
   ],
   "source": [
    "from sklearn.tree import DecisionTreeClassifier\n",
    "from sklearn.model_selection import cross_val_score\n",
    "\n",
    "model = DecisionTreeClassifier()\n",
    "\n",
    "cv_scores = cross_val_score(model, X_train_scaled_pca[:,(1,2)], y_train, scoring='f1_weighted', cv=10)\n",
    "cv_mean = cv_scores.mean()\n",
    "cv_mean"
   ]
  },
  {
   "cell_type": "code",
   "execution_count": 171,
   "metadata": {},
   "outputs": [],
   "source": [
    "scores = []\n",
    "pc_ids = []\n",
    "\n",
    "main_comb = (10, 27, 9)\n",
    "C = []\n",
    "\n",
    "principal_component_ids = np.arange(X_train.shape[1])\n",
    "\n",
    "for i in range(len(principal_component_ids)):\n",
    "    if i not in main_comb:\n",
    "        combination = main_comb + (i,)\n",
    "    \n",
    "        C.append(combination)\n",
    "#         pc_ids.append(pc_id)\n",
    "\n",
    "        model = DecisionTreeClassifier(random_state=327)\n",
    "\n",
    "        cv_scores = cross_val_score(model, X_train_scaled_pca[:, combination], y_train, scoring='precision_micro', cv=10)\n",
    "        cv_mean = cv_scores.mean()\n",
    "        \n",
    "        scores.append(cv_mean)"
   ]
  },
  {
   "cell_type": "code",
   "execution_count": 172,
   "metadata": {},
   "outputs": [
    {
     "data": {
      "text/html": [
       "<div>\n",
       "<style scoped>\n",
       "    .dataframe tbody tr th:only-of-type {\n",
       "        vertical-align: middle;\n",
       "    }\n",
       "\n",
       "    .dataframe tbody tr th {\n",
       "        vertical-align: top;\n",
       "    }\n",
       "\n",
       "    .dataframe thead th {\n",
       "        text-align: right;\n",
       "    }\n",
       "</style>\n",
       "<table border=\"1\" class=\"dataframe\">\n",
       "  <thead>\n",
       "    <tr style=\"text-align: right;\">\n",
       "      <th></th>\n",
       "      <th>Principal Components</th>\n",
       "      <th>scores</th>\n",
       "    </tr>\n",
       "  </thead>\n",
       "  <tbody>\n",
       "    <tr>\n",
       "      <th>24</th>\n",
       "      <td>(10, 27, 9, 26)</td>\n",
       "      <td>0.507692</td>\n",
       "    </tr>\n",
       "    <tr>\n",
       "      <th>11</th>\n",
       "      <td>(10, 27, 9, 13)</td>\n",
       "      <td>0.452564</td>\n",
       "    </tr>\n",
       "    <tr>\n",
       "      <th>21</th>\n",
       "      <td>(10, 27, 9, 23)</td>\n",
       "      <td>0.445513</td>\n",
       "    </tr>\n",
       "    <tr>\n",
       "      <th>5</th>\n",
       "      <td>(10, 27, 9, 5)</td>\n",
       "      <td>0.429487</td>\n",
       "    </tr>\n",
       "    <tr>\n",
       "      <th>16</th>\n",
       "      <td>(10, 27, 9, 18)</td>\n",
       "      <td>0.423718</td>\n",
       "    </tr>\n",
       "  </tbody>\n",
       "</table>\n",
       "</div>"
      ],
      "text/plain": [
       "   Principal Components    scores\n",
       "24      (10, 27, 9, 26)  0.507692\n",
       "11      (10, 27, 9, 13)  0.452564\n",
       "21      (10, 27, 9, 23)  0.445513\n",
       "5        (10, 27, 9, 5)  0.429487\n",
       "16      (10, 27, 9, 18)  0.423718"
      ]
     },
     "execution_count": 172,
     "metadata": {},
     "output_type": "execute_result"
    }
   ],
   "source": [
    "results = pd.DataFrame.from_dict({'Principal Components':C, \n",
    "                        'scores':scores}).sort_values(by='scores', ascending=False)\n",
    "\n",
    "results.head()"
   ]
  },
  {
   "cell_type": "code",
   "execution_count": 182,
   "metadata": {},
   "outputs": [
    {
     "name": "stdout",
     "output_type": "stream",
     "text": [
      "Training Accuracy = 45.3125%\n",
      "Confusion matrix for Training:\n",
      "[[28.  5. 10.]\n",
      " [18.  6. 19.]\n",
      " [12.  6. 24.]]\n",
      "\n",
      "Classification Report -\n",
      "              precision    recall  f1-score   support\n",
      "\n",
      "           0       0.48      0.65      0.55        43\n",
      "           1       0.35      0.14      0.20        43\n",
      "           2       0.45      0.57      0.51        42\n",
      "\n",
      "    accuracy                           0.45       128\n",
      "   macro avg       0.43      0.45      0.42       128\n",
      "weighted avg       0.43      0.45      0.42       128\n",
      "\n",
      "Testing Accuracy = 42.42424392700195%\n",
      "Confusion matrix for Testing:\n",
      "[[9. 0. 2.]\n",
      " [5. 2. 4.]\n",
      " [5. 3. 3.]]\n",
      "\n",
      "Classification Report -\n",
      "              precision    recall  f1-score   support\n",
      "\n",
      "           0       0.47      0.82      0.60        11\n",
      "           1       0.40      0.18      0.25        11\n",
      "           2       0.33      0.27      0.30        11\n",
      "\n",
      "    accuracy                           0.42        33\n",
      "   macro avg       0.40      0.42      0.38        33\n",
      "weighted avg       0.40      0.42      0.38        33\n",
      "\n"
     ]
    }
   ],
   "source": [
    "# Step 4. Initialise model parameters\n",
    "hidden_neurons = 20\n",
    "learning_rate = 0.4\n",
    "num_epoch = 200\n",
    "\n",
    "combination = (9,10,26,27)\n",
    "\n",
    "# Step 5. Build model skeleton\n",
    "\n",
    "\n",
    "\n",
    "net, loss_func, optimiser = create_model(hidden_neurons=hidden_neurons,\n",
    "                                         learning_rate=learning_rate,\n",
    "                                         num_epoch=num_epoch)\n",
    "\n",
    "# Step 6. Train the model and store build history\n",
    "losses = train_neural_network(net, X_train_scaled_pca[:, combination], y_train)\n",
    "\n",
    "# # Step 7. Evaluate on train and test data\n",
    "x_train = X_train_scaled_pca[:, combination]\n",
    "evaluate(net, x_train, y_train)\n",
    "\n",
    "X_test_scaled = scaler.transform(X_test)\n",
    "X_test_scaled_pca = pca.transform(X_test_scaled)\n",
    "x_test = X_test_scaled_pca[:, combination]\n",
    "\n",
    "evaluate(net, x_test, y_test, mode='Test')"
   ]
  },
  {
   "cell_type": "code",
   "execution_count": 187,
   "metadata": {},
   "outputs": [
    {
     "data": {
      "text/html": [
       "<div>\n",
       "<style scoped>\n",
       "    .dataframe tbody tr th:only-of-type {\n",
       "        vertical-align: middle;\n",
       "    }\n",
       "\n",
       "    .dataframe tbody tr th {\n",
       "        vertical-align: top;\n",
       "    }\n",
       "\n",
       "    .dataframe thead th {\n",
       "        text-align: right;\n",
       "    }\n",
       "</style>\n",
       "<table border=\"1\" class=\"dataframe\">\n",
       "  <thead>\n",
       "    <tr style=\"text-align: right;\">\n",
       "      <th></th>\n",
       "      <th>Time_to_firstclick</th>\n",
       "      <th>Fixation_count</th>\n",
       "      <th>Fixation_loss</th>\n",
       "      <th>Log_completionD</th>\n",
       "      <th>Page_visit</th>\n",
       "      <th>Wrong_answer</th>\n",
       "      <th>Clicked_link</th>\n",
       "      <th>Scrolled</th>\n",
       "      <th>Minimal_scanpath_value</th>\n",
       "      <th>Complete</th>\n",
       "      <th>...</th>\n",
       "      <th>Trackback</th>\n",
       "      <th>Task_satisfaction</th>\n",
       "      <th>TaskNum_t1</th>\n",
       "      <th>TaskNum_t2</th>\n",
       "      <th>TaskNum_t3</th>\n",
       "      <th>TaskNum_t4</th>\n",
       "      <th>TaskNum_t5</th>\n",
       "      <th>TaskNum_t6</th>\n",
       "      <th>TaskNum_t7</th>\n",
       "      <th>TaskNum_t8</th>\n",
       "    </tr>\n",
       "  </thead>\n",
       "  <tbody>\n",
       "    <tr>\n",
       "      <th>count</th>\n",
       "      <td>128.000000</td>\n",
       "      <td>128.000000</td>\n",
       "      <td>128.000000</td>\n",
       "      <td>128.000000</td>\n",
       "      <td>128.000000</td>\n",
       "      <td>128.000000</td>\n",
       "      <td>128.000000</td>\n",
       "      <td>128.000000</td>\n",
       "      <td>128.000000</td>\n",
       "      <td>128.000000</td>\n",
       "      <td>...</td>\n",
       "      <td>128.000000</td>\n",
       "      <td>128.000000</td>\n",
       "      <td>128.000000</td>\n",
       "      <td>128.000000</td>\n",
       "      <td>128.000000</td>\n",
       "      <td>128.000000</td>\n",
       "      <td>128.000000</td>\n",
       "      <td>128.000000</td>\n",
       "      <td>128.000000</td>\n",
       "      <td>128.000000</td>\n",
       "    </tr>\n",
       "    <tr>\n",
       "      <th>mean</th>\n",
       "      <td>9.266883</td>\n",
       "      <td>25.992188</td>\n",
       "      <td>0.226562</td>\n",
       "      <td>1.296752</td>\n",
       "      <td>1.054688</td>\n",
       "      <td>0.046875</td>\n",
       "      <td>1.476562</td>\n",
       "      <td>0.187500</td>\n",
       "      <td>2.406250</td>\n",
       "      <td>0.976562</td>\n",
       "      <td>...</td>\n",
       "      <td>1.460938</td>\n",
       "      <td>4.875000</td>\n",
       "      <td>0.117188</td>\n",
       "      <td>0.109375</td>\n",
       "      <td>0.101562</td>\n",
       "      <td>0.109375</td>\n",
       "      <td>0.132812</td>\n",
       "      <td>0.125000</td>\n",
       "      <td>0.093750</td>\n",
       "      <td>0.117188</td>\n",
       "    </tr>\n",
       "    <tr>\n",
       "      <th>std</th>\n",
       "      <td>6.345256</td>\n",
       "      <td>20.869107</td>\n",
       "      <td>0.785848</td>\n",
       "      <td>0.231198</td>\n",
       "      <td>0.228263</td>\n",
       "      <td>0.212202</td>\n",
       "      <td>0.878123</td>\n",
       "      <td>0.391846</td>\n",
       "      <td>1.282453</td>\n",
       "      <td>0.151883</td>\n",
       "      <td>...</td>\n",
       "      <td>1.303553</td>\n",
       "      <td>1.430819</td>\n",
       "      <td>0.322907</td>\n",
       "      <td>0.313335</td>\n",
       "      <td>0.303259</td>\n",
       "      <td>0.313335</td>\n",
       "      <td>0.340705</td>\n",
       "      <td>0.332018</td>\n",
       "      <td>0.292626</td>\n",
       "      <td>0.322907</td>\n",
       "    </tr>\n",
       "    <tr>\n",
       "      <th>min</th>\n",
       "      <td>1.399000</td>\n",
       "      <td>2.000000</td>\n",
       "      <td>0.000000</td>\n",
       "      <td>0.927319</td>\n",
       "      <td>1.000000</td>\n",
       "      <td>0.000000</td>\n",
       "      <td>1.000000</td>\n",
       "      <td>0.000000</td>\n",
       "      <td>1.000000</td>\n",
       "      <td>0.000000</td>\n",
       "      <td>...</td>\n",
       "      <td>0.000000</td>\n",
       "      <td>1.000000</td>\n",
       "      <td>0.000000</td>\n",
       "      <td>0.000000</td>\n",
       "      <td>0.000000</td>\n",
       "      <td>0.000000</td>\n",
       "      <td>0.000000</td>\n",
       "      <td>0.000000</td>\n",
       "      <td>0.000000</td>\n",
       "      <td>0.000000</td>\n",
       "    </tr>\n",
       "    <tr>\n",
       "      <th>25%</th>\n",
       "      <td>4.216500</td>\n",
       "      <td>11.000000</td>\n",
       "      <td>0.000000</td>\n",
       "      <td>1.136648</td>\n",
       "      <td>1.000000</td>\n",
       "      <td>0.000000</td>\n",
       "      <td>1.000000</td>\n",
       "      <td>0.000000</td>\n",
       "      <td>2.000000</td>\n",
       "      <td>1.000000</td>\n",
       "      <td>...</td>\n",
       "      <td>1.000000</td>\n",
       "      <td>4.000000</td>\n",
       "      <td>0.000000</td>\n",
       "      <td>0.000000</td>\n",
       "      <td>0.000000</td>\n",
       "      <td>0.000000</td>\n",
       "      <td>0.000000</td>\n",
       "      <td>0.000000</td>\n",
       "      <td>0.000000</td>\n",
       "      <td>0.000000</td>\n",
       "    </tr>\n",
       "    <tr>\n",
       "      <th>50%</th>\n",
       "      <td>8.049000</td>\n",
       "      <td>19.000000</td>\n",
       "      <td>0.000000</td>\n",
       "      <td>1.253817</td>\n",
       "      <td>1.000000</td>\n",
       "      <td>0.000000</td>\n",
       "      <td>1.000000</td>\n",
       "      <td>0.000000</td>\n",
       "      <td>2.000000</td>\n",
       "      <td>1.000000</td>\n",
       "      <td>...</td>\n",
       "      <td>1.000000</td>\n",
       "      <td>5.000000</td>\n",
       "      <td>0.000000</td>\n",
       "      <td>0.000000</td>\n",
       "      <td>0.000000</td>\n",
       "      <td>0.000000</td>\n",
       "      <td>0.000000</td>\n",
       "      <td>0.000000</td>\n",
       "      <td>0.000000</td>\n",
       "      <td>0.000000</td>\n",
       "    </tr>\n",
       "    <tr>\n",
       "      <th>75%</th>\n",
       "      <td>12.236750</td>\n",
       "      <td>34.750000</td>\n",
       "      <td>0.000000</td>\n",
       "      <td>1.386761</td>\n",
       "      <td>1.000000</td>\n",
       "      <td>0.000000</td>\n",
       "      <td>2.000000</td>\n",
       "      <td>0.000000</td>\n",
       "      <td>3.000000</td>\n",
       "      <td>1.000000</td>\n",
       "      <td>...</td>\n",
       "      <td>2.000000</td>\n",
       "      <td>6.000000</td>\n",
       "      <td>0.000000</td>\n",
       "      <td>0.000000</td>\n",
       "      <td>0.000000</td>\n",
       "      <td>0.000000</td>\n",
       "      <td>0.000000</td>\n",
       "      <td>0.000000</td>\n",
       "      <td>0.000000</td>\n",
       "      <td>0.000000</td>\n",
       "    </tr>\n",
       "    <tr>\n",
       "      <th>max</th>\n",
       "      <td>34.809000</td>\n",
       "      <td>103.000000</td>\n",
       "      <td>5.000000</td>\n",
       "      <td>2.170291</td>\n",
       "      <td>2.000000</td>\n",
       "      <td>1.000000</td>\n",
       "      <td>5.000000</td>\n",
       "      <td>1.000000</td>\n",
       "      <td>8.000000</td>\n",
       "      <td>1.000000</td>\n",
       "      <td>...</td>\n",
       "      <td>7.000000</td>\n",
       "      <td>7.000000</td>\n",
       "      <td>1.000000</td>\n",
       "      <td>1.000000</td>\n",
       "      <td>1.000000</td>\n",
       "      <td>1.000000</td>\n",
       "      <td>1.000000</td>\n",
       "      <td>1.000000</td>\n",
       "      <td>1.000000</td>\n",
       "      <td>1.000000</td>\n",
       "    </tr>\n",
       "  </tbody>\n",
       "</table>\n",
       "<p>8 rows × 29 columns</p>\n",
       "</div>"
      ],
      "text/plain": [
       "       Time_to_firstclick  Fixation_count  Fixation_loss  Log_completionD  \\\n",
       "count          128.000000      128.000000     128.000000       128.000000   \n",
       "mean             9.266883       25.992188       0.226562         1.296752   \n",
       "std              6.345256       20.869107       0.785848         0.231198   \n",
       "min              1.399000        2.000000       0.000000         0.927319   \n",
       "25%              4.216500       11.000000       0.000000         1.136648   \n",
       "50%              8.049000       19.000000       0.000000         1.253817   \n",
       "75%             12.236750       34.750000       0.000000         1.386761   \n",
       "max             34.809000      103.000000       5.000000         2.170291   \n",
       "\n",
       "       Page_visit  Wrong_answer  Clicked_link    Scrolled  \\\n",
       "count  128.000000    128.000000    128.000000  128.000000   \n",
       "mean     1.054688      0.046875      1.476562    0.187500   \n",
       "std      0.228263      0.212202      0.878123    0.391846   \n",
       "min      1.000000      0.000000      1.000000    0.000000   \n",
       "25%      1.000000      0.000000      1.000000    0.000000   \n",
       "50%      1.000000      0.000000      1.000000    0.000000   \n",
       "75%      1.000000      0.000000      2.000000    0.000000   \n",
       "max      2.000000      1.000000      5.000000    1.000000   \n",
       "\n",
       "       Minimal_scanpath_value    Complete  ...   Trackback  Task_satisfaction  \\\n",
       "count              128.000000  128.000000  ...  128.000000         128.000000   \n",
       "mean                 2.406250    0.976562  ...    1.460938           4.875000   \n",
       "std                  1.282453    0.151883  ...    1.303553           1.430819   \n",
       "min                  1.000000    0.000000  ...    0.000000           1.000000   \n",
       "25%                  2.000000    1.000000  ...    1.000000           4.000000   \n",
       "50%                  2.000000    1.000000  ...    1.000000           5.000000   \n",
       "75%                  3.000000    1.000000  ...    2.000000           6.000000   \n",
       "max                  8.000000    1.000000  ...    7.000000           7.000000   \n",
       "\n",
       "       TaskNum_t1  TaskNum_t2  TaskNum_t3  TaskNum_t4  TaskNum_t5  TaskNum_t6  \\\n",
       "count  128.000000  128.000000  128.000000  128.000000  128.000000  128.000000   \n",
       "mean     0.117188    0.109375    0.101562    0.109375    0.132812    0.125000   \n",
       "std      0.322907    0.313335    0.303259    0.313335    0.340705    0.332018   \n",
       "min      0.000000    0.000000    0.000000    0.000000    0.000000    0.000000   \n",
       "25%      0.000000    0.000000    0.000000    0.000000    0.000000    0.000000   \n",
       "50%      0.000000    0.000000    0.000000    0.000000    0.000000    0.000000   \n",
       "75%      0.000000    0.000000    0.000000    0.000000    0.000000    0.000000   \n",
       "max      1.000000    1.000000    1.000000    1.000000    1.000000    1.000000   \n",
       "\n",
       "       TaskNum_t7  TaskNum_t8  \n",
       "count  128.000000  128.000000  \n",
       "mean     0.093750    0.117188  \n",
       "std      0.292626    0.322907  \n",
       "min      0.000000    0.000000  \n",
       "25%      0.000000    0.000000  \n",
       "50%      0.000000    0.000000  \n",
       "75%      0.000000    0.000000  \n",
       "max      1.000000    1.000000  \n",
       "\n",
       "[8 rows x 29 columns]"
      ]
     },
     "execution_count": 187,
     "metadata": {},
     "output_type": "execute_result"
    }
   ],
   "source": [
    "X_train.describe()"
   ]
  },
  {
   "cell_type": "code",
   "execution_count": 218,
   "metadata": {},
   "outputs": [
    {
     "data": {
      "image/png": "[encoded data removed]",
      "text/plain": [
       "<Figure size 432x288 with 1 Axes>"
      ]
     },
     "metadata": {
      "needs_background": "light"
     },
     "output_type": "display_data"
    }
   ],
   "source": [
    "from sklearn.cluster import KMeans\n",
    "\n",
    "inertias = [] \n",
    "K = range(1,15) \n",
    "  \n",
    "for k in K: \n",
    "    #Building and fitting the model \n",
    "    kmeanModel = KMeans(n_clusters=k)\n",
    "    kmeanModel.fit(X_train_scaled)     \n",
    "      \n",
    "    inertias.append(kmeanModel.inertia_) \n",
    "\n",
    "plt.plot(K, inertias, 'bx-') \n",
    "plt.xlabel('Values of K') \n",
    "plt.ylabel('Inertia') \n",
    "plt.title('The Elbow Method using Inertia') \n",
    "# plt.vlines(x=4, ymin=0, ymax=20000)\n",
    "plt.show() "
   ]
  },
  {
   "cell_type": "code",
   "execution_count": 266,
   "metadata": {},
   "outputs": [
    {
     "data": {
      "text/plain": [
       "<matplotlib.collections.PathCollection at 0x1cce0039348>"
      ]
     },
     "execution_count": 266,
     "metadata": {},
     "output_type": "execute_result"
    },
    {
     "data": {
      "image/png": "[encoded data removed]",
      "text/plain": [
       "<Figure size 432x288 with 1 Axes>"
      ]
     },
     "metadata": {
      "needs_background": "light"
     },
     "output_type": "display_data"
    }
   ],
   "source": [
    "k=int(128 ** 0.5)\n",
    "\n",
    "kmeanModel = KMeans(n_clusters=k)\n",
    "kmeanModel.fit(X_train_scaled)    \n",
    "\n",
    "clusters = kmeanModel.predict(X_train_scaled)\n",
    "\n",
    "plt.scatter(X_train_scaled_pca[:,0], X_train_scaled_pca[:,1], c=clusters, cmap='gray', s=200, alpha=0.4)"
   ]
  },
  {
   "cell_type": "code",
   "execution_count": 264,
   "metadata": {},
   "outputs": [
    {
     "name": "stdout",
     "output_type": "stream",
     "text": [
      "Total number of observations =  128\n",
      "6.0     10\n",
      "8.0      8\n",
      "10.0     5\n",
      "9.0      4\n",
      "3.0      4\n",
      "5.0      3\n",
      "1.0      2\n",
      "0.0      2\n",
      "2.0      2\n",
      "4.0      2\n",
      "7.0      1\n",
      "Name: 0, dtype: int64\n",
      "7.0     8\n",
      "9.0     7\n",
      "6.0     6\n",
      "10.0    5\n",
      "0.0     4\n",
      "8.0     4\n",
      "5.0     2\n",
      "1.0     2\n",
      "2.0     2\n",
      "4.0     2\n",
      "3.0     1\n",
      "Name: 1, dtype: int64\n",
      "6.0     9\n",
      "2.0     7\n",
      "10.0    6\n",
      "1.0     4\n",
      "3.0     4\n",
      "7.0     3\n",
      "4.0     3\n",
      "9.0     2\n",
      "0.0     2\n",
      "5.0     2\n",
      "Name: 2, dtype: int64\n",
      "Series([], Name: 3, dtype: int64)\n",
      "Series([], Name: 4, dtype: int64)\n",
      "Series([], Name: 5, dtype: int64)\n",
      "Series([], Name: 6, dtype: int64)\n",
      "Series([], Name: 7, dtype: int64)\n",
      "Series([], Name: 8, dtype: int64)\n",
      "Series([], Name: 9, dtype: int64)\n",
      "Series([], Name: 10, dtype: int64)\n"
     ]
    }
   ],
   "source": [
    "k= int(128 ** 0.5)\n",
    "\n",
    "kmeanModel = KMeans(n_clusters=k)\n",
    "kmeanModel.fit(X_train_scaled)    \n",
    "\n",
    "clusters = kmeanModel.predict(X_train_scaled)\n",
    "\n",
    "m = np.array(list(zip(y_train.values, clusters)))\n",
    "\n",
    "total = m.shape[0]\n",
    "print(\"Total number of observations = \", total)\n",
    "\n",
    "targets = {i:[] for i in np.arange(k)}\n",
    "\n",
    "for y, c in m:\n",
    "    \n",
    "    targets[y].append(c)\n",
    "    \n",
    "    for i in np.arange(k):\n",
    "        if i != y:\n",
    "            targets[i].append(np.nan)\n",
    "\n",
    "df = pd.DataFrame(targets)\n",
    "\n",
    "for col in df:\n",
    "    print(df[col].value_counts())"
   ]
  },
  {
   "cell_type": "code",
   "execution_count": null,
   "metadata": {},
   "outputs": [],
   "source": []
  },
  {
   "cell_type": "code",
   "execution_count": null,
   "metadata": {},
   "outputs": [],
   "source": []
  },
  {
   "cell_type": "code",
   "execution_count": null,
   "metadata": {},
   "outputs": [],
   "source": []
  }
 ],
 "metadata": {
  "kernelspec": {
   "display_name": "Python 3",
   "language": "python",
   "name": "python3"
  },
  "language_info": {
   "codemirror_mode": {
    "name": "ipython",
    "version": 3
   },
   "file_extension": ".py",
   "mimetype": "text/x-python",
   "name": "python",
   "nbconvert_exporter": "python",
   "pygments_lexer": "ipython3",
   "version": "3.7.7"
  }
 },
 "nbformat": 4,
 "nbformat_minor": 4
}
