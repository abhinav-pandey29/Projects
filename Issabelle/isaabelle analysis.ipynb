{
 "cells": [
  {
   "cell_type": "code",
   "execution_count": 262,
   "metadata": {},
   "outputs": [],
   "source": [
    "import numpy as np\n",
    "import pandas as pd\n",
    "import matplotlib.pyplot as plt"
   ]
  },
  {
   "cell_type": "code",
   "execution_count": 263,
   "metadata": {},
   "outputs": [],
   "source": [
    "employee_names = {'employee_name': ['Rizwan', 'Nafees', 'Chitan', 'Nanku', 'Shipla', 'Jyoti', 'Nancy']}\n",
    "service_category = ['job_work', 'product', 'pkg_service']"
   ]
  },
  {
   "cell_type": "code",
   "execution_count": 328,
   "metadata": {},
   "outputs": [],
   "source": [
    "data = pd.read_excel('DSR Nov 2019 Yash Ariyan.xlsx', header=4)"
   ]
  },
  {
   "cell_type": "code",
   "execution_count": 329,
   "metadata": {
    "scrolled": true
   },
   "outputs": [
    {
     "data": {
      "text/html": [
       "<div>\n",
       "<style scoped>\n",
       "    .dataframe tbody tr th:only-of-type {\n",
       "        vertical-align: middle;\n",
       "    }\n",
       "\n",
       "    .dataframe tbody tr th {\n",
       "        vertical-align: top;\n",
       "    }\n",
       "\n",
       "    .dataframe thead th {\n",
       "        text-align: right;\n",
       "    }\n",
       "</style>\n",
       "<table border=\"1\" class=\"dataframe\">\n",
       "  <thead>\n",
       "    <tr style=\"text-align: right;\">\n",
       "      <th></th>\n",
       "      <th>JOB WORK</th>\n",
       "      <th>PRODUCT</th>\n",
       "      <th>Package Service</th>\n",
       "      <th>JOB WORK.1</th>\n",
       "      <th>PRODUCT.1</th>\n",
       "      <th>Package Service.1</th>\n",
       "      <th>JOB WORK.2</th>\n",
       "      <th>PRODUCT.2</th>\n",
       "      <th>Package Service.2</th>\n",
       "      <th>JOB WORK.3</th>\n",
       "      <th>...</th>\n",
       "      <th>Package Service.3</th>\n",
       "      <th>JOB WORK.4</th>\n",
       "      <th>PRODUCT.4</th>\n",
       "      <th>Package Service.4</th>\n",
       "      <th>JOB WORK.5</th>\n",
       "      <th>PRODUCT.5</th>\n",
       "      <th>Package Service.5</th>\n",
       "      <th>JOB WORK.6</th>\n",
       "      <th>PRODUCT.6</th>\n",
       "      <th>Package Service.6</th>\n",
       "    </tr>\n",
       "  </thead>\n",
       "  <tbody>\n",
       "    <tr>\n",
       "      <th>2019-11-01 00:00:00</th>\n",
       "      <td>8560</td>\n",
       "      <td>0</td>\n",
       "      <td>0</td>\n",
       "      <td>0</td>\n",
       "      <td>0</td>\n",
       "      <td>0</td>\n",
       "      <td>550</td>\n",
       "      <td>0</td>\n",
       "      <td>0</td>\n",
       "      <td>0</td>\n",
       "      <td>...</td>\n",
       "      <td>0</td>\n",
       "      <td>500</td>\n",
       "      <td>0</td>\n",
       "      <td>0</td>\n",
       "      <td>0</td>\n",
       "      <td>0</td>\n",
       "      <td>0</td>\n",
       "      <td>0</td>\n",
       "      <td>0</td>\n",
       "      <td>0</td>\n",
       "    </tr>\n",
       "    <tr>\n",
       "      <th>2019-11-02 00:00:00</th>\n",
       "      <td>1530</td>\n",
       "      <td>780</td>\n",
       "      <td>0</td>\n",
       "      <td>550</td>\n",
       "      <td>0</td>\n",
       "      <td>0</td>\n",
       "      <td>1250</td>\n",
       "      <td>0</td>\n",
       "      <td>0</td>\n",
       "      <td>0</td>\n",
       "      <td>...</td>\n",
       "      <td>0</td>\n",
       "      <td>0</td>\n",
       "      <td>0</td>\n",
       "      <td>0</td>\n",
       "      <td>0</td>\n",
       "      <td>0</td>\n",
       "      <td>0</td>\n",
       "      <td>0</td>\n",
       "      <td>0</td>\n",
       "      <td>0</td>\n",
       "    </tr>\n",
       "    <tr>\n",
       "      <th>2019-11-03 00:00:00</th>\n",
       "      <td>2850</td>\n",
       "      <td>0</td>\n",
       "      <td>0</td>\n",
       "      <td>800</td>\n",
       "      <td>0</td>\n",
       "      <td>0</td>\n",
       "      <td>1000</td>\n",
       "      <td>0</td>\n",
       "      <td>0</td>\n",
       "      <td>0</td>\n",
       "      <td>...</td>\n",
       "      <td>0</td>\n",
       "      <td>130</td>\n",
       "      <td>0</td>\n",
       "      <td>0</td>\n",
       "      <td>1000</td>\n",
       "      <td>0</td>\n",
       "      <td>0</td>\n",
       "      <td>0</td>\n",
       "      <td>0</td>\n",
       "      <td>0</td>\n",
       "    </tr>\n",
       "  </tbody>\n",
       "</table>\n",
       "<p>3 rows × 21 columns</p>\n",
       "</div>"
      ],
      "text/plain": [
       "                     JOB WORK  PRODUCT  Package Service  JOB WORK.1  \\\n",
       "2019-11-01 00:00:00      8560        0                0           0   \n",
       "2019-11-02 00:00:00      1530      780                0         550   \n",
       "2019-11-03 00:00:00      2850        0                0         800   \n",
       "\n",
       "                     PRODUCT.1  Package Service.1  JOB WORK.2  PRODUCT.2  \\\n",
       "2019-11-01 00:00:00          0                  0         550          0   \n",
       "2019-11-02 00:00:00          0                  0        1250          0   \n",
       "2019-11-03 00:00:00          0                  0        1000          0   \n",
       "\n",
       "                     Package Service.2  JOB WORK.3        ...          \\\n",
       "2019-11-01 00:00:00                  0           0        ...           \n",
       "2019-11-02 00:00:00                  0           0        ...           \n",
       "2019-11-03 00:00:00                  0           0        ...           \n",
       "\n",
       "                     Package Service.3  JOB WORK.4  PRODUCT.4  \\\n",
       "2019-11-01 00:00:00                  0         500          0   \n",
       "2019-11-02 00:00:00                  0           0          0   \n",
       "2019-11-03 00:00:00                  0         130          0   \n",
       "\n",
       "                     Package Service.4  JOB WORK.5  PRODUCT.5  \\\n",
       "2019-11-01 00:00:00                  0           0          0   \n",
       "2019-11-02 00:00:00                  0           0          0   \n",
       "2019-11-03 00:00:00                  0        1000          0   \n",
       "\n",
       "                     Package Service.5  JOB WORK.6  PRODUCT.6  \\\n",
       "2019-11-01 00:00:00                  0           0          0   \n",
       "2019-11-02 00:00:00                  0           0          0   \n",
       "2019-11-03 00:00:00                  0           0          0   \n",
       "\n",
       "                     Package Service.6  \n",
       "2019-11-01 00:00:00                  0  \n",
       "2019-11-02 00:00:00                  0  \n",
       "2019-11-03 00:00:00                  0  \n",
       "\n",
       "[3 rows x 21 columns]"
      ]
     },
     "execution_count": 329,
     "metadata": {},
     "output_type": "execute_result"
    }
   ],
   "source": [
    "# Dropping NearBy column (for now)\n",
    "data.drop(['JOB WORK.8','Unnamed: 25','JOB WORK.7', 'PRODUCT.7', 'Package Service.7'], axis=1, inplace=True)\n",
    "data.head(3)"
   ]
  },
  {
   "cell_type": "code",
   "execution_count": 330,
   "metadata": {},
   "outputs": [
    {
     "data": {
      "text/plain": [
       "datetime.datetime(2019, 11, 1, 0, 0)"
      ]
     },
     "execution_count": 330,
     "metadata": {},
     "output_type": "execute_result"
    }
   ],
   "source": [
    "data.index[0]"
   ]
  },
  {
   "cell_type": "code",
   "execution_count": 331,
   "metadata": {},
   "outputs": [
    {
     "data": {
      "text/plain": [
       "Index(['JOB WORK', 'PRODUCT', 'Package Service', 'JOB WORK.1', 'PRODUCT.1',\n",
       "       'Package Service.1', 'JOB WORK.2', 'PRODUCT.2', 'Package Service.2',\n",
       "       'JOB WORK.3', 'PRODUCT.3', 'Package Service.3', 'JOB WORK.4',\n",
       "       'PRODUCT.4', 'Package Service.4', 'JOB WORK.5', 'PRODUCT.5',\n",
       "       'Package Service.5', 'JOB WORK.6', 'PRODUCT.6', 'Package Service.6'],\n",
       "      dtype='object')"
      ]
     },
     "execution_count": 331,
     "metadata": {},
     "output_type": "execute_result"
    }
   ],
   "source": [
    "data.columns"
   ]
  },
  {
   "cell_type": "code",
   "execution_count": 332,
   "metadata": {},
   "outputs": [
    {
     "data": {
      "text/plain": [
       "array([  8560,   1530,   2850,   1530,   1050,      0,   3500,   1120,\n",
       "          100,    940,    470,   6600,   2940,   3740,    350,    600,\n",
       "        10350,      0,   7455,   6175,   1190,   7770,   2830,   2320,\n",
       "            0,      0,  12160,   4052,   8560,   2411,      0, 101153],\n",
       "      dtype=int64)"
      ]
     },
     "execution_count": 332,
     "metadata": {},
     "output_type": "execute_result"
    }
   ],
   "source": [
    "data.iloc[:,0].values"
   ]
  },
  {
   "cell_type": "code",
   "execution_count": 333,
   "metadata": {},
   "outputs": [],
   "source": [
    "# Uncomment and Run cell to drop the DATE column from the dataframe\n",
    "\n",
    "# data.drop('DATE', axis=1,inplace=True)\n",
    "# data.head(3)"
   ]
  },
  {
   "cell_type": "code",
   "execution_count": 334,
   "metadata": {},
   "outputs": [
    {
     "name": "stdout",
     "output_type": "stream",
     "text": [
      "Column names -  Index(['date', 'employee_name', 'job_work', 'product', 'pkg_service'], dtype='object')\n",
      "Is the dataframe empty ? Yes\n"
     ]
    }
   ],
   "source": [
    "data_clean = {'date':{},'employee_name':{}}\n",
    "x=0\n",
    "for category in service_category:\n",
    "    \n",
    "    if category not in data_clean.keys():\n",
    "        data_clean[category] = {}\n",
    "        \n",
    "df = pd.DataFrame(data_clean)\n",
    "print(\"Column names - \", df.columns)\n",
    "print(\"Is the dataframe empty ?\", \"Yes\" if (df.shape[0]==0) else \"NO\")"
   ]
  },
  {
   "cell_type": "code",
   "execution_count": 335,
   "metadata": {},
   "outputs": [],
   "source": [
    "\n",
    "\n",
    "n = 3\n",
    "colrange = len(data.columns)\n",
    "rowrange = data.shape[0]\n",
    "\n",
    "for i in range(int(colrange / 3)):\n",
    "    for j in range(rowrange):\n",
    "        \n",
    "        date = data.index[j]\n",
    "        employee = employee_names['employee_name'][i]\n",
    "        jwork = data.iloc[:,n*i].values[j]\n",
    "        prod =  data.iloc[:,n*i+1].values[j]\n",
    "        pkg = data.iloc[:,n*i+2].values[j]\n",
    "        \n",
    "        new_row = {'date':date,\n",
    "                   'employee_name': employee,\n",
    "                   'job_work': jwork,\n",
    "                   'product': prod,\n",
    "                   'pkg_service': pkg}\n",
    "        \n",
    "        df = df.append(new_row, ignore_index=True)\n",
    "        \n",
    "        \n",
    "# df.dropna(inplace=True)\n",
    "df.set_index('date', inplace=True)"
   ]
  },
  {
   "cell_type": "code",
   "execution_count": 336,
   "metadata": {},
   "outputs": [
    {
     "data": {
      "image/png": "[encoded data removed]",
      "text/plain": [
       "<Figure size 432x288 with 1 Axes>"
      ]
     },
     "metadata": {
      "needs_background": "light"
     },
     "output_type": "display_data"
    }
   ],
   "source": [
    "sales_sum = df.groupby('employee_name').sum().sort_values(['job_work'])\n",
    "\n",
    "sales_sum['job_work'].plot(kind='bar')\n",
    "plt.show()"
   ]
  },
  {
   "cell_type": "code",
   "execution_count": 337,
   "metadata": {},
   "outputs": [
    {
     "data": {
      "image/png": "[encoded data removed]",
      "text/plain": [
       "<Figure size 432x288 with 1 Axes>"
      ]
     },
     "metadata": {
      "needs_background": "light"
     },
     "output_type": "display_data"
    }
   ],
   "source": [
    "sales_mean = df.groupby('employee_name').mean()\n",
    "sales_mean_sorted = sales_mean.sort_values(['job_work'])\n",
    "\n",
    "sales_mean_sorted['job_work'].plot(kind='bar')\n",
    "plt.show()"
   ]
  },
  {
   "cell_type": "code",
   "execution_count": 338,
   "metadata": {},
   "outputs": [
    {
     "data": {
      "text/plain": [
       "pandas._libs.tslibs.timestamps.Timestamp"
      ]
     },
     "execution_count": 338,
     "metadata": {},
     "output_type": "execute_result"
    }
   ],
   "source": [
    "type(df.index[0])"
   ]
  },
  {
   "cell_type": "code",
   "execution_count": 339,
   "metadata": {
    "scrolled": true
   },
   "outputs": [],
   "source": [
    "def plot_emp_hist(df, employee_name_list):\n",
    "    \n",
    "    \n",
    "    fig, axs = plt.subplots(3,3, figsize=(20,10))\n",
    "    col=0\n",
    "    row=0\n",
    "    for employee_name in employee_name_list:\n",
    "        rf = df.loc[df.employee_name == employee_name]\n",
    "\n",
    "        # Removes rows indexed as nan and total\n",
    "        rf.drop(rf.tail(2).index, inplace=True)\n",
    "\n",
    "        rf.job_work.hist(ax=axs[row,col], bins=[0,2000,4000,6000,8000,10000,12000,14000])\n",
    "        plt.title(employee_name)\n",
    "        \n",
    "        if col == 2 or col == 5:\n",
    "            col=0\n",
    "        else:\n",
    "            col += 1\n",
    "        if col == 2 or col == 5 or col==8:\n",
    "            row += 1\n",
    "        \n",
    "        \n",
    "#     plt.xlabel('Sales per Day')\n",
    "#     plt.ylabel('Frequency')\n",
    "    plt.show()"
   ]
  },
  {
   "cell_type": "code",
   "execution_count": 303,
   "metadata": {},
   "outputs": [
    {
     "data": {
      "text/plain": [
       "['Rizwan', 'Nafees', 'Chitan', 'Nanku', 'Shipla', 'Jyoti', 'Nancy']"
      ]
     },
     "execution_count": 303,
     "metadata": {},
     "output_type": "execute_result"
    }
   ],
   "source": [
    "employee_name = employee_names['employee_name']\n",
    "employee_name"
   ]
  },
  {
   "cell_type": "code",
   "execution_count": 340,
   "metadata": {},
   "outputs": [
    {
     "data": {
      "image/png": "[encoded data removed]",
      "text/plain": [
       "<Figure size 1440x720 with 9 Axes>"
      ]
     },
     "metadata": {
      "needs_background": "light"
     },
     "output_type": "display_data"
    }
   ],
   "source": [
    "plot_emp_hist(df, employee_name)"
   ]
  },
  {
   "cell_type": "code",
   "execution_count": 343,
   "metadata": {},
   "outputs": [
    {
     "data": {
      "image/png": "[encoded data removed]",
      "text/plain": [
       "<Figure size 432x288 with 1 Axes>"
      ]
     },
     "metadata": {
      "needs_background": "light"
     },
     "output_type": "display_data"
    }
   ],
   "source": [
    "rf = df.loc[df.employee_name == 'Rizwan']\n",
    "\n",
    "# Removes rows indexed as nan and total\n",
    "# rf.drop(rf.tail(2).index, inplace=True)\n",
    "\n",
    "rf.job_work.hist(bins=[0,2000,4000,6000,8000,10000,12000,14000])\n",
    "# plt.title(employee_name)\n",
    "plt.show()"
   ]
  }
 ],
 "metadata": {
  "kernelspec": {
   "display_name": "Python 3",
   "language": "python",
   "name": "python3"
  },
  "language_info": {
   "codemirror_mode": {
    "name": "ipython",
    "version": 3
   },
   "file_extension": ".py",
   "mimetype": "text/x-python",
   "name": "python",
   "nbconvert_exporter": "python",
   "pygments_lexer": "ipython3",
   "version": "3.7.1"
  }
 },
 "nbformat": 4,
 "nbformat_minor": 2
}
