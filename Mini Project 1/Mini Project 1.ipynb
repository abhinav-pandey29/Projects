{
 "cells": [
  {
   "cell_type": "markdown",
   "metadata": {},
   "source": [
    "# CLASSIFYING SONG GENRES (HIP-HOP or ROCK)"
   ]
  },
  {
   "cell_type": "markdown",
   "metadata": {},
   "source": [
    "## 1. Preparing our dataset\n",
    "\n",
    "Over the past few years, streaming services with huge catalogs have become the primary means through which most people listen to their favorite music. But at the same time, the sheer amount of music on offer can mean users might be a bit overwhelmed when trying to look for newer music that suits their tastes.\n",
    "\n",
    "For this reason, streaming services have looked into means of categorizing music to allow for **personalized recommendations**. One method involves direct analysis of the raw audio information in a given song, scoring the raw data on a variety of metrics. We'll be examining data compiled by a research group known as The Echo Nest. Our goal is to look through this dataset and **classify songs as being either 'Hip-Hop' or 'Rock'** - all without listening to a single one ourselves. \n",
    "\n",
    "In doing so, we will learn how to clean our data, do some exploratory data visualization, and use feature reduction towards the goal of feeding our data through some simple machine learning algorithms, such as decision trees and logistic regression.\n",
    "\n",
    "This project invloves the following :\n",
    "- Data Cleaning\n",
    "- Exploratory Data Visualizations\n",
    "- PCA for simplifying the modelling process\n",
    "- Downsampling to balance our dataset\n",
    "- Classification using Decision Trees and Logistic Regression\n",
    "\n",
    "To begin with, let's load the metadata(contains our song genre **labels**) about our tracks alongside the track metrics compiled by The Echo Nest. A song is about more than its title, artist, and number of listens. We have another dataset that has musical features of each track such as <code>danceability</code>, <code>acousticness</code>, <code>energy</code>, <code>instrumentalness</code>,<code>liveness</code>, <code>speechiness</code>, <code>tempo</code> and <code>valence</code> on a scale from -1 to 1 stored as a json file."
   ]
  },
  {
   "cell_type": "code",
   "execution_count": 1,
   "metadata": {},
   "outputs": [
    {
     "name": "stdout",
     "output_type": "stream",
     "text": [
      "<class 'pandas.core.frame.DataFrame'>\n",
      "Int64Index: 4802 entries, 0 to 4801\n",
      "Data columns (total 10 columns):\n",
      "track_id            4802 non-null int64\n",
      "acousticness        4802 non-null float64\n",
      "danceability        4802 non-null float64\n",
      "energy              4802 non-null float64\n",
      "instrumentalness    4802 non-null float64\n",
      "liveness            4802 non-null float64\n",
      "speechiness         4802 non-null float64\n",
      "tempo               4802 non-null float64\n",
      "valence             4802 non-null float64\n",
      "genre_top           4802 non-null object\n",
      "dtypes: float64(8), int64(1), object(1)\n",
      "memory usage: 412.7+ KB\n"
     ]
    }
   ],
   "source": [
    "import pandas as pd\n",
    "\n",
    "# Read in track metadata with genre labels\n",
    "tracks = pd.read_csv(\"datasets/fma-rock-vs-hiphop.csv\")\n",
    "\n",
    "# Read in track metrics with the features\n",
    "echonest_metrics = pd.read_json(\"datasets/echonest-metrics.json\")\n",
    "\n",
    "# Merge the relevant columns of tracks and echonest_metrics\n",
    "echo_tracks = pd.merge(echonest_metrics, tracks[['track_id', 'genre_top']], on='track_id')\n",
    "\n",
    "# Inspect the resultant dataframe\n",
    "echo_tracks.info()"
   ]
  },
  {
   "cell_type": "code",
   "execution_count": 2,
   "metadata": {},
   "outputs": [
    {
     "data": {
      "text/html": [
       "<div>\n",
       "<style scoped>\n",
       "    .dataframe tbody tr th:only-of-type {\n",
       "        vertical-align: middle;\n",
       "    }\n",
       "\n",
       "    .dataframe tbody tr th {\n",
       "        vertical-align: top;\n",
       "    }\n",
       "\n",
       "    .dataframe thead th {\n",
       "        text-align: right;\n",
       "    }\n",
       "</style>\n",
       "<table border=\"1\" class=\"dataframe\">\n",
       "  <thead>\n",
       "    <tr style=\"text-align: right;\">\n",
       "      <th></th>\n",
       "      <th>track_id</th>\n",
       "      <th>acousticness</th>\n",
       "      <th>danceability</th>\n",
       "      <th>energy</th>\n",
       "      <th>instrumentalness</th>\n",
       "      <th>liveness</th>\n",
       "      <th>speechiness</th>\n",
       "      <th>tempo</th>\n",
       "      <th>valence</th>\n",
       "      <th>genre_top</th>\n",
       "    </tr>\n",
       "  </thead>\n",
       "  <tbody>\n",
       "    <tr>\n",
       "      <td>0</td>\n",
       "      <td>2</td>\n",
       "      <td>0.416675</td>\n",
       "      <td>0.675894</td>\n",
       "      <td>0.634476</td>\n",
       "      <td>0.010628</td>\n",
       "      <td>0.177647</td>\n",
       "      <td>0.159310</td>\n",
       "      <td>165.922</td>\n",
       "      <td>0.576661</td>\n",
       "      <td>Hip-Hop</td>\n",
       "    </tr>\n",
       "    <tr>\n",
       "      <td>1</td>\n",
       "      <td>3</td>\n",
       "      <td>0.374408</td>\n",
       "      <td>0.528643</td>\n",
       "      <td>0.817461</td>\n",
       "      <td>0.001851</td>\n",
       "      <td>0.105880</td>\n",
       "      <td>0.461818</td>\n",
       "      <td>126.957</td>\n",
       "      <td>0.269240</td>\n",
       "      <td>Hip-Hop</td>\n",
       "    </tr>\n",
       "    <tr>\n",
       "      <td>2</td>\n",
       "      <td>5</td>\n",
       "      <td>0.043567</td>\n",
       "      <td>0.745566</td>\n",
       "      <td>0.701470</td>\n",
       "      <td>0.000697</td>\n",
       "      <td>0.373143</td>\n",
       "      <td>0.124595</td>\n",
       "      <td>100.260</td>\n",
       "      <td>0.621661</td>\n",
       "      <td>Hip-Hop</td>\n",
       "    </tr>\n",
       "    <tr>\n",
       "      <td>3</td>\n",
       "      <td>134</td>\n",
       "      <td>0.452217</td>\n",
       "      <td>0.513238</td>\n",
       "      <td>0.560410</td>\n",
       "      <td>0.019443</td>\n",
       "      <td>0.096567</td>\n",
       "      <td>0.525519</td>\n",
       "      <td>114.290</td>\n",
       "      <td>0.894072</td>\n",
       "      <td>Hip-Hop</td>\n",
       "    </tr>\n",
       "    <tr>\n",
       "      <td>4</td>\n",
       "      <td>153</td>\n",
       "      <td>0.988306</td>\n",
       "      <td>0.255661</td>\n",
       "      <td>0.979774</td>\n",
       "      <td>0.973006</td>\n",
       "      <td>0.121342</td>\n",
       "      <td>0.051740</td>\n",
       "      <td>90.241</td>\n",
       "      <td>0.034018</td>\n",
       "      <td>Rock</td>\n",
       "    </tr>\n",
       "  </tbody>\n",
       "</table>\n",
       "</div>"
      ],
      "text/plain": [
       "   track_id  acousticness  danceability    energy  instrumentalness  liveness  \\\n",
       "0         2      0.416675      0.675894  0.634476          0.010628  0.177647   \n",
       "1         3      0.374408      0.528643  0.817461          0.001851  0.105880   \n",
       "2         5      0.043567      0.745566  0.701470          0.000697  0.373143   \n",
       "3       134      0.452217      0.513238  0.560410          0.019443  0.096567   \n",
       "4       153      0.988306      0.255661  0.979774          0.973006  0.121342   \n",
       "\n",
       "   speechiness    tempo   valence genre_top  \n",
       "0     0.159310  165.922  0.576661   Hip-Hop  \n",
       "1     0.461818  126.957  0.269240   Hip-Hop  \n",
       "2     0.124595  100.260  0.621661   Hip-Hop  \n",
       "3     0.525519  114.290  0.894072   Hip-Hop  \n",
       "4     0.051740   90.241  0.034018      Rock  "
      ]
     },
     "execution_count": 2,
     "metadata": {},
     "output_type": "execute_result"
    }
   ],
   "source": [
    "echo_tracks.head()"
   ]
  },
  {
   "cell_type": "code",
   "execution_count": 20,
   "metadata": {},
   "outputs": [
    {
     "data": {
      "image/png": "[encoded data removed]",
      "text/plain": [
       "<Figure size 720x360 with 1 Axes>"
      ]
     },
     "metadata": {
      "needs_background": "light"
     },
     "output_type": "display_data"
    }
   ],
   "source": [
    "import matplotlib.pyplot as plt\n",
    "\n",
    "# Get the number of Hip-Hop and Rock songs in the data\n",
    "counts = echo_tracks.genre_top.value_counts()\n",
    "\n",
    "# Plot the counts\n",
    "plt.figure(figsize=(10,5))\n",
    "plt.bar(x = counts.index, height=counts)\n",
    "plt.title(\"Number of Rock vs Hip-Hop Songs\")\n",
    "plt.ylabel(\"Counts\")\n",
    "plt.show()"
   ]
  },
  {
   "cell_type": "markdown",
   "metadata": {},
   "source": [
    "## 2. Pairwise relationships between continuous variables\n",
    "\n",
    "We typically want to avoid using variables that have strong correlations with each other because -\n",
    "\n",
    "- Fewer features means a simpler and faster model"
   ]
  },
  {
   "cell_type": "code",
   "execution_count": 3,
   "metadata": {
    "dc": {
     "key": "10"
    },
    "tags": [
     "sample_code"
    ]
   },
   "outputs": [
    {
     "data": {
      "text/html": [
       "<style  type=\"text/css\" >\n",
       "    #T_59cc614c_63f4_11ea_b2e5_ed28b57a35b2row0_col0 {\n",
       "            background-color:  #023858;\n",
       "            color:  #f1f1f1;\n",
       "        }    #T_59cc614c_63f4_11ea_b2e5_ed28b57a35b2row0_col1 {\n",
       "            background-color:  #fff7fb;\n",
       "            color:  #000000;\n",
       "        }    #T_59cc614c_63f4_11ea_b2e5_ed28b57a35b2row0_col2 {\n",
       "            background-color:  #d2d2e7;\n",
       "            color:  #000000;\n",
       "        }    #T_59cc614c_63f4_11ea_b2e5_ed28b57a35b2row0_col3 {\n",
       "            background-color:  #b5c4df;\n",
       "            color:  #000000;\n",
       "        }    #T_59cc614c_63f4_11ea_b2e5_ed28b57a35b2row0_col4 {\n",
       "            background-color:  #f5eef6;\n",
       "            color:  #000000;\n",
       "        }    #T_59cc614c_63f4_11ea_b2e5_ed28b57a35b2row0_col5 {\n",
       "            background-color:  #e9e5f1;\n",
       "            color:  #000000;\n",
       "        }    #T_59cc614c_63f4_11ea_b2e5_ed28b57a35b2row0_col6 {\n",
       "            background-color:  #d1d2e6;\n",
       "            color:  #000000;\n",
       "        }    #T_59cc614c_63f4_11ea_b2e5_ed28b57a35b2row0_col7 {\n",
       "            background-color:  #e1dfed;\n",
       "            color:  #000000;\n",
       "        }    #T_59cc614c_63f4_11ea_b2e5_ed28b57a35b2row0_col8 {\n",
       "            background-color:  #dedcec;\n",
       "            color:  #000000;\n",
       "        }    #T_59cc614c_63f4_11ea_b2e5_ed28b57a35b2row1_col0 {\n",
       "            background-color:  #fff7fb;\n",
       "            color:  #000000;\n",
       "        }    #T_59cc614c_63f4_11ea_b2e5_ed28b57a35b2row1_col1 {\n",
       "            background-color:  #023858;\n",
       "            color:  #f1f1f1;\n",
       "        }    #T_59cc614c_63f4_11ea_b2e5_ed28b57a35b2row1_col2 {\n",
       "            background-color:  #e0dded;\n",
       "            color:  #000000;\n",
       "        }    #T_59cc614c_63f4_11ea_b2e5_ed28b57a35b2row1_col3 {\n",
       "            background-color:  #fff7fb;\n",
       "            color:  #000000;\n",
       "        }    #T_59cc614c_63f4_11ea_b2e5_ed28b57a35b2row1_col4 {\n",
       "            background-color:  #97b7d7;\n",
       "            color:  #000000;\n",
       "        }    #T_59cc614c_63f4_11ea_b2e5_ed28b57a35b2row1_col5 {\n",
       "            background-color:  #f3edf5;\n",
       "            color:  #000000;\n",
       "        }    #T_59cc614c_63f4_11ea_b2e5_ed28b57a35b2row1_col6 {\n",
       "            background-color:  #b8c6e0;\n",
       "            color:  #000000;\n",
       "        }    #T_59cc614c_63f4_11ea_b2e5_ed28b57a35b2row1_col7 {\n",
       "            background-color:  #e1dfed;\n",
       "            color:  #000000;\n",
       "        }    #T_59cc614c_63f4_11ea_b2e5_ed28b57a35b2row1_col8 {\n",
       "            background-color:  #e2dfee;\n",
       "            color:  #000000;\n",
       "        }    #T_59cc614c_63f4_11ea_b2e5_ed28b57a35b2row2_col0 {\n",
       "            background-color:  #bdc8e1;\n",
       "            color:  #000000;\n",
       "        }    #T_59cc614c_63f4_11ea_b2e5_ed28b57a35b2row2_col1 {\n",
       "            background-color:  #d0d1e6;\n",
       "            color:  #000000;\n",
       "        }    #T_59cc614c_63f4_11ea_b2e5_ed28b57a35b2row2_col2 {\n",
       "            background-color:  #023858;\n",
       "            color:  #f1f1f1;\n",
       "        }    #T_59cc614c_63f4_11ea_b2e5_ed28b57a35b2row2_col3 {\n",
       "            background-color:  #fbf3f9;\n",
       "            color:  #000000;\n",
       "        }    #T_59cc614c_63f4_11ea_b2e5_ed28b57a35b2row2_col4 {\n",
       "            background-color:  #f3edf5;\n",
       "            color:  #000000;\n",
       "        }    #T_59cc614c_63f4_11ea_b2e5_ed28b57a35b2row2_col5 {\n",
       "            background-color:  #fff7fb;\n",
       "            color:  #000000;\n",
       "        }    #T_59cc614c_63f4_11ea_b2e5_ed28b57a35b2row2_col6 {\n",
       "            background-color:  #80aed2;\n",
       "            color:  #000000;\n",
       "        }    #T_59cc614c_63f4_11ea_b2e5_ed28b57a35b2row2_col7 {\n",
       "            background-color:  #fff7fb;\n",
       "            color:  #000000;\n",
       "        }    #T_59cc614c_63f4_11ea_b2e5_ed28b57a35b2row2_col8 {\n",
       "            background-color:  #529bc7;\n",
       "            color:  #000000;\n",
       "        }    #T_59cc614c_63f4_11ea_b2e5_ed28b57a35b2row3_col0 {\n",
       "            background-color:  #a7bddb;\n",
       "            color:  #000000;\n",
       "        }    #T_59cc614c_63f4_11ea_b2e5_ed28b57a35b2row3_col1 {\n",
       "            background-color:  #f5eff6;\n",
       "            color:  #000000;\n",
       "        }    #T_59cc614c_63f4_11ea_b2e5_ed28b57a35b2row3_col2 {\n",
       "            background-color:  #fef6fa;\n",
       "            color:  #000000;\n",
       "        }    #T_59cc614c_63f4_11ea_b2e5_ed28b57a35b2row3_col3 {\n",
       "            background-color:  #023858;\n",
       "            color:  #f1f1f1;\n",
       "        }    #T_59cc614c_63f4_11ea_b2e5_ed28b57a35b2row3_col4 {\n",
       "            background-color:  #c4cbe3;\n",
       "            color:  #000000;\n",
       "        }    #T_59cc614c_63f4_11ea_b2e5_ed28b57a35b2row3_col5 {\n",
       "            background-color:  #dcdaeb;\n",
       "            color:  #000000;\n",
       "        }    #T_59cc614c_63f4_11ea_b2e5_ed28b57a35b2row3_col6 {\n",
       "            background-color:  #dedcec;\n",
       "            color:  #000000;\n",
       "        }    #T_59cc614c_63f4_11ea_b2e5_ed28b57a35b2row3_col7 {\n",
       "            background-color:  #adc1dd;\n",
       "            color:  #000000;\n",
       "        }    #T_59cc614c_63f4_11ea_b2e5_ed28b57a35b2row3_col8 {\n",
       "            background-color:  #d9d8ea;\n",
       "            color:  #000000;\n",
       "        }    #T_59cc614c_63f4_11ea_b2e5_ed28b57a35b2row4_col0 {\n",
       "            background-color:  #f4eef6;\n",
       "            color:  #000000;\n",
       "        }    #T_59cc614c_63f4_11ea_b2e5_ed28b57a35b2row4_col1 {\n",
       "            background-color:  #97b7d7;\n",
       "            color:  #000000;\n",
       "        }    #T_59cc614c_63f4_11ea_b2e5_ed28b57a35b2row4_col2 {\n",
       "            background-color:  #fff7fb;\n",
       "            color:  #000000;\n",
       "        }    #T_59cc614c_63f4_11ea_b2e5_ed28b57a35b2row4_col3 {\n",
       "            background-color:  #d2d3e7;\n",
       "            color:  #000000;\n",
       "        }    #T_59cc614c_63f4_11ea_b2e5_ed28b57a35b2row4_col4 {\n",
       "            background-color:  #023858;\n",
       "            color:  #f1f1f1;\n",
       "        }    #T_59cc614c_63f4_11ea_b2e5_ed28b57a35b2row4_col5 {\n",
       "            background-color:  #fdf5fa;\n",
       "            color:  #000000;\n",
       "        }    #T_59cc614c_63f4_11ea_b2e5_ed28b57a35b2row4_col6 {\n",
       "            background-color:  #fff7fb;\n",
       "            color:  #000000;\n",
       "        }    #T_59cc614c_63f4_11ea_b2e5_ed28b57a35b2row4_col7 {\n",
       "            background-color:  #d9d8ea;\n",
       "            color:  #000000;\n",
       "        }    #T_59cc614c_63f4_11ea_b2e5_ed28b57a35b2row4_col8 {\n",
       "            background-color:  #fff7fb;\n",
       "            color:  #000000;\n",
       "        }    #T_59cc614c_63f4_11ea_b2e5_ed28b57a35b2row5_col0 {\n",
       "            background-color:  #bdc8e1;\n",
       "            color:  #000000;\n",
       "        }    #T_59cc614c_63f4_11ea_b2e5_ed28b57a35b2row5_col1 {\n",
       "            background-color:  #ced0e6;\n",
       "            color:  #000000;\n",
       "        }    #T_59cc614c_63f4_11ea_b2e5_ed28b57a35b2row5_col2 {\n",
       "            background-color:  #ede8f3;\n",
       "            color:  #000000;\n",
       "        }    #T_59cc614c_63f4_11ea_b2e5_ed28b57a35b2row5_col3 {\n",
       "            background-color:  #bdc8e1;\n",
       "            color:  #000000;\n",
       "        }    #T_59cc614c_63f4_11ea_b2e5_ed28b57a35b2row5_col4 {\n",
       "            background-color:  #dbdaeb;\n",
       "            color:  #000000;\n",
       "        }    #T_59cc614c_63f4_11ea_b2e5_ed28b57a35b2row5_col5 {\n",
       "            background-color:  #023858;\n",
       "            color:  #f1f1f1;\n",
       "        }    #T_59cc614c_63f4_11ea_b2e5_ed28b57a35b2row5_col6 {\n",
       "            background-color:  #c0c9e2;\n",
       "            color:  #000000;\n",
       "        }    #T_59cc614c_63f4_11ea_b2e5_ed28b57a35b2row5_col7 {\n",
       "            background-color:  #dcdaeb;\n",
       "            color:  #000000;\n",
       "        }    #T_59cc614c_63f4_11ea_b2e5_ed28b57a35b2row5_col8 {\n",
       "            background-color:  #e8e4f0;\n",
       "            color:  #000000;\n",
       "        }    #T_59cc614c_63f4_11ea_b2e5_ed28b57a35b2row6_col0 {\n",
       "            background-color:  #d0d1e6;\n",
       "            color:  #000000;\n",
       "        }    #T_59cc614c_63f4_11ea_b2e5_ed28b57a35b2row6_col1 {\n",
       "            background-color:  #b8c6e0;\n",
       "            color:  #000000;\n",
       "        }    #T_59cc614c_63f4_11ea_b2e5_ed28b57a35b2row6_col2 {\n",
       "            background-color:  #93b5d6;\n",
       "            color:  #000000;\n",
       "        }    #T_59cc614c_63f4_11ea_b2e5_ed28b57a35b2row6_col3 {\n",
       "            background-color:  #eae6f1;\n",
       "            color:  #000000;\n",
       "        }    #T_59cc614c_63f4_11ea_b2e5_ed28b57a35b2row6_col4 {\n",
       "            background-color:  #fff7fb;\n",
       "            color:  #000000;\n",
       "        }    #T_59cc614c_63f4_11ea_b2e5_ed28b57a35b2row6_col5 {\n",
       "            background-color:  #eae6f1;\n",
       "            color:  #000000;\n",
       "        }    #T_59cc614c_63f4_11ea_b2e5_ed28b57a35b2row6_col6 {\n",
       "            background-color:  #023858;\n",
       "            color:  #f1f1f1;\n",
       "        }    #T_59cc614c_63f4_11ea_b2e5_ed28b57a35b2row6_col7 {\n",
       "            background-color:  #dbdaeb;\n",
       "            color:  #000000;\n",
       "        }    #T_59cc614c_63f4_11ea_b2e5_ed28b57a35b2row6_col8 {\n",
       "            background-color:  #bfc9e1;\n",
       "            color:  #000000;\n",
       "        }    #T_59cc614c_63f4_11ea_b2e5_ed28b57a35b2row7_col0 {\n",
       "            background-color:  #d0d1e6;\n",
       "            color:  #000000;\n",
       "        }    #T_59cc614c_63f4_11ea_b2e5_ed28b57a35b2row7_col1 {\n",
       "            background-color:  #d0d1e6;\n",
       "            color:  #000000;\n",
       "        }    #T_59cc614c_63f4_11ea_b2e5_ed28b57a35b2row7_col2 {\n",
       "            background-color:  #fef6fa;\n",
       "            color:  #000000;\n",
       "        }    #T_59cc614c_63f4_11ea_b2e5_ed28b57a35b2row7_col3 {\n",
       "            background-color:  #a7bddb;\n",
       "            color:  #000000;\n",
       "        }    #T_59cc614c_63f4_11ea_b2e5_ed28b57a35b2row7_col4 {\n",
       "            background-color:  #c5cce3;\n",
       "            color:  #000000;\n",
       "        }    #T_59cc614c_63f4_11ea_b2e5_ed28b57a35b2row7_col5 {\n",
       "            background-color:  #f0eaf4;\n",
       "            color:  #000000;\n",
       "        }    #T_59cc614c_63f4_11ea_b2e5_ed28b57a35b2row7_col6 {\n",
       "            background-color:  #c8cde4;\n",
       "            color:  #000000;\n",
       "        }    #T_59cc614c_63f4_11ea_b2e5_ed28b57a35b2row7_col7 {\n",
       "            background-color:  #023858;\n",
       "            color:  #f1f1f1;\n",
       "        }    #T_59cc614c_63f4_11ea_b2e5_ed28b57a35b2row7_col8 {\n",
       "            background-color:  #d6d6e9;\n",
       "            color:  #000000;\n",
       "        }    #T_59cc614c_63f4_11ea_b2e5_ed28b57a35b2row8_col0 {\n",
       "            background-color:  #c6cce3;\n",
       "            color:  #000000;\n",
       "        }    #T_59cc614c_63f4_11ea_b2e5_ed28b57a35b2row8_col1 {\n",
       "            background-color:  #cdd0e5;\n",
       "            color:  #000000;\n",
       "        }    #T_59cc614c_63f4_11ea_b2e5_ed28b57a35b2row8_col2 {\n",
       "            background-color:  #4c99c5;\n",
       "            color:  #000000;\n",
       "        }    #T_59cc614c_63f4_11ea_b2e5_ed28b57a35b2row8_col3 {\n",
       "            background-color:  #d1d2e6;\n",
       "            color:  #000000;\n",
       "        }    #T_59cc614c_63f4_11ea_b2e5_ed28b57a35b2row8_col4 {\n",
       "            background-color:  #efe9f3;\n",
       "            color:  #000000;\n",
       "        }    #T_59cc614c_63f4_11ea_b2e5_ed28b57a35b2row8_col5 {\n",
       "            background-color:  #f7f0f7;\n",
       "            color:  #000000;\n",
       "        }    #T_59cc614c_63f4_11ea_b2e5_ed28b57a35b2row8_col6 {\n",
       "            background-color:  #a5bddb;\n",
       "            color:  #000000;\n",
       "        }    #T_59cc614c_63f4_11ea_b2e5_ed28b57a35b2row8_col7 {\n",
       "            background-color:  #d3d4e7;\n",
       "            color:  #000000;\n",
       "        }    #T_59cc614c_63f4_11ea_b2e5_ed28b57a35b2row8_col8 {\n",
       "            background-color:  #023858;\n",
       "            color:  #f1f1f1;\n",
       "        }</style><table id=\"T_59cc614c_63f4_11ea_b2e5_ed28b57a35b2\" ><thead>    <tr>        <th class=\"blank level0\" ></th>        <th class=\"col_heading level0 col0\" >track_id</th>        <th class=\"col_heading level0 col1\" >acousticness</th>        <th class=\"col_heading level0 col2\" >danceability</th>        <th class=\"col_heading level0 col3\" >energy</th>        <th class=\"col_heading level0 col4\" >instrumentalness</th>        <th class=\"col_heading level0 col5\" >liveness</th>        <th class=\"col_heading level0 col6\" >speechiness</th>        <th class=\"col_heading level0 col7\" >tempo</th>        <th class=\"col_heading level0 col8\" >valence</th>    </tr></thead><tbody>\n",
       "                <tr>\n",
       "                        <th id=\"T_59cc614c_63f4_11ea_b2e5_ed28b57a35b2level0_row0\" class=\"row_heading level0 row0\" >track_id</th>\n",
       "                        <td id=\"T_59cc614c_63f4_11ea_b2e5_ed28b57a35b2row0_col0\" class=\"data row0 col0\" >1</td>\n",
       "                        <td id=\"T_59cc614c_63f4_11ea_b2e5_ed28b57a35b2row0_col1\" class=\"data row0 col1\" >-0.372282</td>\n",
       "                        <td id=\"T_59cc614c_63f4_11ea_b2e5_ed28b57a35b2row0_col2\" class=\"data row0 col2\" >0.0494541</td>\n",
       "                        <td id=\"T_59cc614c_63f4_11ea_b2e5_ed28b57a35b2row0_col3\" class=\"data row0 col3\" >0.140703</td>\n",
       "                        <td id=\"T_59cc614c_63f4_11ea_b2e5_ed28b57a35b2row0_col4\" class=\"data row0 col4\" >-0.275623</td>\n",
       "                        <td id=\"T_59cc614c_63f4_11ea_b2e5_ed28b57a35b2row0_col5\" class=\"data row0 col5\" >0.0482307</td>\n",
       "                        <td id=\"T_59cc614c_63f4_11ea_b2e5_ed28b57a35b2row0_col6\" class=\"data row0 col6\" >-0.0269951</td>\n",
       "                        <td id=\"T_59cc614c_63f4_11ea_b2e5_ed28b57a35b2row0_col7\" class=\"data row0 col7\" >-0.0253918</td>\n",
       "                        <td id=\"T_59cc614c_63f4_11ea_b2e5_ed28b57a35b2row0_col8\" class=\"data row0 col8\" >0.0100698</td>\n",
       "            </tr>\n",
       "            <tr>\n",
       "                        <th id=\"T_59cc614c_63f4_11ea_b2e5_ed28b57a35b2level0_row1\" class=\"row_heading level0 row1\" >acousticness</th>\n",
       "                        <td id=\"T_59cc614c_63f4_11ea_b2e5_ed28b57a35b2row1_col0\" class=\"data row1 col0\" >-0.372282</td>\n",
       "                        <td id=\"T_59cc614c_63f4_11ea_b2e5_ed28b57a35b2row1_col1\" class=\"data row1 col1\" >1</td>\n",
       "                        <td id=\"T_59cc614c_63f4_11ea_b2e5_ed28b57a35b2row1_col2\" class=\"data row1 col2\" >-0.0289537</td>\n",
       "                        <td id=\"T_59cc614c_63f4_11ea_b2e5_ed28b57a35b2row1_col3\" class=\"data row1 col3\" >-0.281619</td>\n",
       "                        <td id=\"T_59cc614c_63f4_11ea_b2e5_ed28b57a35b2row1_col4\" class=\"data row1 col4\" >0.19478</td>\n",
       "                        <td id=\"T_59cc614c_63f4_11ea_b2e5_ed28b57a35b2row1_col5\" class=\"data row1 col5\" >-0.0199914</td>\n",
       "                        <td id=\"T_59cc614c_63f4_11ea_b2e5_ed28b57a35b2row1_col6\" class=\"data row1 col6\" >0.072204</td>\n",
       "                        <td id=\"T_59cc614c_63f4_11ea_b2e5_ed28b57a35b2row1_col7\" class=\"data row1 col7\" >-0.0263097</td>\n",
       "                        <td id=\"T_59cc614c_63f4_11ea_b2e5_ed28b57a35b2row1_col8\" class=\"data row1 col8\" >-0.0138406</td>\n",
       "            </tr>\n",
       "            <tr>\n",
       "                        <th id=\"T_59cc614c_63f4_11ea_b2e5_ed28b57a35b2level0_row2\" class=\"row_heading level0 row2\" >danceability</th>\n",
       "                        <td id=\"T_59cc614c_63f4_11ea_b2e5_ed28b57a35b2row2_col0\" class=\"data row2 col0\" >0.0494541</td>\n",
       "                        <td id=\"T_59cc614c_63f4_11ea_b2e5_ed28b57a35b2row2_col1\" class=\"data row2 col1\" >-0.0289537</td>\n",
       "                        <td id=\"T_59cc614c_63f4_11ea_b2e5_ed28b57a35b2row2_col2\" class=\"data row2 col2\" >1</td>\n",
       "                        <td id=\"T_59cc614c_63f4_11ea_b2e5_ed28b57a35b2row2_col3\" class=\"data row2 col3\" >-0.242032</td>\n",
       "                        <td id=\"T_59cc614c_63f4_11ea_b2e5_ed28b57a35b2row2_col4\" class=\"data row2 col4\" >-0.255217</td>\n",
       "                        <td id=\"T_59cc614c_63f4_11ea_b2e5_ed28b57a35b2row2_col5\" class=\"data row2 col5\" >-0.106584</td>\n",
       "                        <td id=\"T_59cc614c_63f4_11ea_b2e5_ed28b57a35b2row2_col6\" class=\"data row2 col6\" >0.276206</td>\n",
       "                        <td id=\"T_59cc614c_63f4_11ea_b2e5_ed28b57a35b2row2_col7\" class=\"data row2 col7\" >-0.242089</td>\n",
       "                        <td id=\"T_59cc614c_63f4_11ea_b2e5_ed28b57a35b2row2_col8\" class=\"data row2 col8\" >0.473165</td>\n",
       "            </tr>\n",
       "            <tr>\n",
       "                        <th id=\"T_59cc614c_63f4_11ea_b2e5_ed28b57a35b2level0_row3\" class=\"row_heading level0 row3\" >energy</th>\n",
       "                        <td id=\"T_59cc614c_63f4_11ea_b2e5_ed28b57a35b2row3_col0\" class=\"data row3 col0\" >0.140703</td>\n",
       "                        <td id=\"T_59cc614c_63f4_11ea_b2e5_ed28b57a35b2row3_col1\" class=\"data row3 col1\" >-0.281619</td>\n",
       "                        <td id=\"T_59cc614c_63f4_11ea_b2e5_ed28b57a35b2row3_col2\" class=\"data row3 col2\" >-0.242032</td>\n",
       "                        <td id=\"T_59cc614c_63f4_11ea_b2e5_ed28b57a35b2row3_col3\" class=\"data row3 col3\" >1</td>\n",
       "                        <td id=\"T_59cc614c_63f4_11ea_b2e5_ed28b57a35b2row3_col4\" class=\"data row3 col4\" >0.0282377</td>\n",
       "                        <td id=\"T_59cc614c_63f4_11ea_b2e5_ed28b57a35b2row3_col5\" class=\"data row3 col5\" >0.113331</td>\n",
       "                        <td id=\"T_59cc614c_63f4_11ea_b2e5_ed28b57a35b2row3_col6\" class=\"data row3 col6\" >-0.109983</td>\n",
       "                        <td id=\"T_59cc614c_63f4_11ea_b2e5_ed28b57a35b2row3_col7\" class=\"data row3 col7\" >0.195227</td>\n",
       "                        <td id=\"T_59cc614c_63f4_11ea_b2e5_ed28b57a35b2row3_col8\" class=\"data row3 col8\" >0.0386027</td>\n",
       "            </tr>\n",
       "            <tr>\n",
       "                        <th id=\"T_59cc614c_63f4_11ea_b2e5_ed28b57a35b2level0_row4\" class=\"row_heading level0 row4\" >instrumentalness</th>\n",
       "                        <td id=\"T_59cc614c_63f4_11ea_b2e5_ed28b57a35b2row4_col0\" class=\"data row4 col0\" >-0.275623</td>\n",
       "                        <td id=\"T_59cc614c_63f4_11ea_b2e5_ed28b57a35b2row4_col1\" class=\"data row4 col1\" >0.19478</td>\n",
       "                        <td id=\"T_59cc614c_63f4_11ea_b2e5_ed28b57a35b2row4_col2\" class=\"data row4 col2\" >-0.255217</td>\n",
       "                        <td id=\"T_59cc614c_63f4_11ea_b2e5_ed28b57a35b2row4_col3\" class=\"data row4 col3\" >0.0282377</td>\n",
       "                        <td id=\"T_59cc614c_63f4_11ea_b2e5_ed28b57a35b2row4_col4\" class=\"data row4 col4\" >1</td>\n",
       "                        <td id=\"T_59cc614c_63f4_11ea_b2e5_ed28b57a35b2row4_col5\" class=\"data row4 col5\" >-0.0910218</td>\n",
       "                        <td id=\"T_59cc614c_63f4_11ea_b2e5_ed28b57a35b2row4_col6\" class=\"data row4 col6\" >-0.366762</td>\n",
       "                        <td id=\"T_59cc614c_63f4_11ea_b2e5_ed28b57a35b2row4_col7\" class=\"data row4 col7\" >0.022215</td>\n",
       "                        <td id=\"T_59cc614c_63f4_11ea_b2e5_ed28b57a35b2row4_col8\" class=\"data row4 col8\" >-0.219967</td>\n",
       "            </tr>\n",
       "            <tr>\n",
       "                        <th id=\"T_59cc614c_63f4_11ea_b2e5_ed28b57a35b2level0_row5\" class=\"row_heading level0 row5\" >liveness</th>\n",
       "                        <td id=\"T_59cc614c_63f4_11ea_b2e5_ed28b57a35b2row5_col0\" class=\"data row5 col0\" >0.0482307</td>\n",
       "                        <td id=\"T_59cc614c_63f4_11ea_b2e5_ed28b57a35b2row5_col1\" class=\"data row5 col1\" >-0.0199914</td>\n",
       "                        <td id=\"T_59cc614c_63f4_11ea_b2e5_ed28b57a35b2row5_col2\" class=\"data row5 col2\" >-0.106584</td>\n",
       "                        <td id=\"T_59cc614c_63f4_11ea_b2e5_ed28b57a35b2row5_col3\" class=\"data row5 col3\" >0.113331</td>\n",
       "                        <td id=\"T_59cc614c_63f4_11ea_b2e5_ed28b57a35b2row5_col4\" class=\"data row5 col4\" >-0.0910218</td>\n",
       "                        <td id=\"T_59cc614c_63f4_11ea_b2e5_ed28b57a35b2row5_col5\" class=\"data row5 col5\" >1</td>\n",
       "                        <td id=\"T_59cc614c_63f4_11ea_b2e5_ed28b57a35b2row5_col6\" class=\"data row5 col6\" >0.0411725</td>\n",
       "                        <td id=\"T_59cc614c_63f4_11ea_b2e5_ed28b57a35b2row5_col7\" class=\"data row5 col7\" >0.00273169</td>\n",
       "                        <td id=\"T_59cc614c_63f4_11ea_b2e5_ed28b57a35b2row5_col8\" class=\"data row5 col8\" >-0.0450931</td>\n",
       "            </tr>\n",
       "            <tr>\n",
       "                        <th id=\"T_59cc614c_63f4_11ea_b2e5_ed28b57a35b2level0_row6\" class=\"row_heading level0 row6\" >speechiness</th>\n",
       "                        <td id=\"T_59cc614c_63f4_11ea_b2e5_ed28b57a35b2row6_col0\" class=\"data row6 col0\" >-0.0269951</td>\n",
       "                        <td id=\"T_59cc614c_63f4_11ea_b2e5_ed28b57a35b2row6_col1\" class=\"data row6 col1\" >0.072204</td>\n",
       "                        <td id=\"T_59cc614c_63f4_11ea_b2e5_ed28b57a35b2row6_col2\" class=\"data row6 col2\" >0.276206</td>\n",
       "                        <td id=\"T_59cc614c_63f4_11ea_b2e5_ed28b57a35b2row6_col3\" class=\"data row6 col3\" >-0.109983</td>\n",
       "                        <td id=\"T_59cc614c_63f4_11ea_b2e5_ed28b57a35b2row6_col4\" class=\"data row6 col4\" >-0.366762</td>\n",
       "                        <td id=\"T_59cc614c_63f4_11ea_b2e5_ed28b57a35b2row6_col5\" class=\"data row6 col5\" >0.0411725</td>\n",
       "                        <td id=\"T_59cc614c_63f4_11ea_b2e5_ed28b57a35b2row6_col6\" class=\"data row6 col6\" >1</td>\n",
       "                        <td id=\"T_59cc614c_63f4_11ea_b2e5_ed28b57a35b2row6_col7\" class=\"data row6 col7\" >0.00824055</td>\n",
       "                        <td id=\"T_59cc614c_63f4_11ea_b2e5_ed28b57a35b2row6_col8\" class=\"data row6 col8\" >0.149894</td>\n",
       "            </tr>\n",
       "            <tr>\n",
       "                        <th id=\"T_59cc614c_63f4_11ea_b2e5_ed28b57a35b2level0_row7\" class=\"row_heading level0 row7\" >tempo</th>\n",
       "                        <td id=\"T_59cc614c_63f4_11ea_b2e5_ed28b57a35b2row7_col0\" class=\"data row7 col0\" >-0.0253918</td>\n",
       "                        <td id=\"T_59cc614c_63f4_11ea_b2e5_ed28b57a35b2row7_col1\" class=\"data row7 col1\" >-0.0263097</td>\n",
       "                        <td id=\"T_59cc614c_63f4_11ea_b2e5_ed28b57a35b2row7_col2\" class=\"data row7 col2\" >-0.242089</td>\n",
       "                        <td id=\"T_59cc614c_63f4_11ea_b2e5_ed28b57a35b2row7_col3\" class=\"data row7 col3\" >0.195227</td>\n",
       "                        <td id=\"T_59cc614c_63f4_11ea_b2e5_ed28b57a35b2row7_col4\" class=\"data row7 col4\" >0.022215</td>\n",
       "                        <td id=\"T_59cc614c_63f4_11ea_b2e5_ed28b57a35b2row7_col5\" class=\"data row7 col5\" >0.00273169</td>\n",
       "                        <td id=\"T_59cc614c_63f4_11ea_b2e5_ed28b57a35b2row7_col6\" class=\"data row7 col6\" >0.00824055</td>\n",
       "                        <td id=\"T_59cc614c_63f4_11ea_b2e5_ed28b57a35b2row7_col7\" class=\"data row7 col7\" >1</td>\n",
       "                        <td id=\"T_59cc614c_63f4_11ea_b2e5_ed28b57a35b2row7_col8\" class=\"data row7 col8\" >0.0522212</td>\n",
       "            </tr>\n",
       "            <tr>\n",
       "                        <th id=\"T_59cc614c_63f4_11ea_b2e5_ed28b57a35b2level0_row8\" class=\"row_heading level0 row8\" >valence</th>\n",
       "                        <td id=\"T_59cc614c_63f4_11ea_b2e5_ed28b57a35b2row8_col0\" class=\"data row8 col0\" >0.0100698</td>\n",
       "                        <td id=\"T_59cc614c_63f4_11ea_b2e5_ed28b57a35b2row8_col1\" class=\"data row8 col1\" >-0.0138406</td>\n",
       "                        <td id=\"T_59cc614c_63f4_11ea_b2e5_ed28b57a35b2row8_col2\" class=\"data row8 col2\" >0.473165</td>\n",
       "                        <td id=\"T_59cc614c_63f4_11ea_b2e5_ed28b57a35b2row8_col3\" class=\"data row8 col3\" >0.0386027</td>\n",
       "                        <td id=\"T_59cc614c_63f4_11ea_b2e5_ed28b57a35b2row8_col4\" class=\"data row8 col4\" >-0.219967</td>\n",
       "                        <td id=\"T_59cc614c_63f4_11ea_b2e5_ed28b57a35b2row8_col5\" class=\"data row8 col5\" >-0.0450931</td>\n",
       "                        <td id=\"T_59cc614c_63f4_11ea_b2e5_ed28b57a35b2row8_col6\" class=\"data row8 col6\" >0.149894</td>\n",
       "                        <td id=\"T_59cc614c_63f4_11ea_b2e5_ed28b57a35b2row8_col7\" class=\"data row8 col7\" >0.0522212</td>\n",
       "                        <td id=\"T_59cc614c_63f4_11ea_b2e5_ed28b57a35b2row8_col8\" class=\"data row8 col8\" >1</td>\n",
       "            </tr>\n",
       "    </tbody></table>"
      ],
      "text/plain": [
       "<pandas.io.formats.style.Styler at 0x17ffe094788>"
      ]
     },
     "execution_count": 3,
     "metadata": {},
     "output_type": "execute_result"
    }
   ],
   "source": [
    "# Create a correlation matrix\n",
    "corr_metrics = echo_tracks.corr()\n",
    "corr_metrics.style.background_gradient()"
   ]
  },
  {
   "cell_type": "markdown",
   "metadata": {},
   "source": [
    "## Normalize the data\n",
    "\n",
    "Since there aren't any significant correlations in the features, we can use **PCA** for feature reduction.\n",
    "\n",
    "But before that, we will normalize our data since some elements in our data (like *tempo*) lie in a different range from the other features, which can cause bias during feature reduction. "
   ]
  },
  {
   "cell_type": "code",
   "execution_count": 4,
   "metadata": {
    "dc": {
     "key": "17"
    },
    "tags": [
     "sample_code"
    ]
   },
   "outputs": [],
   "source": [
    "# Define our features \n",
    "features = echo_tracks.drop(['genre_top', 'track_id'], axis=1)\n",
    "\n",
    "# Define our labels\n",
    "labels = echo_tracks['genre_top']\n",
    "\n",
    "# Import the StandardScaler\n",
    "from sklearn.preprocessing import StandardScaler\n",
    "\n",
    "# Scale the features and set the values to a new variable\n",
    "scaler = StandardScaler()\n",
    "scaled_train_features = scaler.fit_transform(features)"
   ]
  },
  {
   "cell_type": "markdown",
   "metadata": {},
   "source": [
    "## 4. Principal Component Analysis on our scaled data"
   ]
  },
  {
   "cell_type": "code",
   "execution_count": 5,
   "metadata": {
    "dc": {
     "key": "24"
    },
    "tags": [
     "sample_code"
    ]
   },
   "outputs": [
    {
     "data": {
      "image/png": "[encoded data removed]",
      "text/plain": [
       "<Figure size 720x360 with 1 Axes>"
      ]
     },
     "metadata": {
      "needs_background": "light"
     },
     "output_type": "display_data"
    }
   ],
   "source": [
    "# This is just to make plots appear in the notebook\n",
    "%matplotlib inline\n",
    "\n",
    "# Import our plotting module, and PCA class\n",
    "import matplotlib.pyplot as plt\n",
    "from sklearn.decomposition import PCA\n",
    "\n",
    "# Get our explained variance ratios from PCA using all features\n",
    "pca = PCA()\n",
    "pca.fit(scaled_train_features)\n",
    "exp_variance = pca.explained_variance_ratio_\n",
    "\n",
    "# plot the explained variance using a barplot\n",
    "fig, ax = plt.subplots(figsize=(10,5))\n",
    "ax.bar(range(pca.n_components_), exp_variance)\n",
    "ax.set_title(\"Variance Explained by different Principal Components\")\n",
    "ax.set_xlabel('Principal Component #')\n",
    "ax.set_ylabel(\"Variance Explained\")\n",
    "plt.show()"
   ]
  },
  {
   "cell_type": "markdown",
   "metadata": {},
   "source": [
    "There is no clear indication here about the number of features we should use.\n",
    "\n",
    "So we will select a threshold value of 90% i.e. we will select that number of Principal Components to use for our model which explain approximately 90% of the VARIANCE in our data.\n",
    "\n",
    "We can do this using **Cumulative Explained Variance**."
   ]
  },
  {
   "cell_type": "code",
   "execution_count": 22,
   "metadata": {
    "dc": {
     "key": "31"
    },
    "tags": [
     "sample_code"
    ]
   },
   "outputs": [
    {
     "data": {
      "text/plain": [
       "<matplotlib.lines.Line2D at 0x17f83854c88>"
      ]
     },
     "execution_count": 22,
     "metadata": {},
     "output_type": "execute_result"
    },
    {
     "data": {
      "image/png": "[encoded data removed]",
      "text/plain": [
       "<Figure size 720x360 with 1 Axes>"
      ]
     },
     "metadata": {
      "needs_background": "light"
     },
     "output_type": "display_data"
    }
   ],
   "source": [
    "# Import numpy\n",
    "import numpy as np\n",
    "\n",
    "# Calculate the cumulative explained variance\n",
    "cum_exp_variance = np.cumsum(exp_variance)\n",
    "\n",
    "# Plot the cumulative explained variance and draw a dashed line at 0.90.\n",
    "fig, ax = plt.subplots(figsize=(10,5))\n",
    "ax.plot(cum_exp_variance)\n",
    "ax.set_title(\"Cumulative Explained Variance Plot\")\n",
    "ax.set_xlabel(\"Principal Component #\")\n",
    "ax.set_ylabel(\"Proportion of Variance Explained\")\n",
    "ax.axhline(y=0.9, linestyle='--') # 0.9 -> 90%\n",
    "ax.axvline(x=5, linestyle='--')\n",
    "ax.axvline(x=6, linestyle='--')"
   ]
  },
  {
   "cell_type": "markdown",
   "metadata": {},
   "source": [
    "We see that the number of Principal Components explaining 90% of the data's variance is slightly higher than 5.\n",
    "\n",
    "For this reason, we will use 6 components for our feature reduction, just to be safe."
   ]
  },
  {
   "cell_type": "code",
   "execution_count": 7,
   "metadata": {},
   "outputs": [],
   "source": [
    "n_components = 6\n",
    "\n",
    "# Perform PCA with the chosen number of components and project data onto components\n",
    "pca = PCA(n_components, random_state=10)\n",
    "pca.fit(scaled_train_features)\n",
    "pca_projection = pca.transform(scaled_train_features)"
   ]
  },
  {
   "cell_type": "markdown",
   "metadata": {},
   "source": [
    "## 6. Train a decision tree to classify genre"
   ]
  },
  {
   "cell_type": "code",
   "execution_count": 8,
   "metadata": {
    "dc": {
     "key": "38"
    },
    "tags": [
     "sample_code"
    ]
   },
   "outputs": [
    {
     "name": "stdout",
     "output_type": "stream",
     "text": [
      "Decision Tree Accuracy = 0.8434637801831807\n"
     ]
    }
   ],
   "source": [
    "# Import train_test_split function and Decision tree classifier\n",
    "from sklearn.tree import DecisionTreeClassifier\n",
    "from sklearn.model_selection import train_test_split\n",
    "\n",
    "# Split our data\n",
    "X_train, X_test, y_train, y_test = train_test_split(pca_projection,labels,random_state=10)\n",
    "\n",
    "# Train our decision tree\n",
    "tree = DecisionTreeClassifier(random_state=10)\n",
    "tree.fit(X_train, y_train)\n",
    "\n",
    "# Predict the labels for the test data\n",
    "pred_labels_tree = tree.predict(X_test)\n",
    "\n",
    "# Get score on test data\n",
    "accuracy = tree.score(X_test, y_test)\n",
    "print(\"Decision Tree Accuracy = {}\".format(accuracy))"
   ]
  },
  {
   "cell_type": "markdown",
   "metadata": {},
   "source": [
    "## 7. Train a Logistic Regression Model to classify genre"
   ]
  },
  {
   "cell_type": "code",
   "execution_count": 9,
   "metadata": {
    "dc": {
     "key": "45"
    },
    "tags": [
     "sample_code"
    ]
   },
   "outputs": [
    {
     "name": "stdout",
     "output_type": "stream",
     "text": [
      "Logistic Regression Accuracy = 0.8784346378018318\n"
     ]
    }
   ],
   "source": [
    "# Import LogisticRegression\n",
    "from sklearn.linear_model import LogisticRegression\n",
    "\n",
    "# Train our logistic regression and predict labels for the test set\n",
    "logreg = LogisticRegression(random_state=10)\n",
    "logreg.fit(X_train, y_train)\n",
    "pred_labels_logit = logreg.predict(X_test)\n",
    "\n",
    "# Get score on test data\n",
    "accuracy = logreg.score(X_test, y_test)\n",
    "print(\"Logistic Regression Accuracy = {}\".format(accuracy))"
   ]
  },
  {
   "cell_type": "markdown",
   "metadata": {},
   "source": [
    "We can also see other classification metrics such as precision, recall and f1-score using the **classification report** function from scikit-learn."
   ]
  },
  {
   "cell_type": "code",
   "execution_count": 10,
   "metadata": {},
   "outputs": [
    {
     "name": "stdout",
     "output_type": "stream",
     "text": [
      "Decision Tree: \n",
      "               precision    recall  f1-score   support\n",
      "\n",
      "     Hip-Hop       0.60      0.60      0.60       235\n",
      "        Rock       0.90      0.90      0.90       966\n",
      "\n",
      "    accuracy                           0.84      1201\n",
      "   macro avg       0.75      0.75      0.75      1201\n",
      "weighted avg       0.84      0.84      0.84      1201\n",
      "\n",
      "Logistic Regression: \n",
      "               precision    recall  f1-score   support\n",
      "\n",
      "     Hip-Hop       0.77      0.54      0.64       235\n",
      "        Rock       0.90      0.96      0.93       966\n",
      "\n",
      "    accuracy                           0.88      1201\n",
      "   macro avg       0.83      0.75      0.78      1201\n",
      "weighted avg       0.87      0.88      0.87      1201\n",
      "\n"
     ]
    }
   ],
   "source": [
    "# Create the classification report for both models\n",
    "from sklearn.metrics import classification_report\n",
    "class_rep_tree = classification_report(y_test, pred_labels_tree)\n",
    "class_rep_log = classification_report(y_test, pred_labels_logit)\n",
    "\n",
    "print(\"Decision Tree: \\n\", class_rep_tree)\n",
    "print(\"Logistic Regression: \\n\", class_rep_log)"
   ]
  },
  {
   "cell_type": "markdown",
   "metadata": {},
   "source": [
    "Both our models do similarly well, boasting an average precision of around 85%. However, looking at our classification report, we can see that rock songs are fairly well classified, but hip-hop songs are disproportionately misclassified as rock songs. \n",
    "\n",
    "This might be because we have far more data points for Rock (as seen in the support column of the classification report).\n",
    "Since the dataset is unbalanced, our model's classification ability is skewed towards Rock songs.\n",
    "\n",
    "## 8. Balance our data for greater performance\n",
    "\n",
    "I have used downsampling to solve this problem i.e. resample Rock songs to the same number as Hip-Hop Songs."
   ]
  },
  {
   "cell_type": "code",
   "execution_count": 23,
   "metadata": {
    "dc": {
     "key": "52"
    },
    "tags": [
     "sample_code"
    ]
   },
   "outputs": [
    {
     "data": {
      "image/png": "[encoded data removed]",
      "text/plain": [
       "<Figure size 720x360 with 1 Axes>"
      ]
     },
     "metadata": {
      "needs_background": "light"
     },
     "output_type": "display_data"
    }
   ],
   "source": [
    "# Subset only the hip-hop tracks, and then only the rock tracks\n",
    "hop_only = echo_tracks.loc[echo_tracks['genre_top']=='Hip-Hop']\n",
    "rock_only = echo_tracks.loc[echo_tracks['genre_top']=='Rock']\n",
    "\n",
    "# sample the rocks songs to be the same number as there are hip-hop songs\n",
    "rock_only = rock_only.sample(len(hop_only), random_state=10)\n",
    "\n",
    "# concatenate the dataframes rock_only and hop_only\n",
    "rock_hop_bal = pd.concat([rock_only, hop_only])\n",
    "\n",
    "# Confirm that the balancing was successful\n",
    "counts = rock_hop_bal['genre_top'].value_counts()\n",
    "\n",
    "# Plot the counts\n",
    "plt.figure(figsize=(10,5))\n",
    "plt.bar(x = counts.index, height=counts)\n",
    "plt.title(\"Number of Rock vs Hip-Hop Songs\")\n",
    "plt.ylabel(\"Counts\")\n",
    "plt.show()"
   ]
  },
  {
   "cell_type": "markdown",
   "metadata": {},
   "source": [
    "Now that our dataset is balanced let's repeat the scaling and the PCA steps that we performed above."
   ]
  },
  {
   "cell_type": "code",
   "execution_count": 12,
   "metadata": {},
   "outputs": [],
   "source": [
    "# The features, labels, and pca projection are created for the balanced dataframe\n",
    "features = rock_hop_bal.drop(['genre_top', 'track_id'], axis=1) \n",
    "labels = rock_hop_bal['genre_top']\n",
    "\n",
    "scaled_train_features = scaler.fit_transform(features)\n",
    "pca_projection = pca.fit_transform(scaler.fit_transform(features))\n",
    "\n",
    "# Redefine the train and test set with the pca_projection from the balanced data\n",
    "X_train, X_test, y_train, y_test = train_test_split(pca_projection, labels, random_state=10)"
   ]
  },
  {
   "cell_type": "markdown",
   "metadata": {},
   "source": [
    "## 9. Does balancing our dataset improve model bias?\n",
    "\n",
    "We've now balanced our dataset, but in doing so, we've removed a lot of data points that might have been crucial to training our models. Let's test to see if balancing our data improves model bias towards the \"Rock\" classification while retaining overall classification performance. "
   ]
  },
  {
   "cell_type": "code",
   "execution_count": 13,
   "metadata": {
    "dc": {
     "key": "59"
    },
    "tags": [
     "sample_code"
    ]
   },
   "outputs": [
    {
     "name": "stdout",
     "output_type": "stream",
     "text": [
      "Decision Tree: \n",
      "               precision    recall  f1-score   support\n",
      "\n",
      "     Hip-Hop       0.74      0.73      0.74       230\n",
      "        Rock       0.73      0.74      0.73       225\n",
      "\n",
      "    accuracy                           0.74       455\n",
      "   macro avg       0.74      0.74      0.74       455\n",
      "weighted avg       0.74      0.74      0.74       455\n",
      "\n",
      "Logistic Regression: \n",
      "               precision    recall  f1-score   support\n",
      "\n",
      "     Hip-Hop       0.84      0.80      0.82       230\n",
      "        Rock       0.80      0.85      0.83       225\n",
      "\n",
      "    accuracy                           0.82       455\n",
      "   macro avg       0.82      0.82      0.82       455\n",
      "weighted avg       0.82      0.82      0.82       455\n",
      "\n"
     ]
    }
   ],
   "source": [
    "# Train our decision tree on the balanced data\n",
    "tree = DecisionTreeClassifier(random_state=10)\n",
    "tree.fit(X_train, y_train)\n",
    "pred_labels_tree = tree.predict(X_test)\n",
    "\n",
    "# Train our logistic regression on the balanced data\n",
    "logreg = LogisticRegression()\n",
    "logreg.fit(X_train, y_train)\n",
    "pred_labels_logit = logreg.predict(X_test)\n",
    "\n",
    "# Compare the models\n",
    "print(\"Decision Tree: \\n\", classification_report(y_test, pred_labels_tree))\n",
    "print(\"Logistic Regression: \\n\", classification_report(y_test, pred_labels_logit))"
   ]
  },
  {
   "cell_type": "markdown",
   "metadata": {},
   "source": [
    "Now we can see that both Hip-Hop and Rock songs have similar precision, recall and f1-scores for each model respectively.\n",
    "\n",
    "Therefore, we have successfully reduced the bias in our models' performances."
   ]
  },
  {
   "cell_type": "markdown",
   "metadata": {},
   "source": [
    "## 10. Using cross-validation to evaluate our models\n",
    "\n",
    "To get a good sense of how well our models are actually performing, we can apply K-Fold cross-validation (CV). This step allows us to compare models in a more rigorous fashion."
   ]
  },
  {
   "cell_type": "code",
   "execution_count": 14,
   "metadata": {
    "dc": {
     "key": "66"
    },
    "tags": [
     "sample_code"
    ]
   },
   "outputs": [
    {
     "name": "stdout",
     "output_type": "stream",
     "text": [
      "Decision Tree: 0.7489010989010989 Logistic Regression: 0.782967032967033\n"
     ]
    }
   ],
   "source": [
    "from sklearn.model_selection import KFold, cross_val_score\n",
    "\n",
    "# Set up our K-fold cross-validation\n",
    "kf = KFold(10)\n",
    "\n",
    "tree = DecisionTreeClassifier(random_state=10)\n",
    "logreg = LogisticRegression(random_state=10)\n",
    "\n",
    "# Train our models using KFold cv\n",
    "tree_score = cross_val_score(tree, pca_projection, labels, cv=kf)\n",
    "logit_score = cross_val_score(logreg, pca_projection, labels, cv=kf)\n",
    "\n",
    "# Print the mean of each array of scores\n",
    "print(\"Decision Tree:\", np.mean(tree_score), \"Logistic Regression:\", np.mean(logit_score))"
   ]
  },
  {
   "cell_type": "markdown",
   "metadata": {},
   "source": [
    "Since our dataset is balanced, ACCURACY is a good metric for evaluating our classification models. \n",
    "\n",
    "Both models perform well, but the **Logistic Regression** performs better in this case."
   ]
  },
  {
   "cell_type": "markdown",
   "metadata": {},
   "source": [
    "## Summary\n",
    "\n",
    "Accuracy of final models after **Downsampling and PCA** :\n",
    "1. Logisitic Regression = **78.29**%\n",
    "2. Decision Tree = **74.89**%\n",
    "\n",
    "## Future Work\n",
    "- Use different methods for modelling, such as SVC or Ensemble methods like Random Forest.\n",
    "- Use different preprocessing techniques.\n",
    "- Feature Engineering to create more meaningful features.\n"
   ]
  },
  {
   "cell_type": "code",
   "execution_count": null,
   "metadata": {},
   "outputs": [],
   "source": []
  }
 ],
 "metadata": {
  "kernelspec": {
   "display_name": "Python 3",
   "language": "python",
   "name": "python3"
  },
  "language_info": {
   "codemirror_mode": {
    "name": "ipython",
    "version": 3
   },
   "file_extension": ".py",
   "mimetype": "text/x-python",
   "name": "python",
   "nbconvert_exporter": "python",
   "pygments_lexer": "ipython3",
   "version": "3.7.4"
  }
 },
 "nbformat": 4,
 "nbformat_minor": 4
}
