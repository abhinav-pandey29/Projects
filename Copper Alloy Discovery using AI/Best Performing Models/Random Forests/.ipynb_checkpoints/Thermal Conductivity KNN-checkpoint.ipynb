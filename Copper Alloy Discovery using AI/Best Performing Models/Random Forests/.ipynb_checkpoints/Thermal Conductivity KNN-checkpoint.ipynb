{
 "cells": [
  {
   "cell_type": "code",
   "execution_count": 1,
   "metadata": {},
   "outputs": [],
   "source": [
    "# Import libraries\n",
    "import numpy as np\n",
    "import pandas as pd\n",
    "import matplotlib.pyplot as plt\n",
    "\n",
    "from sklearn.neighbors import KNeighborsRegressor\n",
    "from sklearn.decomposition import PCA\n",
    "from sklearn.preprocessing import MinMaxScaler\n",
    "\n",
    "from sklearn.model_selection import cross_validate, train_test_split, GridSearchCV\n",
    "from sklearn import metrics\n",
    "import itertools\n",
    "\n",
    "from warnings import filterwarnings\n",
    "filterwarnings('ignore')"
   ]
  },
  {
   "cell_type": "code",
   "execution_count": 64,
   "metadata": {},
   "outputs": [
    {
     "name": "stdout",
     "output_type": "stream",
     "text": [
      "R-squared on Test Data = 0.9588\n",
      "Mean R-squared with 10 Fold Cross Validation = 0.8125\n"
     ]
    }
   ],
   "source": [
    "# Read dataset\n",
    "data = pd.read_csv(\"../../Copper Dataset (version 4.0).csv\")\n",
    "\n",
    "# Remove duplicate columns\n",
    "tc_data = data.iloc[:,-32:].drop('tensile_strength', axis=1)  # Subset of relevant features and labels\n",
    "tc_data = tc_data[~tc_data.duplicated(keep='first')]  # Remove duplicates\n",
    "\n",
    "# Split into features and target variables\n",
    "X = tc_data.iloc[:,:-1]\n",
    "y = tc_data['thermal_conductivity']\n",
    "\n",
    "# Split into train and test data\n",
    "X_train, X_test, y_train, y_test = train_test_split(X, y, test_size=0.05, random_state=42)\n",
    "X_train\n",
    "\n",
    "# Normalise train and test data\n",
    "scaler = MinMaxScaler()\n",
    "X_train_scaled = scaler.fit_transform(X_train)\n",
    "\n",
    "# Perform PCA on normalised training data\n",
    "pca = PCA()\n",
    "X_train_scaled_pca = pca.fit_transform(X_train_scaled)\n",
    "\n",
    "# Use Principal Components (0, 1, 6, 14, 20, 15, 19, 10, 7, 28, 5, 29, 17, 25, 16) as training data\n",
    "best_principal_components = (0, 1, 6, 14, 20, 15, 19, 10, 7, 28, 5, 29, 17, 25, 16)\n",
    "x_train = X_train_scaled_pca[:, best_principal_components]\n",
    "\n",
    "# Build model with the following hyperparameters\n",
    "    # n_neighbours = 5, leaf_size = 1, p = 2, algorithm = 'ball_tree', weights = 'uniform'\n",
    "model = KNeighborsRegressor(n_neighbors=5, leaf_size = 1, p = 2, algorithm = 'ball_tree', weights = 'uniform')\n",
    "model.fit(x_train, y_train)\n",
    "\n",
    "# Normalise test data and project onto the subspace spanned by the Principal Components\n",
    "X_test_scaled = scaler.transform(X_test)\n",
    "X_test_scaled_pca = pca.transform(X_test_scaled)\n",
    "x_test = X_test_scaled_pca[:, best_principal_components]\n",
    "\n",
    "# Make predictions\n",
    "test_pred = model.predict(x_test)\n",
    "\n",
    "# Calculate R-squared on test data predictions\n",
    "r2_score = metrics.r2_score(y_test, test_pred)\n",
    "print(\"R-squared on Test Data = %.4f\"%r2_score)\n",
    "\n",
    "# Calculate mean r-squared with 10 fold cross validation\n",
    "cv_results = cross_validate(model, x_train, y_train, scoring='r2', cv=10)['test_score']\n",
    "mean_cv_score = cv_results.mean()\n",
    "print(\"Mean R-squared with 10 Fold Cross Validation = %.4f\"%mean_cv_score)"
   ]
  }
 ],
 "metadata": {
  "kernelspec": {
   "display_name": "Python 3",
   "language": "python",
   "name": "python3"
  },
  "language_info": {
   "codemirror_mode": {
    "name": "ipython",
    "version": 3
   },
   "file_extension": ".py",
   "mimetype": "text/x-python",
   "name": "python",
   "nbconvert_exporter": "python",
   "pygments_lexer": "ipython3",
   "version": "3.7.7"
  }
 },
 "nbformat": 4,
 "nbformat_minor": 4
}
