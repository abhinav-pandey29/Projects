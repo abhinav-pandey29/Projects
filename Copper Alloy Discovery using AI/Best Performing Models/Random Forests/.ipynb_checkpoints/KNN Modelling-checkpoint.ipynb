{
 "cells": [
  {
   "cell_type": "code",
   "execution_count": 21,
   "metadata": {},
   "outputs": [],
   "source": [
    "# Import libraries\n",
    "import numpy as np\n",
    "import pandas as pd\n",
    "import matplotlib.pyplot as plt\n",
    "\n",
    "from sklearn.ensemble import RandomForestRegressor\n",
    "from sklearn.cluster import KMeans\n",
    "from sklearn.neighbors import KNeighborsRegressor\n",
    "from sklearn.decomposition import PCA\n",
    "from sklearn.preprocessing import MinMaxScaler\n",
    "\n",
    "from sklearn.model_selection import cross_validate, train_test_split, GridSearchCV\n",
    "from sklearn import metrics\n",
    "from scipy import stats\n",
    "import itertools\n",
    "\n",
    "from warnings import filterwarnings\n",
    "filterwarnings('ignore')"
   ]
  },
  {
   "cell_type": "markdown",
   "metadata": {},
   "source": [
    "# Thermal Conductivity"
   ]
  },
  {
   "cell_type": "code",
   "execution_count": 90,
   "metadata": {},
   "outputs": [
    {
     "data": {
      "text/html": [
       "<div>\n",
       "<style scoped>\n",
       "    .dataframe tbody tr th:only-of-type {\n",
       "        vertical-align: middle;\n",
       "    }\n",
       "\n",
       "    .dataframe tbody tr th {\n",
       "        vertical-align: top;\n",
       "    }\n",
       "\n",
       "    .dataframe thead th {\n",
       "        text-align: right;\n",
       "    }\n",
       "</style>\n",
       "<table border=\"1\" class=\"dataframe\">\n",
       "  <thead>\n",
       "    <tr style=\"text-align: right;\">\n",
       "      <th></th>\n",
       "      <th>cu</th>\n",
       "      <th>pb</th>\n",
       "      <th>zn</th>\n",
       "      <th>fe</th>\n",
       "      <th>p</th>\n",
       "      <th>ag</th>\n",
       "      <th>as</th>\n",
       "      <th>o</th>\n",
       "      <th>sb</th>\n",
       "      <th>te</th>\n",
       "      <th>...</th>\n",
       "      <th>be</th>\n",
       "      <th>cr</th>\n",
       "      <th>si</th>\n",
       "      <th>ti</th>\n",
       "      <th>ca</th>\n",
       "      <th>li</th>\n",
       "      <th>b</th>\n",
       "      <th>c</th>\n",
       "      <th>nb</th>\n",
       "      <th>se</th>\n",
       "    </tr>\n",
       "  </thead>\n",
       "  <tbody>\n",
       "    <tr>\n",
       "      <th>1738</th>\n",
       "      <td>95.16</td>\n",
       "      <td>0.050</td>\n",
       "      <td>0.300</td>\n",
       "      <td>0.10</td>\n",
       "      <td>0.19</td>\n",
       "      <td>0.0</td>\n",
       "      <td>0.000</td>\n",
       "      <td>0.0</td>\n",
       "      <td>0.000</td>\n",
       "      <td>0.000</td>\n",
       "      <td>...</td>\n",
       "      <td>0.0</td>\n",
       "      <td>0.0</td>\n",
       "      <td>0.00</td>\n",
       "      <td>0.0</td>\n",
       "      <td>0.0</td>\n",
       "      <td>0.0</td>\n",
       "      <td>0.000</td>\n",
       "      <td>0.0</td>\n",
       "      <td>0.0</td>\n",
       "      <td>0.0</td>\n",
       "    </tr>\n",
       "    <tr>\n",
       "      <th>1824</th>\n",
       "      <td>66.50</td>\n",
       "      <td>1.400</td>\n",
       "      <td>26.000</td>\n",
       "      <td>0.35</td>\n",
       "      <td>0.00</td>\n",
       "      <td>0.0</td>\n",
       "      <td>0.000</td>\n",
       "      <td>0.0</td>\n",
       "      <td>0.000</td>\n",
       "      <td>0.000</td>\n",
       "      <td>...</td>\n",
       "      <td>0.0</td>\n",
       "      <td>0.0</td>\n",
       "      <td>0.00</td>\n",
       "      <td>0.0</td>\n",
       "      <td>0.0</td>\n",
       "      <td>0.0</td>\n",
       "      <td>0.000</td>\n",
       "      <td>0.0</td>\n",
       "      <td>0.0</td>\n",
       "      <td>0.0</td>\n",
       "    </tr>\n",
       "    <tr>\n",
       "      <th>1267</th>\n",
       "      <td>63.50</td>\n",
       "      <td>1.150</td>\n",
       "      <td>35.200</td>\n",
       "      <td>0.15</td>\n",
       "      <td>0.00</td>\n",
       "      <td>0.0</td>\n",
       "      <td>0.000</td>\n",
       "      <td>0.0</td>\n",
       "      <td>0.000</td>\n",
       "      <td>0.000</td>\n",
       "      <td>...</td>\n",
       "      <td>0.0</td>\n",
       "      <td>0.0</td>\n",
       "      <td>0.00</td>\n",
       "      <td>0.0</td>\n",
       "      <td>0.0</td>\n",
       "      <td>0.0</td>\n",
       "      <td>0.000</td>\n",
       "      <td>0.0</td>\n",
       "      <td>0.0</td>\n",
       "      <td>0.0</td>\n",
       "    </tr>\n",
       "    <tr>\n",
       "      <th>343</th>\n",
       "      <td>99.88</td>\n",
       "      <td>0.004</td>\n",
       "      <td>0.000</td>\n",
       "      <td>0.00</td>\n",
       "      <td>0.00</td>\n",
       "      <td>0.0</td>\n",
       "      <td>0.012</td>\n",
       "      <td>0.0</td>\n",
       "      <td>0.003</td>\n",
       "      <td>0.025</td>\n",
       "      <td>...</td>\n",
       "      <td>0.0</td>\n",
       "      <td>0.0</td>\n",
       "      <td>0.00</td>\n",
       "      <td>0.0</td>\n",
       "      <td>0.0</td>\n",
       "      <td>0.0</td>\n",
       "      <td>0.000</td>\n",
       "      <td>0.0</td>\n",
       "      <td>0.0</td>\n",
       "      <td>0.0</td>\n",
       "    </tr>\n",
       "    <tr>\n",
       "      <th>757</th>\n",
       "      <td>99.50</td>\n",
       "      <td>1.150</td>\n",
       "      <td>0.000</td>\n",
       "      <td>0.00</td>\n",
       "      <td>0.00</td>\n",
       "      <td>0.0</td>\n",
       "      <td>0.000</td>\n",
       "      <td>0.0</td>\n",
       "      <td>0.000</td>\n",
       "      <td>0.000</td>\n",
       "      <td>...</td>\n",
       "      <td>0.0</td>\n",
       "      <td>0.0</td>\n",
       "      <td>0.00</td>\n",
       "      <td>0.0</td>\n",
       "      <td>0.0</td>\n",
       "      <td>0.0</td>\n",
       "      <td>0.000</td>\n",
       "      <td>0.0</td>\n",
       "      <td>0.0</td>\n",
       "      <td>0.0</td>\n",
       "    </tr>\n",
       "    <tr>\n",
       "      <th>...</th>\n",
       "      <td>...</td>\n",
       "      <td>...</td>\n",
       "      <td>...</td>\n",
       "      <td>...</td>\n",
       "      <td>...</td>\n",
       "      <td>...</td>\n",
       "      <td>...</td>\n",
       "      <td>...</td>\n",
       "      <td>...</td>\n",
       "      <td>...</td>\n",
       "      <td>...</td>\n",
       "      <td>...</td>\n",
       "      <td>...</td>\n",
       "      <td>...</td>\n",
       "      <td>...</td>\n",
       "      <td>...</td>\n",
       "      <td>...</td>\n",
       "      <td>...</td>\n",
       "      <td>...</td>\n",
       "      <td>...</td>\n",
       "      <td>...</td>\n",
       "    </tr>\n",
       "    <tr>\n",
       "      <th>1038</th>\n",
       "      <td>69.00</td>\n",
       "      <td>0.070</td>\n",
       "      <td>30.988</td>\n",
       "      <td>0.05</td>\n",
       "      <td>0.00</td>\n",
       "      <td>0.0</td>\n",
       "      <td>0.000</td>\n",
       "      <td>0.0</td>\n",
       "      <td>0.000</td>\n",
       "      <td>0.000</td>\n",
       "      <td>...</td>\n",
       "      <td>0.0</td>\n",
       "      <td>0.0</td>\n",
       "      <td>0.00</td>\n",
       "      <td>0.0</td>\n",
       "      <td>0.0</td>\n",
       "      <td>0.0</td>\n",
       "      <td>0.000</td>\n",
       "      <td>0.0</td>\n",
       "      <td>0.0</td>\n",
       "      <td>0.0</td>\n",
       "    </tr>\n",
       "    <tr>\n",
       "      <th>311</th>\n",
       "      <td>99.90</td>\n",
       "      <td>0.022</td>\n",
       "      <td>0.000</td>\n",
       "      <td>0.00</td>\n",
       "      <td>0.00</td>\n",
       "      <td>0.0</td>\n",
       "      <td>0.000</td>\n",
       "      <td>0.0</td>\n",
       "      <td>0.000</td>\n",
       "      <td>0.000</td>\n",
       "      <td>...</td>\n",
       "      <td>0.0</td>\n",
       "      <td>0.0</td>\n",
       "      <td>0.00</td>\n",
       "      <td>0.0</td>\n",
       "      <td>0.0</td>\n",
       "      <td>0.0</td>\n",
       "      <td>0.000</td>\n",
       "      <td>0.0</td>\n",
       "      <td>0.0</td>\n",
       "      <td>0.0</td>\n",
       "    </tr>\n",
       "    <tr>\n",
       "      <th>866</th>\n",
       "      <td>97.38</td>\n",
       "      <td>0.020</td>\n",
       "      <td>1.000</td>\n",
       "      <td>0.30</td>\n",
       "      <td>0.12</td>\n",
       "      <td>0.0</td>\n",
       "      <td>0.000</td>\n",
       "      <td>0.0</td>\n",
       "      <td>0.000</td>\n",
       "      <td>0.000</td>\n",
       "      <td>...</td>\n",
       "      <td>0.0</td>\n",
       "      <td>0.0</td>\n",
       "      <td>0.01</td>\n",
       "      <td>0.0</td>\n",
       "      <td>0.0</td>\n",
       "      <td>0.0</td>\n",
       "      <td>0.000</td>\n",
       "      <td>0.0</td>\n",
       "      <td>0.0</td>\n",
       "      <td>0.0</td>\n",
       "    </tr>\n",
       "    <tr>\n",
       "      <th>1680</th>\n",
       "      <td>66.00</td>\n",
       "      <td>0.090</td>\n",
       "      <td>31.000</td>\n",
       "      <td>0.10</td>\n",
       "      <td>0.00</td>\n",
       "      <td>0.0</td>\n",
       "      <td>0.000</td>\n",
       "      <td>0.0</td>\n",
       "      <td>0.000</td>\n",
       "      <td>0.000</td>\n",
       "      <td>...</td>\n",
       "      <td>0.0</td>\n",
       "      <td>0.0</td>\n",
       "      <td>1.50</td>\n",
       "      <td>0.0</td>\n",
       "      <td>0.0</td>\n",
       "      <td>0.0</td>\n",
       "      <td>0.001</td>\n",
       "      <td>0.0</td>\n",
       "      <td>0.0</td>\n",
       "      <td>0.0</td>\n",
       "    </tr>\n",
       "    <tr>\n",
       "      <th>932</th>\n",
       "      <td>87.50</td>\n",
       "      <td>0.050</td>\n",
       "      <td>12.400</td>\n",
       "      <td>0.00</td>\n",
       "      <td>0.00</td>\n",
       "      <td>0.0</td>\n",
       "      <td>0.000</td>\n",
       "      <td>0.0</td>\n",
       "      <td>0.000</td>\n",
       "      <td>0.000</td>\n",
       "      <td>...</td>\n",
       "      <td>0.0</td>\n",
       "      <td>0.0</td>\n",
       "      <td>0.00</td>\n",
       "      <td>0.0</td>\n",
       "      <td>0.0</td>\n",
       "      <td>0.0</td>\n",
       "      <td>0.000</td>\n",
       "      <td>0.0</td>\n",
       "      <td>0.0</td>\n",
       "      <td>0.0</td>\n",
       "    </tr>\n",
       "  </tbody>\n",
       "</table>\n",
       "<p>199 rows × 30 columns</p>\n",
       "</div>"
      ],
      "text/plain": [
       "         cu     pb      zn    fe     p   ag     as    o     sb     te  ...  \\\n",
       "1738  95.16  0.050   0.300  0.10  0.19  0.0  0.000  0.0  0.000  0.000  ...   \n",
       "1824  66.50  1.400  26.000  0.35  0.00  0.0  0.000  0.0  0.000  0.000  ...   \n",
       "1267  63.50  1.150  35.200  0.15  0.00  0.0  0.000  0.0  0.000  0.000  ...   \n",
       "343   99.88  0.004   0.000  0.00  0.00  0.0  0.012  0.0  0.003  0.025  ...   \n",
       "757   99.50  1.150   0.000  0.00  0.00  0.0  0.000  0.0  0.000  0.000  ...   \n",
       "...     ...    ...     ...   ...   ...  ...    ...  ...    ...    ...  ...   \n",
       "1038  69.00  0.070  30.988  0.05  0.00  0.0  0.000  0.0  0.000  0.000  ...   \n",
       "311   99.90  0.022   0.000  0.00  0.00  0.0  0.000  0.0  0.000  0.000  ...   \n",
       "866   97.38  0.020   1.000  0.30  0.12  0.0  0.000  0.0  0.000  0.000  ...   \n",
       "1680  66.00  0.090  31.000  0.10  0.00  0.0  0.000  0.0  0.000  0.000  ...   \n",
       "932   87.50  0.050  12.400  0.00  0.00  0.0  0.000  0.0  0.000  0.000  ...   \n",
       "\n",
       "       be   cr    si   ti   ca   li      b    c   nb   se  \n",
       "1738  0.0  0.0  0.00  0.0  0.0  0.0  0.000  0.0  0.0  0.0  \n",
       "1824  0.0  0.0  0.00  0.0  0.0  0.0  0.000  0.0  0.0  0.0  \n",
       "1267  0.0  0.0  0.00  0.0  0.0  0.0  0.000  0.0  0.0  0.0  \n",
       "343   0.0  0.0  0.00  0.0  0.0  0.0  0.000  0.0  0.0  0.0  \n",
       "757   0.0  0.0  0.00  0.0  0.0  0.0  0.000  0.0  0.0  0.0  \n",
       "...   ...  ...   ...  ...  ...  ...    ...  ...  ...  ...  \n",
       "1038  0.0  0.0  0.00  0.0  0.0  0.0  0.000  0.0  0.0  0.0  \n",
       "311   0.0  0.0  0.00  0.0  0.0  0.0  0.000  0.0  0.0  0.0  \n",
       "866   0.0  0.0  0.01  0.0  0.0  0.0  0.000  0.0  0.0  0.0  \n",
       "1680  0.0  0.0  1.50  0.0  0.0  0.0  0.001  0.0  0.0  0.0  \n",
       "932   0.0  0.0  0.00  0.0  0.0  0.0  0.000  0.0  0.0  0.0  \n",
       "\n",
       "[199 rows x 30 columns]"
      ]
     },
     "execution_count": 90,
     "metadata": {},
     "output_type": "execute_result"
    }
   ],
   "source": [
    "# Read dataset\n",
    "data = pd.read_csv(\"../../Copper Dataset (version 4.0).csv\")\n",
    "\n",
    "# Remove duplicate columns\n",
    "tc_data = data.iloc[:,-32:].drop('tensile_strength', axis=1)  # Subset of relevant features and labels\n",
    "tc_data = tc_data[~tc_data.duplicated(keep='first')]  # Remove duplicates\n",
    "\n",
    "# Split into features and target variables\n",
    "X = tc_data.iloc[:,:-1]\n",
    "y = tc_data['thermal_conductivity']\n",
    "\n",
    "# Split into train and test data\n",
    "X_train, X_test, y_train, y_test = train_test_split(X, y, test_size=0., random_state=42)\n",
    "X_train"
   ]
  },
  {
   "cell_type": "code",
   "execution_count": 91,
   "metadata": {},
   "outputs": [
    {
     "data": {
      "text/plain": [
       "array([[0.95164681, 0.0125    , 0.00738007, ..., 0.        , 0.        ,\n",
       "        0.        ],\n",
       "       [0.6647312 , 0.35      , 0.6396064 , ..., 0.        , 0.        ,\n",
       "        0.        ],\n",
       "       [0.63469817, 0.2875    , 0.86592866, ..., 0.        , 0.        ,\n",
       "        0.        ],\n",
       "       ...,\n",
       "       [0.97387126, 0.005     , 0.02460025, ..., 0.        , 0.        ,\n",
       "        0.        ],\n",
       "       [0.6597257 , 0.0225    , 0.76260763, ..., 0.        , 0.        ,\n",
       "        0.        ],\n",
       "       [0.87496246, 0.0125    , 0.30504305, ..., 0.        , 0.        ,\n",
       "        0.        ]])"
      ]
     },
     "execution_count": 91,
     "metadata": {},
     "output_type": "execute_result"
    }
   ],
   "source": [
    "# Normalise data before PCA\n",
    "scaler = MinMaxScaler()\n",
    "X_train_scaled = scaler.fit_transform(X_train)\n",
    "X_train_scaled"
   ]
  },
  {
   "cell_type": "code",
   "execution_count": 92,
   "metadata": {},
   "outputs": [
    {
     "data": {
      "image/png": "[encoded data removed]",
      "text/plain": [
       "<Figure size 720x360 with 1 Axes>"
      ]
     },
     "metadata": {
      "needs_background": "light"
     },
     "output_type": "display_data"
    }
   ],
   "source": [
    "# Perform PCA on train data for dimensionality reduction\n",
    "pca = PCA()\n",
    "X_train_pca = pca.fit_transform(X_train_scaled)\n",
    "\n",
    "# Calculate cumulative explained variance\n",
    "cumulative_explained_variance_ratio = np.cumsum(pca.explained_variance_ratio_)\n",
    "\n",
    "# Visualize the explained variance percentages\n",
    "fig, ax = plt.subplots(figsize=(10,5))\n",
    "\n",
    "# Plot the Cumulative Explained Variance Percentage for all Principal Components\n",
    "ax.scatter(np.arange(len(X_train.columns)), cumulative_explained_variance_ratio)\n",
    "ax.set_title(\"Cumulative Explained Variance\", fontsize=16)\n",
    "ax.set_ylabel(\"Cumulative Explained Variance\", fontsize=14)\n",
    "ax.set_xlabel(\"# Principal Component\", fontsize=14)\n",
    "ax.set_ylim([0,1.1])\n",
    "plt.show()"
   ]
  },
  {
   "cell_type": "markdown",
   "metadata": {},
   "source": [
    "We observe that the first 2 principal components represent the variance of most of the data!"
   ]
  },
  {
   "cell_type": "code",
   "execution_count": 93,
   "metadata": {},
   "outputs": [
    {
     "name": "stdout",
     "output_type": "stream",
     "text": [
      "Explained variance percentage for first 30 Principal Components = 100.0%\n"
     ]
    }
   ],
   "source": [
    "# Determine the variance explained by the first k = 2 principal components\n",
    "n_components = 30\n",
    "explained_variance_2 = np.real(np.round(cumulative_explained_variance_ratio[n_components-1] ,5)) * 100\n",
    "\n",
    "print(\"Explained variance percentage for first {} Principal Components = {}%\".format(n_components, explained_variance_2))"
   ]
  },
  {
   "cell_type": "code",
   "execution_count": 94,
   "metadata": {},
   "outputs": [
    {
     "name": "stdout",
     "output_type": "stream",
     "text": [
      "Wall time: 1.31 s\n"
     ]
    },
    {
     "data": {
      "text/html": [
       "<div>\n",
       "<style scoped>\n",
       "    .dataframe tbody tr th:only-of-type {\n",
       "        vertical-align: middle;\n",
       "    }\n",
       "\n",
       "    .dataframe tbody tr th {\n",
       "        vertical-align: top;\n",
       "    }\n",
       "\n",
       "    .dataframe thead th {\n",
       "        text-align: right;\n",
       "    }\n",
       "</style>\n",
       "<table border=\"1\" class=\"dataframe\">\n",
       "  <thead>\n",
       "    <tr style=\"text-align: right;\">\n",
       "      <th></th>\n",
       "      <th>k</th>\n",
       "      <th>Principal Components</th>\n",
       "      <th>scores</th>\n",
       "    </tr>\n",
       "  </thead>\n",
       "  <tbody>\n",
       "  </tbody>\n",
       "</table>\n",
       "</div>"
      ],
      "text/plain": [
       "Empty DataFrame\n",
       "Columns: [k, Principal Components, scores]\n",
       "Index: []"
      ]
     },
     "execution_count": 94,
     "metadata": {},
     "output_type": "execute_result"
    }
   ],
   "source": [
    "%%time\n",
    "# Project data onto the k=2 Principal Components and visualise the results\n",
    "pca = PCA(n_components)\n",
    "X_train_pca = pca.fit_transform(X_train_scaled)\n",
    "\n",
    "K = []\n",
    "scores = []\n",
    "C = []\n",
    "\n",
    "main_comb = (0, 1, 6, 14, 20, 15, 19, 10, 7, 28, 5, 29, 17, 25)\n",
    "\n",
    "for k in [1,3,5,7,9]:\n",
    "    for i in range(30):\n",
    "        \n",
    "        if i not in main_comb:\n",
    "            combination = main_comb + (i,)\n",
    "\n",
    "            model = KNeighborsRegressor(n_neighbors=k,)\n",
    "\n",
    "            K.append(k)\n",
    "            C.append(combination)\n",
    "\n",
    "            x_train = X_train_pca[:,combination]\n",
    "\n",
    "            model.fit(x_train, y_train)\n",
    "\n",
    "            results = cross_validate(model, x_train, y_train, scoring='r2', cv=10)\n",
    "            r2_mean = results['test_score'].mean()\n",
    "\n",
    "            scores.append(r2_mean)\n",
    "\n",
    "results = pd.DataFrame.from_dict({'k':K, \n",
    "                                  'Principal Components':C,\n",
    "                                  'scores':scores}).sort_values(by='scores', ascending=False)\n",
    "\n",
    "results = results[results.duplicated()]\n",
    "results"
   ]
  },
  {
   "cell_type": "code",
   "execution_count": 95,
   "metadata": {},
   "outputs": [
    {
     "ename": "IndexError",
     "evalue": "index 0 is out of bounds for axis 0 with size 0",
     "output_type": "error",
     "traceback": [
      "\u001b[1;31m---------------------------------------------------------------------------\u001b[0m",
      "\u001b[1;31mIndexError\u001b[0m                                Traceback (most recent call last)",
      "\u001b[1;32m<timed exec>\u001b[0m in \u001b[0;36m<module>\u001b[1;34m\u001b[0m\n",
      "\u001b[1;31mIndexError\u001b[0m: index 0 is out of bounds for axis 0 with size 0"
     ]
    }
   ],
   "source": [
    "%%time\n",
    "features = results[results.scores > 0.77]['Principal Components'].values\n",
    "\n",
    "#List Hyperparameters that we want to tune.\n",
    "leaf_size = np.arange(1,50, 10)\n",
    "n_neighbors = [1,3,5,7,9,11,13,15,17,19,21]\n",
    "p=[1,2,3,4,5]\n",
    "weights = ['distance', 'uniform']\n",
    "algorithm = ['auto', 'ball_tree', 'kd_tree', 'brute']\n",
    "#Convert to dictionary\n",
    "hyperparameters = dict(leaf_size=leaf_size, n_neighbors=n_neighbors, p=p, weights=weights, algorithm=algorithm)\n",
    "#Create new KNN object\n",
    "knn_2 = KNeighborsRegressor()\n",
    "#Use GridSearch\n",
    "clf = GridSearchCV(knn_2, hyperparameters, cv=10, scoring='r2')\n",
    "#Fit the model\n",
    "best_model = clf.fit(X_train_pca[:, features[0]], y_train)\n",
    "\n",
    "#Print The value of best Hyperparameters\n",
    "print('Best leaf_size:', best_model.best_estimator_.get_params()['leaf_size'])\n",
    "print('Best p:', best_model.best_estimator_.get_params()['p'])\n",
    "print('Best n_neighbors:', best_model.best_estimator_.get_params()['n_neighbors'])\n",
    "print('Best algorithm:', best_model.best_estimator_.get_params()['algorithm'])\n",
    "print('Best weights:', best_model.best_estimator_.get_params()['weights'])\n",
    "best_model.best_score_"
   ]
  },
  {
   "cell_type": "code",
   "execution_count": 96,
   "metadata": {},
   "outputs": [
    {
     "name": "stdout",
     "output_type": "stream",
     "text": [
      "Wall time: 0 ns\n"
     ]
    }
   ],
   "source": [
    "%%time\n",
    "#List Hyperparameters that we want to tune.\n",
    "leaf_size = np.arange(1,50, 10)\n",
    "n_neighbors = [1,3,5,7,9,11,13,15,17,19,21]\n",
    "p=[1,2,3,4,5]\n",
    "weights = ['distance', 'uniform']\n",
    "algorithm = ['auto', 'ball_tree', 'kd_tree', 'brute']\n",
    "#Convert to dictionary\n",
    "hyperparameters = dict(leaf_size=leaf_size, n_neighbors=n_neighbors, p=p, weights=weights, algorithm=algorithm)\n",
    "\n",
    "ls = []\n",
    "ps = []\n",
    "nns = []\n",
    "alg = []\n",
    "wts = []\n",
    "scs = []\n",
    "\n",
    "for pcs in features:\n",
    "    #Create new KNN object\n",
    "    knn_2 = KNeighborsRegressor()\n",
    "    #Use GridSearch\n",
    "    clf = GridSearchCV(knn_2, hyperparameters, cv=10, scoring='r2')\n",
    "    #Fit the model\n",
    "    best_model = clf.fit(X_train_pca[:, pcs], y_train)\n",
    "\n",
    "    \n",
    "    ls.append(best_model.best_estimator_.get_params()['leaf_size'])\n",
    "    ps.append(best_model.best_estimator_.get_params()['p'])\n",
    "    nns.append(best_model.best_estimator_.get_params()['n_neighbors'])\n",
    "    alg.append(best_model.best_estimator_.get_params()['algorithm'])\n",
    "    wts.append(best_model.best_estimator_.get_params()['weights'])\n",
    "    scs.append(best_model.best_score_)"
   ]
  },
  {
   "cell_type": "code",
   "execution_count": 97,
   "metadata": {},
   "outputs": [
    {
     "data": {
      "text/plain": [
       "array([], shape=(0, 7), dtype=object)"
      ]
     },
     "execution_count": 97,
     "metadata": {},
     "output_type": "execute_result"
    }
   ],
   "source": [
    "results = pd.DataFrame.from_dict({'Principal Components': features,\n",
    "                                  'k': nns,\n",
    "                                  'leaf_size':ls,\n",
    "                                  'P':ps,\n",
    "                                  'algorithm':alg,\n",
    "                                  'weights':wts,\n",
    "                                  'cv_mean':scs}).sort_values(by='cv_mean', ascending=False)\n",
    "\n",
    "results.head(1).values"
   ]
  },
  {
   "cell_type": "code",
   "execution_count": 98,
   "metadata": {
    "scrolled": true
   },
   "outputs": [],
   "source": [
    "r2 = []\n",
    "for i in range(len(results)):\n",
    "    pcs, n_neighbors, leaf_size, p, algorithm, weights, _ = results.iloc[i,:].values\n",
    "\n",
    "    model = KNeighborsRegressor(n_neighbors=n_neighbors,\n",
    "                                leaf_size=leaf_size,\n",
    "                                p=p,\n",
    "                                algorithm=algorithm,\n",
    "                                weights=weights)\n",
    "\n",
    "    # Prepare data\n",
    "    x_train = X_train_pca[:,pcs]\n",
    "    x_test = pca.transform(scaler.transform(X_test))[:, pcs]\n",
    "\n",
    "    model.fit(x_train, y_train)\n",
    "\n",
    "    preds = model.predict(x_test)\n",
    "\n",
    "    r2.append(metrics.r2_score(y_test, preds))\n",
    "\n"
   ]
  },
  {
   "cell_type": "code",
   "execution_count": 100,
   "metadata": {},
   "outputs": [
    {
     "data": {
      "text/plain": [
       "(76,\n",
       " 5,\n",
       " '(0, 1, 6, 14, 20, 15, 19, 10, 7, 28, 5, 29, 17, 25, 16)',\n",
       " 0.8110478928633157)"
      ]
     },
     "execution_count": 100,
     "metadata": {},
     "output_type": "execute_result"
    }
   ],
   "source": [
    "76,5,\"(0, 1, 6, 14, 20, 15, 19, 10, 7, 28, 5, 29, 17, 25, 16)\",0.8110478928633157"
   ]
  },
  {
   "cell_type": "code",
   "execution_count": 108,
   "metadata": {},
   "outputs": [
    {
     "name": "stdout",
     "output_type": "stream",
     "text": [
      "KNN CV score (Thermal Conductivity) = 0.8125150384014473\n"
     ]
    }
   ],
   "source": [
    "model = KNeighborsRegressor(n_neighbors=5, leaf_size=1, p=2, weights='uniform', algorithm='ball_tree' )\n",
    "\n",
    "best_pcomponents = (0, 1, 6, 14, 20, 15, 19, 10, 7, 28, 5, 29, 17, 25, 16)\n",
    "x_train = X_train_pca[:, best_pcomponents]\n",
    "\n",
    "cv_mean = cross_validate(model, x_train, y_train, cv=10)['test_score'].mean()\n",
    "print(\"KNN CV score (Thermal Conductivity) = {}\".format(cv_mean))"
   ]
  },
  {
   "cell_type": "code",
   "execution_count": 102,
   "metadata": {},
   "outputs": [
    {
     "data": {
      "text/plain": [
       "0.9587708754635496"
      ]
     },
     "execution_count": 102,
     "metadata": {},
     "output_type": "execute_result"
    }
   ],
   "source": [
    "X_test_scaled = scaler.transform(X_test)\n",
    "X_test_scaled_pca = pca.transform(X_test_scaled)\n",
    "\n",
    "x_test = X_test_scaled_pca[:, best_pcomponents]\n",
    "\n",
    "model.fit(x_train, y_train)\n",
    "test_preds = model.predict(x_test)\n",
    "\n",
    "metrics.r2_score(y_test, test_preds)"
   ]
  },
  {
   "cell_type": "code",
   "execution_count": 103,
   "metadata": {},
   "outputs": [
    {
     "data": {
      "image/png": "[encoded data removed]",
      "text/plain": [
       "<Figure size 432x288 with 1 Axes>"
      ]
     },
     "metadata": {
      "needs_background": "light"
     },
     "output_type": "display_data"
    }
   ],
   "source": [
    "plt.scatter(y_test, test_preds)\n",
    "plt.xlim([0,y_test.max()+10])\n",
    "plt.ylim([0,y_test.max()+10])\n",
    "plt.plot([5, y_test.max()+5], [5, y_test.max()+5], color='red')\n",
    "plt.legend(['Regression Line'])\n",
    "plt.xlabel(\"Actual Thermal Conductivity\")\n",
    "plt.ylabel(\"Predicted Thermal Conductivity\")\n",
    "plt.title(\"Actual vs Predicted Thermal Conductivity (on Unseen Data)\")\n",
    "plt.show()"
   ]
  }
 ],
 "metadata": {
  "kernelspec": {
   "display_name": "Python 3",
   "language": "python",
   "name": "python3"
  },
  "language_info": {
   "codemirror_mode": {
    "name": "ipython",
    "version": 3
   },
   "file_extension": ".py",
   "mimetype": "text/x-python",
   "name": "python",
   "nbconvert_exporter": "python",
   "pygments_lexer": "ipython3",
   "version": "3.7.7"
  }
 },
 "nbformat": 4,
 "nbformat_minor": 4
}
