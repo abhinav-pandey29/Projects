{
 "cells": [
  {
   "cell_type": "markdown",
   "metadata": {},
   "source": [
    "#### We will compare performance of 4 different models in this notebook\n",
    "\n",
    "- ##### 2 models for Tensile Strength\n",
    "- ##### 2 models for Thermal Conductivity"
   ]
  },
  {
   "cell_type": "markdown",
   "metadata": {},
   "source": [
    "## Tensile Strength"
   ]
  },
  {
   "cell_type": "code",
   "execution_count": 5,
   "metadata": {},
   "outputs": [],
   "source": [
    "# Import libraries\n",
    "import numpy as np\n",
    "import pandas as pd\n",
    "import matplotlib.pyplot as plt\n",
    "\n",
    "from sklearn.ensemble import RandomForestRegressor\n",
    "\n",
    "from sklearn.model_selection import cross_validate, train_test_split\n",
    "from sklearn import metrics\n",
    "\n",
    "\n",
    "from warnings import filterwarnings\n",
    "filterwarnings('ignore')"
   ]
  },
  {
   "cell_type": "code",
   "execution_count": 10,
   "metadata": {},
   "outputs": [],
   "source": [
    "# Read dataset\n",
    "data = pd.read_csv(\"Data (version 3) without dummy variables.csv\")\n",
    "\n",
    "# Split into features and target variables\n",
    "X = data.drop(['tensile_strength', 'thermal_conductivity'], axis=1)\n",
    "y = data['tensile_strength']\n",
    "\n",
    "# Split into train and test data\n",
    "X_train, X_test, y_train, y_test = train_test_split(X, y, test_size=0.2, random_state=42)"
   ]
  },
  {
   "cell_type": "code",
   "execution_count": 24,
   "metadata": {},
   "outputs": [],
   "source": [
    "from sklearn.preprocessing import LabelEncoder\n",
    "\n",
    "X_transformed = X.copy()\n",
    "encoder = LabelEncoder()\n",
    "transformed_temper_code = encoder.fit_transform(X['Temper Code'])\n",
    "transformed_form = encoder.fit_transform(X['Form'])\n",
    "\n",
    "X_transformed['Form'] = transformed_form\n",
    "X_transformed['Temper Code'] = transformed_temper_code\n",
    "\n",
    "# Split into train and test data\n",
    "X_train, X_test, y_train, y_test = train_test_split(X_transformed, y, test_size=0.2, random_state=42)"
   ]
  },
  {
   "cell_type": "code",
   "execution_count": 25,
   "metadata": {},
   "outputs": [],
   "source": [
    "# Results storage\n",
    "cv_means = []\n",
    "cv_medians = []\n",
    "cv_std = []\n",
    "r2_test_set = []"
   ]
  },
  {
   "cell_type": "markdown",
   "metadata": {},
   "source": [
    "##### 1. Random Forest (params by Venkat)"
   ]
  },
  {
   "cell_type": "code",
   "execution_count": 26,
   "metadata": {},
   "outputs": [],
   "source": [
    "# Initialise model with Venkat's hyperparameters\n",
    "model = RandomForestRegressor(n_estimators = 733,\n",
    "                              min_samples_split = 2, \n",
    "                              min_samples_leaf = 1,\n",
    "                              max_features = \"auto\",\n",
    "                              max_depth= 100,\n",
    "                              bootstrap = True,\n",
    "                              random_state = 42)\n",
    "\n",
    "#Applying k-fold cross-validation\n",
    "from sklearn.model_selection import cross_val_score\n",
    "accuracies = cross_val_score(estimator = model, X= X_train, y = y_train, cv= 10, n_jobs = -1 )\n",
    "\n",
    "model_accuracy = accuracies.mean()\n",
    "cv_median = np.median(accuracies)\n",
    "accuracy_std = accuracies.std()\n",
    "\n",
    "model.fit(X_train, y_train)\n",
    "r2 = metrics.r2_score(model.predict(X_test), y_test)\n",
    "\n",
    "cv_means.append(model_accuracy)\n",
    "cv_medians.append(cv_median)\n",
    "cv_std.append(accuracy_std)\n",
    "r2_test_set.append(r2)"
   ]
  },
  {
   "cell_type": "markdown",
   "metadata": {},
   "source": [
    "##### 2. Random Forest (params by Abhinav)"
   ]
  },
  {
   "cell_type": "code",
   "execution_count": 27,
   "metadata": {},
   "outputs": [],
   "source": [
    "# Initialise model with Abhinav's hyperparameters\n",
    "model = RandomForestRegressor(n_estimators = 1300,\n",
    "                              min_samples_split = 3,\n",
    "                              min_samples_leaf = 1,\n",
    "                              max_features = \"auto\",\n",
    "                              max_depth= 95,\n",
    "                              bootstrap = True,\n",
    "                              random_state = 42)\n",
    "\n",
    "#Applying k-fold cross-validation\n",
    "from sklearn.model_selection import cross_val_score\n",
    "accuracies = cross_val_score(estimator = model, X = X_train, y = y_train, cv= 10, n_jobs = -1 )\n",
    "\n",
    "model_accuracy = accuracies.mean()\n",
    "cv_median = np.median(accuracies)\n",
    "accuracy_std = accuracies.std()\n",
    "\n",
    "model.fit(X_train, y_train)\n",
    "r2 = metrics.r2_score(model.predict(X_test), y_test)\n",
    "\n",
    "cv_means.append(model_accuracy)\n",
    "cv_medians.append(cv_median)\n",
    "cv_std.append(accuracy_std)\n",
    "r2_test_set.append(r2)"
   ]
  },
  {
   "cell_type": "markdown",
   "metadata": {},
   "source": [
    "## Thermal Conductivity"
   ]
  },
  {
   "cell_type": "code",
   "execution_count": 28,
   "metadata": {},
   "outputs": [
    {
     "data": {
      "text/plain": [
       "(11, 28)"
      ]
     },
     "execution_count": 28,
     "metadata": {},
     "output_type": "execute_result"
    }
   ],
   "source": [
    "# Read dataset\n",
    "data = pd.read_csv(\"../../Copper Dataset (version 4.0).csv\")\n",
    "\n",
    "# Remove duplicate columns\n",
    "tc_data = data.iloc[:,-30:].drop('tensile_strength', axis=1)  # Subset of relevant features and labels\n",
    "tc_data = tc_data[~tc_data.duplicated(keep='first')]  # Remove duplicates\n",
    "\n",
    "# Split into features and target variables\n",
    "X = tc_data.iloc[:,:-1]\n",
    "y = tc_data['thermal_conductivity']\n",
    "\n",
    "# Split into train and test data\n",
    "X_train, X_test, y_train, y_test = train_test_split(X, y, test_size=0.05, random_state=42)\n",
    "X_test.shape"
   ]
  },
  {
   "cell_type": "markdown",
   "metadata": {},
   "source": [
    "##### 1. Random Forest (params by Venkat)"
   ]
  },
  {
   "cell_type": "code",
   "execution_count": 29,
   "metadata": {},
   "outputs": [],
   "source": [
    "# Initialise model with Venkat's hyperparameters\n",
    "model = RandomForestRegressor(n_estimators = 428,\n",
    "                              min_samples_split = 2, \n",
    "                              min_samples_leaf = 1,\n",
    "                              max_features = \"sqrt\", \n",
    "                              max_depth= None,\n",
    "                              bootstrap = False,\n",
    "                              random_state = 42)\n",
    "\n",
    "\n",
    "#Applying k-fold cross-validation\n",
    "from sklearn.model_selection import cross_val_score\n",
    "accuracies = cross_val_score(estimator = model, X= X_train, y = y_train, cv= 10, n_jobs = -1)\n",
    "\n",
    "model_accuracy = accuracies.mean()\n",
    "cv_median = np.median(accuracies)\n",
    "accuracy_std = accuracies.std()\n",
    "\n",
    "model.fit(X_train, y_train)\n",
    "r2 = metrics.r2_score(model.predict(X_test), y_test)\n",
    "\n",
    "cv_means.append(model_accuracy)\n",
    "cv_medians.append(cv_median)\n",
    "cv_std.append(accuracy_std)\n",
    "r2_test_set.append(r2)"
   ]
  },
  {
   "cell_type": "markdown",
   "metadata": {},
   "source": [
    "##### 2. Random Forest (params by Abhinav)"
   ]
  },
  {
   "cell_type": "code",
   "execution_count": 30,
   "metadata": {},
   "outputs": [],
   "source": [
    "# Initialise model with Abhinav's hyperparameters\n",
    "model = RandomForestRegressor(n_estimators = 400,\n",
    "                              min_samples_split = 2,\n",
    "                              min_samples_leaf = 1,\n",
    "                              max_features = \"sqrt\",\n",
    "                              max_depth= None,\n",
    "                              bootstrap = False,\n",
    "                              random_state = 42)\n",
    "\n",
    "#Applying k-fold cross-validation\n",
    "from sklearn.model_selection import cross_val_score\n",
    "accuracies = cross_val_score(estimator = model, X = X_train, y = y_train, cv= 10, n_jobs = -1 )\n",
    "\n",
    "model_accuracy = accuracies.mean()\n",
    "cv_median = np.median(accuracies)\n",
    "accuracy_std = accuracies.std()\n",
    "\n",
    "model.fit(X_train, y_train)\n",
    "r2 = metrics.r2_score(model.predict(X_test), y_test)\n",
    "\n",
    "cv_means.append(model_accuracy)\n",
    "cv_medians.append(cv_median)\n",
    "cv_std.append(accuracy_std)\n",
    "r2_test_set.append(r2)"
   ]
  },
  {
   "cell_type": "code",
   "execution_count": 31,
   "metadata": {},
   "outputs": [],
   "source": [
    "model_names = ['Tensile Strength (V)', 'Tensile Strength (A)', 'Thermal Conductivity (V)', 'Thermal Conductivity (A)']\n",
    "\n",
    "model_comparisons = {\n",
    "                     'R-squared on Test' : r2_test_set,\n",
    "                     'CV mean' : cv_means,\n",
    "                     'CV median' : cv_medians,\n",
    "                     'CV std' : cv_std\n",
    "                     }\n",
    "\n",
    "comparison_df = pd.DataFrame(model_comparisons, index=model_names)"
   ]
  },
  {
   "cell_type": "code",
   "execution_count": 32,
   "metadata": {},
   "outputs": [
    {
     "data": {
      "text/html": [
       "<div>\n",
       "<style scoped>\n",
       "    .dataframe tbody tr th:only-of-type {\n",
       "        vertical-align: middle;\n",
       "    }\n",
       "\n",
       "    .dataframe tbody tr th {\n",
       "        vertical-align: top;\n",
       "    }\n",
       "\n",
       "    .dataframe thead th {\n",
       "        text-align: right;\n",
       "    }\n",
       "</style>\n",
       "<table border=\"1\" class=\"dataframe\">\n",
       "  <thead>\n",
       "    <tr style=\"text-align: right;\">\n",
       "      <th></th>\n",
       "      <th>R-squared on Test</th>\n",
       "      <th>CV mean</th>\n",
       "      <th>CV median</th>\n",
       "      <th>CV std</th>\n",
       "    </tr>\n",
       "  </thead>\n",
       "  <tbody>\n",
       "    <tr>\n",
       "      <th>Tensile Strength (V)</th>\n",
       "      <td>0.940760</td>\n",
       "      <td>0.926856</td>\n",
       "      <td>0.938355</td>\n",
       "      <td>0.035566</td>\n",
       "    </tr>\n",
       "    <tr>\n",
       "      <th>Tensile Strength (A)</th>\n",
       "      <td>0.940752</td>\n",
       "      <td>0.926646</td>\n",
       "      <td>0.938541</td>\n",
       "      <td>0.036434</td>\n",
       "    </tr>\n",
       "    <tr>\n",
       "      <th>Thermal Conductivity (V)</th>\n",
       "      <td>0.808500</td>\n",
       "      <td>0.764179</td>\n",
       "      <td>0.802906</td>\n",
       "      <td>0.176773</td>\n",
       "    </tr>\n",
       "    <tr>\n",
       "      <th>Thermal Conductivity (A)</th>\n",
       "      <td>0.809318</td>\n",
       "      <td>0.763402</td>\n",
       "      <td>0.802620</td>\n",
       "      <td>0.176881</td>\n",
       "    </tr>\n",
       "  </tbody>\n",
       "</table>\n",
       "</div>"
      ],
      "text/plain": [
       "                          R-squared on Test   CV mean  CV median    CV std\n",
       "Tensile Strength (V)               0.940760  0.926856   0.938355  0.035566\n",
       "Tensile Strength (A)               0.940752  0.926646   0.938541  0.036434\n",
       "Thermal Conductivity (V)           0.808500  0.764179   0.802906  0.176773\n",
       "Thermal Conductivity (A)           0.809318  0.763402   0.802620  0.176881"
      ]
     },
     "execution_count": 32,
     "metadata": {},
     "output_type": "execute_result"
    }
   ],
   "source": [
    "comparison_df.sort_values(by=['CV mean', 'CV median', 'R-squared on Test'], ascending=False)"
   ]
  },
  {
   "cell_type": "markdown",
   "metadata": {},
   "source": [
    "### Final Decision\n",
    "\n",
    "- ##### Tensile Strength (Abhinav's model)\n",
    "- ##### Thermal Conductivity (Venkat's model)"
   ]
  },
  {
   "cell_type": "code",
   "execution_count": 23,
   "metadata": {},
   "outputs": [],
   "source": [
    "from sklearn.linear_model import LinearRegression\n",
    "from sklearn.svm import SVR\n",
    "from sklearn.tree import DecisionTreeRegressor"
   ]
  },
  {
   "cell_type": "code",
   "execution_count": 33,
   "metadata": {},
   "outputs": [
    {
     "data": {
      "text/plain": [
       "RandomForestRegressor(bootstrap=True, ccp_alpha=0.0, criterion='mse',\n",
       "                      max_depth=95, max_features='auto', max_leaf_nodes=None,\n",
       "                      max_samples=None, min_impurity_decrease=0.0,\n",
       "                      min_impurity_split=None, min_samples_leaf=1,\n",
       "                      min_samples_split=3, min_weight_fraction_leaf=0.0,\n",
       "                      n_estimators=1300, n_jobs=None, oob_score=False,\n",
       "                      random_state=42, verbose=0, warm_start=False)"
      ]
     },
     "execution_count": 33,
     "metadata": {},
     "output_type": "execute_result"
    }
   ],
   "source": [
    "# Save Tensile Strength model as rf_tensile_strength.pickle\n",
    "\n",
    "\n",
    "# Read dataset\n",
    "# Read dataset\n",
    "data = pd.read_csv(\"Data (version 3) without dummy variables.csv\")\n",
    "\n",
    "# Split into features and target variables\n",
    "X = data.drop(['tensile_strength', 'thermal_conductivity'], axis=1)\n",
    "y = data['tensile_strength']\n",
    "\n",
    "from sklearn.preprocessing import LabelEncoder\n",
    "\n",
    "X_transformed = X.copy()\n",
    "encoder = LabelEncoder()\n",
    "transformed_temper_code = encoder.fit_transform(X['Temper Code'])\n",
    "transformed_form = encoder.fit_transform(X['Form'])\n",
    "\n",
    "X_transformed['Form'] = transformed_form\n",
    "X_transformed['Temper Code'] = transformed_temper_code\n",
    "\n",
    "# Split into train and test data\n",
    "X_train, X_test, y_train, y_test = train_test_split(X_transformed, y, test_size=0.2, random_state=42)\n",
    "\n",
    "# Initialise model with Abhinav's hyperparameters\n",
    "model = RandomForestRegressor(n_estimators = 1300,\n",
    "                              min_samples_split = 3,\n",
    "                              min_samples_leaf = 1,\n",
    "                              max_features = \"auto\",\n",
    "                              max_depth= 95,\n",
    "                              bootstrap = True,\n",
    "                              random_state = 42)\n",
    "\n",
    "\n",
    "# Fit the model on training data\n",
    "model.fit(X_train, y_train)\n",
    "\n",
    "# # Save model\n",
    "# import pickle\n",
    "\n",
    "# with open('rf_tensile_strength.pickle', 'wb') as f:\n",
    "#     pickle.dump(model, f)"
   ]
  },
  {
   "cell_type": "code",
   "execution_count": 77,
   "metadata": {},
   "outputs": [],
   "source": [
    "from sklearn.tree import DecisionTreeRegressor\n",
    "dt = DecisionTreeRegressor()\n",
    "\n",
    "accuracies = cross_val_score(estimator = model, X = X_train, y = y_train, cv= 20, n_jobs = -1 )"
   ]
  },
  {
   "cell_type": "code",
   "execution_count": 79,
   "metadata": {},
   "outputs": [
    {
     "data": {
      "text/plain": [
       "0.9208078210580488"
      ]
     },
     "execution_count": 79,
     "metadata": {},
     "output_type": "execute_result"
    }
   ],
   "source": [
    "accuracies.mean()"
   ]
  },
  {
   "cell_type": "code",
   "execution_count": 78,
   "metadata": {},
   "outputs": [
    {
     "data": {
      "text/plain": [
       "(0, 1)"
      ]
     },
     "execution_count": 78,
     "metadata": {},
     "output_type": "execute_result"
    },
    {
     "data": {
      "image/png": "[encoded data removed]",
      "text/plain": [
       "<Figure size 432x288 with 1 Axes>"
      ]
     },
     "metadata": {
      "needs_background": "light"
     },
     "output_type": "display_data"
    }
   ],
   "source": [
    "import seaborn as sns\n",
    "sns.boxplot(accuracies)\n",
    "sns.swarmplot(accuracies)\n",
    "plt.xlim([0,1])"
   ]
  },
  {
   "cell_type": "code",
   "execution_count": 58,
   "metadata": {},
   "outputs": [
    {
     "data": {
      "text/plain": [
       "<BarContainer object of 30 artists>"
      ]
     },
     "execution_count": 58,
     "metadata": {},
     "output_type": "execute_result"
    },
    {
     "data": {
      "image/png": "[encoded data removed]",
      "text/plain": [
       "<Figure size 1440x720 with 1 Axes>"
      ]
     },
     "metadata": {
      "needs_background": "light"
     },
     "output_type": "display_data"
    }
   ],
   "source": [
    "dt.fit(X_train, y_train)\n",
    "\n",
    "importances = dt.feature_importances_\n",
    "features = X_transformed.columns\n",
    "\n",
    "imp = importances[importances.argsort()]\n",
    "ft = features[importances.argsort()]\n",
    "\n",
    "plt.figure(figsize=(20,10))\n",
    "plt.barh(ft, imp)"
   ]
  },
  {
   "cell_type": "code",
   "execution_count": null,
   "metadata": {},
   "outputs": [],
   "source": []
  },
  {
   "cell_type": "code",
   "execution_count": 48,
   "metadata": {},
   "outputs": [
    {
     "data": {
      "text/plain": [
       "<BarContainer object of 30 artists>"
      ]
     },
     "execution_count": 48,
     "metadata": {},
     "output_type": "execute_result"
    },
    {
     "data": {
      "image/png": "[encoded data removed]",
      "text/plain": [
       "<Figure size 1440x720 with 1 Axes>"
      ]
     },
     "metadata": {
      "needs_background": "light"
     },
     "output_type": "display_data"
    }
   ],
   "source": [
    "importances = model.feature_importances_\n",
    "features = X_transformed.columns\n",
    "\n",
    "imp = importances[importances.argsort()]\n",
    "ft = features[importances.argsort()]\n",
    "\n",
    "plt.figure(figsize=(20,10))\n",
    "plt.barh(ft, imp)"
   ]
  },
  {
   "cell_type": "code",
   "execution_count": 67,
   "metadata": {},
   "outputs": [
    {
     "data": {
      "image/png": "[encoded data removed]",
      "text/plain": [
       "<Figure size 432x288 with 1 Axes>"
      ]
     },
     "metadata": {
      "needs_background": "light"
     },
     "output_type": "display_data"
    }
   ],
   "source": [
    "preds_ts = model.predict(X_test)\n",
    "\n",
    "plt.scatter(y_test, preds_ts)\n",
    "plt.xlim([0,y_test.max()+10])\n",
    "plt.ylim([0,y_test.max()+10])\n",
    "plt.plot([5, y_test.max()+5], [5, y_test.max()+5], color='red')\n",
    "plt.legend(['Regression Line'])\n",
    "plt.xlabel(\"Actual Tensile Strength\")\n",
    "plt.ylabel(\"Predicted Tensile Strength\")\n",
    "plt.title(\"Actual vs Predicted Tensile Strength (Random Forest model)\")\n",
    "plt.savefig(\"svr_ts\")\n",
    "plt.show()"
   ]
  },
  {
   "cell_type": "code",
   "execution_count": 35,
   "metadata": {},
   "outputs": [
    {
     "data": {
      "text/plain": [
       "SVR(C=1.0, cache_size=200, coef0=0.0, degree=3, epsilon=0.1, gamma='scale',\n",
       "    kernel='rbf', max_iter=-1, shrinking=True, tol=0.001, verbose=False)"
      ]
     },
     "execution_count": 35,
     "metadata": {},
     "output_type": "execute_result"
    }
   ],
   "source": [
    "# Save Thermal Conductivity model as rf_thermal_conductivity.pickle\n",
    "\n",
    "# Read dataset\n",
    "data = pd.read_csv(\"../../Copper Dataset (version 4.0).csv\")\n",
    "\n",
    "# Remove duplicate columns\n",
    "tc_data = data.iloc[:,-30:].drop('tensile_strength', axis=1)  # Subset of relevant features and labels\n",
    "tc_data = tc_data[~tc_data.duplicated(keep='first')]  # Remove duplicates\n",
    "\n",
    "# Split into features and target variables\n",
    "X = tc_data.iloc[:,:-1]\n",
    "y = tc_data['thermal_conductivity']\n",
    "\n",
    "# Split into train and test data\n",
    "X_train, X_test, y_train, y_test = train_test_split(X, y, test_size=0.25, random_state=42)\n",
    "\n",
    "# Initialise model with Abhinav's hyperparameters\n",
    "# model = RandomForestRegressor(n_estimators = 1300,\n",
    "#                               min_samples_split = 3,\n",
    "#                               min_samples_leaf = 1,\n",
    "#                               max_features = \"auto\",\n",
    "#                               max_depth= 95,\n",
    "#                               bootstrap = True,\n",
    "#                               random_state = 42)\n",
    "\n",
    "model = SVR()\n",
    "\n",
    "# Fit the model on training data\n",
    "model.fit(X_train, y_train)\n",
    "\n",
    "# # Save model\n",
    "# import pickle\n",
    "\n",
    "# with open('rf_thermal_conductivity.pickle', 'wb') as f:\n",
    "#     pickle.dump(model, f)"
   ]
  },
  {
   "cell_type": "code",
   "execution_count": 36,
   "metadata": {},
   "outputs": [
    {
     "data": {
      "image/png": "[encoded data removed]",
      "text/plain": [
       "<Figure size 432x288 with 1 Axes>"
      ]
     },
     "metadata": {
      "needs_background": "light"
     },
     "output_type": "display_data"
    }
   ],
   "source": [
    "preds_ts = model.predict(X_test)\n",
    "\n",
    "plt.scatter(y_test, preds_ts)\n",
    "plt.xlim([0,y_test.max()+10])\n",
    "plt.ylim([0,y_test.max()+10])\n",
    "plt.plot([5, y_test.max()+5], [5, y_test.max()+5], color='red')\n",
    "plt.legend(['Regression Line'])\n",
    "plt.xlabel(\"Actual Thermal Conductivity\")\n",
    "plt.ylabel(\"Predicted Thermal Conductivity\")\n",
    "plt.title(\"Actual vs Predicted Thermal Conductivity (SVR)\")\n",
    "plt.savefig(\"svr_tc\")\n",
    "plt.show()"
   ]
  },
  {
   "cell_type": "code",
   "execution_count": null,
   "metadata": {},
   "outputs": [],
   "source": []
  },
  {
   "cell_type": "code",
   "execution_count": null,
   "metadata": {},
   "outputs": [],
   "source": []
  },
  {
   "cell_type": "code",
   "execution_count": null,
   "metadata": {},
   "outputs": [],
   "source": []
  },
  {
   "cell_type": "code",
   "execution_count": null,
   "metadata": {},
   "outputs": [],
   "source": []
  },
  {
   "cell_type": "code",
   "execution_count": null,
   "metadata": {},
   "outputs": [],
   "source": []
  },
  {
   "cell_type": "code",
   "execution_count": null,
   "metadata": {},
   "outputs": [],
   "source": []
  },
  {
   "cell_type": "code",
   "execution_count": null,
   "metadata": {},
   "outputs": [],
   "source": []
  },
  {
   "cell_type": "code",
   "execution_count": null,
   "metadata": {},
   "outputs": [],
   "source": []
  },
  {
   "cell_type": "code",
   "execution_count": 54,
   "metadata": {},
   "outputs": [],
   "source": [
    "# Tensile Strength\n",
    "\n",
    "# Read dataset\n",
    "data = pd.read_csv(\"../../Copper Dataset (version 3.0).csv\")\n",
    "\n",
    "# Split into features and target variables\n",
    "X = data.iloc[:, :-2]\n",
    "y = data['tensile_strength']\n",
    "\n",
    "# Split into train and test data\n",
    "X_train, X_test, y_train, y_test = train_test_split(X, y, test_size=0.2, random_state=42)"
   ]
  },
  {
   "cell_type": "code",
   "execution_count": 55,
   "metadata": {},
   "outputs": [],
   "source": [
    "# Results storage\n",
    "cv_means = []\n",
    "cv_medians = []\n",
    "cv_std = []\n",
    "r2_test_set = []"
   ]
  },
  {
   "cell_type": "markdown",
   "metadata": {},
   "source": [
    "##### 1. Random Forest (params by Venkat)"
   ]
  },
  {
   "cell_type": "code",
   "execution_count": 59,
   "metadata": {},
   "outputs": [],
   "source": [
    "# Initialise model with Venkat's hyperparameters\n",
    "model = RandomForestRegressor(n_estimators = 1300,\n",
    "                              min_samples_split = 3,\n",
    "                              min_samples_leaf = 1,\n",
    "                              max_features = \"auto\",\n",
    "                              max_depth= 95,\n",
    "                              bootstrap = True,\n",
    "                              random_state = 42)\n",
    "\n",
    "\n",
    "#Applying k-fold cross-validation\n",
    "from sklearn.model_selection import cross_val_score\n",
    "accuracies = cross_val_score(estimator = model, X= X_train, y = y_train, cv= 10, n_jobs = -1)\n",
    "\n",
    "model_accuracy = accuracies.mean()\n",
    "cv_median = np.median(accuracies)\n",
    "accuracy_std = accuracies.std()\n",
    "\n",
    "model.fit(X_train, y_train)\n",
    "r2 = metrics.r2_score(model.predict(X_test), y_test)\n",
    "\n",
    "cv_means.append(model_accuracy)\n",
    "cv_medians.append(cv_median)\n",
    "cv_std.append(accuracy_std)\n",
    "r2_test_set.append(r2)"
   ]
  },
  {
   "cell_type": "markdown",
   "metadata": {},
   "source": [
    "##### 2. Random Forest (params by Abhinav)"
   ]
  },
  {
   "cell_type": "code",
   "execution_count": 19,
   "metadata": {},
   "outputs": [],
   "source": [
    "# Initialise model with Abhinav's hyperparameters\n",
    "model = RandomForestRegressor(n_estimators = 400,\n",
    "                              min_samples_split = 2,\n",
    "                              min_samples_leaf = 1,\n",
    "                              max_features = \"sqrt\",\n",
    "                              max_depth= None,\n",
    "                              bootstrap = False,\n",
    "                              random_state = 42)\n",
    "\n",
    "#Applying k-fold cross-validation\n",
    "from sklearn.model_selection import cross_val_score\n",
    "accuracies = cross_val_score(estimator = model, X = X_train, y = y_train, cv= 10, n_jobs = -1 )\n",
    "\n",
    "model_accuracy = accuracies.mean()\n",
    "cv_median = np.median(accuracies)\n",
    "accuracy_std = accuracies.std()\n",
    "\n",
    "model.fit(X_train, y_train)\n",
    "r2 = metrics.r2_score(model.predict(X_test), y_test)\n",
    "\n",
    "cv_means.append(model_accuracy)\n",
    "cv_medians.append(cv_median)\n",
    "cv_std.append(accuracy_std)\n",
    "r2_test_set.append(r2)"
   ]
  },
  {
   "cell_type": "code",
   "execution_count": 60,
   "metadata": {},
   "outputs": [
    {
     "name": "stdout",
     "output_type": "stream",
     "text": [
      "Tensile Strength\n"
     ]
    },
    {
     "data": {
      "text/html": [
       "<div>\n",
       "<style scoped>\n",
       "    .dataframe tbody tr th:only-of-type {\n",
       "        vertical-align: middle;\n",
       "    }\n",
       "\n",
       "    .dataframe tbody tr th {\n",
       "        vertical-align: top;\n",
       "    }\n",
       "\n",
       "    .dataframe thead th {\n",
       "        text-align: right;\n",
       "    }\n",
       "</style>\n",
       "<table border=\"1\" class=\"dataframe\">\n",
       "  <thead>\n",
       "    <tr style=\"text-align: right;\">\n",
       "      <th></th>\n",
       "      <th>R-squared on Test</th>\n",
       "      <th>CV mean</th>\n",
       "      <th>CV median</th>\n",
       "      <th>CV std</th>\n",
       "    </tr>\n",
       "  </thead>\n",
       "  <tbody>\n",
       "    <tr>\n",
       "      <th>Random Forests</th>\n",
       "      <td>0.918125</td>\n",
       "      <td>0.896573</td>\n",
       "      <td>0.892660</td>\n",
       "      <td>0.034438</td>\n",
       "    </tr>\n",
       "    <tr>\n",
       "      <th>Decision Trees</th>\n",
       "      <td>0.905646</td>\n",
       "      <td>0.851480</td>\n",
       "      <td>0.839740</td>\n",
       "      <td>0.054939</td>\n",
       "    </tr>\n",
       "    <tr>\n",
       "      <th>Multiple Linear Regression</th>\n",
       "      <td>0.769285</td>\n",
       "      <td>0.826907</td>\n",
       "      <td>0.813903</td>\n",
       "      <td>0.066037</td>\n",
       "    </tr>\n",
       "    <tr>\n",
       "      <th>SVR</th>\n",
       "      <td>-55109.750385</td>\n",
       "      <td>-0.066808</td>\n",
       "      <td>-0.071163</td>\n",
       "      <td>0.034479</td>\n",
       "    </tr>\n",
       "  </tbody>\n",
       "</table>\n",
       "</div>"
      ],
      "text/plain": [
       "                            R-squared on Test   CV mean  CV median    CV std\n",
       "Random Forests                       0.918125  0.896573   0.892660  0.034438\n",
       "Decision Trees                       0.905646  0.851480   0.839740  0.054939\n",
       "Multiple Linear Regression           0.769285  0.826907   0.813903  0.066037\n",
       "SVR                             -55109.750385 -0.066808  -0.071163  0.034479"
      ]
     },
     "execution_count": 60,
     "metadata": {},
     "output_type": "execute_result"
    }
   ],
   "source": [
    "model_names = ['Multiple Linear Regression', 'SVR', 'Decision Trees', 'Random Forests']\n",
    "\n",
    "model_comparisons = {\n",
    "                     'R-squared on Test' : r2_test_set,\n",
    "                     'CV mean' : cv_means,\n",
    "                     'CV median' : cv_medians,\n",
    "                     'CV std' : cv_std\n",
    "                     }\n",
    "\n",
    "comparison_df = pd.DataFrame(model_comparisons, index=model_names)\n",
    "\n",
    "print(\"Tensile Strength\")\n",
    "comparison_df.sort_values(by=['CV mean', 'CV median', 'R-squared on Test'], ascending=False)"
   ]
  },
  {
   "cell_type": "code",
   "execution_count": null,
   "metadata": {},
   "outputs": [],
   "source": []
  }
 ],
 "metadata": {
  "kernelspec": {
   "display_name": "Python 3",
   "language": "python",
   "name": "python3"
  },
  "language_info": {
   "codemirror_mode": {
    "name": "ipython",
    "version": 3
   },
   "file_extension": ".py",
   "mimetype": "text/x-python",
   "name": "python",
   "nbconvert_exporter": "python",
   "pygments_lexer": "ipython3",
   "version": "3.7.7"
  }
 },
 "nbformat": 4,
 "nbformat_minor": 4
}
