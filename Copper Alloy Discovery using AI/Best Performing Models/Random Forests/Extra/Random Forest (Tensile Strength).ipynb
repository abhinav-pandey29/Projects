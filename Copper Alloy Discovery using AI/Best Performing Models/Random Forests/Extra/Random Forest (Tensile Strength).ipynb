{
 "cells": [
  {
   "cell_type": "code",
   "execution_count": 1,
   "metadata": {},
   "outputs": [],
   "source": [
    "\n",
    "import numpy as np\n",
    "import pandas as pd\n",
    "import matplotlib.pyplot as plt\n",
    "import seaborn as sns\n",
    "\n",
    "from sklearn.linear_model import LinearRegression, Ridge, Lasso\n",
    "from sklearn.svm import SVR\n",
    "from sklearn.tree import DecisionTreeRegressor\n",
    "from sklearn.ensemble import AdaBoostRegressor, RandomForestRegressor\n",
    "from xgboost import XGBRegressor, XGBRFRegressor\n",
    "from sklearn.neighbors import KNeighborsRegressor\n",
    "from sklearn.neural_network import MLPRegressor\n",
    "\n",
    "from sklearn.model_selection import train_test_split, cross_val_score\n",
    "from sklearn import metrics\n",
    "\n",
    "from sklearn.model_selection import RandomizedSearchCV, GridSearchCV\n",
    "\n",
    "\n",
    "from pprint import pprint\n",
    "\n",
    "from warnings import filterwarnings\n",
    "filterwarnings('ignore')"
   ]
  },
  {
   "cell_type": "markdown",
   "metadata": {},
   "source": [
    "#### Helper Functions"
   ]
  },
  {
   "cell_type": "code",
   "execution_count": 31,
   "metadata": {
    "jupyter": {
     "source_hidden": true
    }
   },
   "outputs": [],
   "source": [
    "# def model_and_evaluate(mode, plot=False):\n",
    "    \n",
    "#     # Names of models\n",
    "#     model_labels = [\n",
    "#         'LinearRegression',\n",
    "#           'Lasso',\n",
    "#           'Ridge',\n",
    "#           'DecisionTreeRegressor',\n",
    "#           'KNeighborsRegressor',\n",
    "#           'MLPRegressor',\n",
    "#           'RandomForestRegressor',\n",
    "#           'XGBRegressor',\n",
    "#           'XGBRFRegressor', \n",
    "# #           'SVR', \n",
    "#           'AdaBoostRegressor'            \n",
    "#          ]\n",
    "\n",
    "#     # Regression Models with default hyper-parameters\n",
    "#     models = [\n",
    "#         LinearRegression(),\n",
    "#           Lasso(alpha=0.001),\n",
    "#           Ridge(),\n",
    "#           DecisionTreeRegressor(),\n",
    "#           KNeighborsRegressor(weights='distance'),\n",
    "#           MLPRegressor(random_state=42, max_iter=2000),\n",
    "#           RandomForestRegressor(),\n",
    "#           XGBRegressor(objective='reg:squarederror'),\n",
    "#           XGBRFRegressor(objective='reg:squarederror', learning_rate=1), \n",
    "# #           SVR(C=500000), \n",
    "#           AdaBoostRegressor()\n",
    "#     ]\n",
    "\n",
    "#     r2_scores = []\n",
    "#     mse_scores = []\n",
    "#     mae_scores = []\n",
    "\n",
    "#     for i, (model, name) in enumerate(zip(models, model_labels)):\n",
    "\n",
    "#         accuracy = cross_val_score(model, X_train, y_train, cv=10, n_jobs=-1)\n",
    "        \n",
    "        \n",
    "# #         if mode == 'train':\n",
    "# #             y_pred = model.predict(X_train)\n",
    "# #             evaluation = y_train\n",
    "# # #             print(\"On Training Data\")\n",
    "# #         elif mode == 'test':\n",
    "# #             y_pred = model.predict(X_test)\n",
    "# #             evaluation = y_test\n",
    "# # #             print(\"On Testing Data\")\n",
    "\n",
    "\n",
    "# #         r2_scores.append()\n",
    "# #         mse_scores.append(metrics.mean_squared_error(evaluation, y_pred))\n",
    "# #         mae_scores.append(metrics.mean_absolute_error(evaluation, y_pred))  \n",
    "        \n",
    "#         if plot:\n",
    "#             print(name, accuracy)\n",
    "#             print(\"Mean Accuracy = {}\".format(np.mean(accuracy)))\n",
    "#             fig, ax = plt.subplots()\n",
    "#             ax.plot(list(range(10)), accuracy)\n",
    "#             ax.set_xlabel(\"Fold #\")\n",
    "#             ax.set_ylabel(\"Accuracy\")\n",
    "#             ax.set_title(name)\n",
    "#             ax.set_ylim([0, 1])\n",
    "#             plt.show()\n",
    "        \n",
    "# #     evaluation_df = pd.DataFrame({\"model\" : model_labels,\n",
    "# #                                   \"R-squared\": r2_scores, \n",
    "# #                                   \"MSE\" : mse_scores, \n",
    "# #                                   \"MAE\" : mae_scores}).sort_values(by=['R-squared'], ascending=False)\n",
    "    \n",
    "    \n",
    "    \n",
    "# #     return evaluation_df.reset_index(drop=True).set_index('model')"
   ]
  },
  {
   "cell_type": "code",
   "execution_count": 27,
   "metadata": {},
   "outputs": [],
   "source": [
    "# Read dataset\n",
    "data = pd.read_csv(\"../../../Copper Dataset (version 3.0).csv\")\n",
    "\n",
    "# Split into features and target variables\n",
    "X = data.iloc[:, :-2]\n",
    "y = data['tensile_strength']\n",
    "\n",
    "# Split into train and test data\n",
    "X_train, X_test, y_train, y_test = train_test_split(X, y, test_size=0.0005, random_state=37)  # (1029 in train/ 258 in test)"
   ]
  },
  {
   "cell_type": "code",
   "execution_count": 30,
   "metadata": {},
   "outputs": [
    {
     "data": {
      "text/html": [
       "<div>\n",
       "<style scoped>\n",
       "    .dataframe tbody tr th:only-of-type {\n",
       "        vertical-align: middle;\n",
       "    }\n",
       "\n",
       "    .dataframe tbody tr th {\n",
       "        vertical-align: top;\n",
       "    }\n",
       "\n",
       "    .dataframe thead th {\n",
       "        text-align: right;\n",
       "    }\n",
       "</style>\n",
       "<table border=\"1\" class=\"dataframe\">\n",
       "  <thead>\n",
       "    <tr style=\"text-align: right;\">\n",
       "      <th></th>\n",
       "      <th>bar</th>\n",
       "      <th>flat products &amp; rod</th>\n",
       "      <th>flat products &amp; wire</th>\n",
       "      <th>flat products, rod &amp; bar</th>\n",
       "      <th>forgings</th>\n",
       "      <th>pipe</th>\n",
       "      <th>plate</th>\n",
       "      <th>products</th>\n",
       "      <th>rod</th>\n",
       "      <th>rod &amp; bar</th>\n",
       "      <th>...</th>\n",
       "      <th>co</th>\n",
       "      <th>al</th>\n",
       "      <th>be</th>\n",
       "      <th>cr</th>\n",
       "      <th>si</th>\n",
       "      <th>ti</th>\n",
       "      <th>ca</th>\n",
       "      <th>li</th>\n",
       "      <th>b</th>\n",
       "      <th>c</th>\n",
       "    </tr>\n",
       "  </thead>\n",
       "  <tbody>\n",
       "    <tr>\n",
       "      <td>120</td>\n",
       "      <td>0</td>\n",
       "      <td>0</td>\n",
       "      <td>0</td>\n",
       "      <td>0</td>\n",
       "      <td>0</td>\n",
       "      <td>0</td>\n",
       "      <td>0</td>\n",
       "      <td>1</td>\n",
       "      <td>0</td>\n",
       "      <td>0</td>\n",
       "      <td>...</td>\n",
       "      <td>0.0</td>\n",
       "      <td>0.0</td>\n",
       "      <td>0.0</td>\n",
       "      <td>0.0</td>\n",
       "      <td>0.0</td>\n",
       "      <td>0.0</td>\n",
       "      <td>0.0</td>\n",
       "      <td>0.0</td>\n",
       "      <td>0.0</td>\n",
       "      <td>0.0</td>\n",
       "    </tr>\n",
       "  </tbody>\n",
       "</table>\n",
       "<p>1 rows × 120 columns</p>\n",
       "</div>"
      ],
      "text/plain": [
       "     bar  flat products & rod  flat products & wire  flat products, rod & bar  \\\n",
       "120    0                    0                     0                         0   \n",
       "\n",
       "     forgings  pipe  plate  products  rod  rod & bar  ...   co   al   be   cr  \\\n",
       "120         0     0      0         1    0          0  ...  0.0  0.0  0.0  0.0   \n",
       "\n",
       "      si   ti   ca   li    b    c  \n",
       "120  0.0  0.0  0.0  0.0  0.0  0.0  \n",
       "\n",
       "[1 rows x 120 columns]"
      ]
     },
     "execution_count": 30,
     "metadata": {},
     "output_type": "execute_result"
    }
   ],
   "source": [
    "X_train.shape\n",
    "X_test"
   ]
  },
  {
   "cell_type": "code",
   "execution_count": 32,
   "metadata": {
    "jupyter": {
     "source_hidden": true
    }
   },
   "outputs": [],
   "source": [
    "# # Model using multiple techniques\n",
    "\n",
    "# # Evaluate on training data\n",
    "# train_eval = model_and_evaluate('train', plot=True)\n",
    "# # print(train_eval)\n",
    "\n",
    "# # # Evaluate on testing data\n",
    "# # test_eval = model_and_evaluate('test')\n",
    "# # print(test_eval)"
   ]
  },
  {
   "cell_type": "markdown",
   "metadata": {
    "jupyter": {
     "source_hidden": true
    }
   },
   "source": [
    "# Best Models"
   ]
  },
  {
   "cell_type": "code",
   "execution_count": 33,
   "metadata": {
    "jupyter": {
     "source_hidden": true
    }
   },
   "outputs": [],
   "source": [
    "# # Mask for models with R-squared score > 0.8\n",
    "# mask = test_eval['R-squared'] > 0.8\n",
    "# best_models = test_eval[mask].index.values\n",
    "\n",
    "# # Display names of the best performing models\n",
    "# print(\"Models with r-squared > 0.80 are :-\\n\")\n",
    "\n",
    "# for i, model_name in enumerate(best_models):\n",
    "#     print(\"{}. {}\".format(i+1, model_name))"
   ]
  },
  {
   "cell_type": "markdown",
   "metadata": {},
   "source": [
    "# Hyperparameter Tuning for each model"
   ]
  },
  {
   "cell_type": "markdown",
   "metadata": {},
   "source": [
    "**1. Random Forest Regressor** \n",
    "\n",
    "a. Hyperparamter tuning with **RandomizedSearchCV**\\\n",
    "b. Hyperparamter tuning with **GridSearchCV**"
   ]
  },
  {
   "cell_type": "markdown",
   "metadata": {},
   "source": [
    "#### Random Search Cross Validation"
   ]
  },
  {
   "cell_type": "code",
   "execution_count": 7,
   "metadata": {},
   "outputs": [
    {
     "name": "stdout",
     "output_type": "stream",
     "text": [
      "{'bootstrap': [True, False],\n",
      " 'max_depth': [10, 20, 30, 40, 50, 60, 70, 80, 90, 100, 110, None],\n",
      " 'max_features': ['auto', 'sqrt'],\n",
      " 'min_samples_leaf': [1, 2, 4],\n",
      " 'min_samples_split': [2, 5, 10],\n",
      " 'n_estimators': [200, 400, 600, 800, 1000, 1200, 1400, 1600, 1800, 2000]}\n"
     ]
    }
   ],
   "source": [
    "# Create grid for RandomizedSearchCV\n",
    "\n",
    "# Number of trees in random forest\n",
    "n_estimators = [int(x) for x in np.linspace(start = 200, stop = 2000, num = 10)]\n",
    "# Number of features to consider at every split\n",
    "max_features = ['auto', 'sqrt']\n",
    "# Maximum number of levels in tree\n",
    "max_depth = [int(x) for x in np.linspace(10, 110, num = 11)]\n",
    "max_depth.append(None)\n",
    "# Minimum number of samples required to split a node\n",
    "min_samples_split = [2, 5, 10]\n",
    "# Minimum number of samples required at each leaf node\n",
    "min_samples_leaf = [1, 2, 4]\n",
    "# Method of selecting samples for training each tree\n",
    "bootstrap = [True, False]\n",
    "\n",
    "\n",
    "# Create the random grid\n",
    "random_grid = {'n_estimators': n_estimators,\n",
    "               'max_features': max_features,\n",
    "               'max_depth': max_depth,\n",
    "               'min_samples_split': min_samples_split,\n",
    "               'min_samples_leaf': min_samples_leaf,\n",
    "               'bootstrap': bootstrap}\n",
    "\n",
    "pprint(random_grid)"
   ]
  },
  {
   "cell_type": "code",
   "execution_count": 8,
   "metadata": {},
   "outputs": [
    {
     "name": "stdout",
     "output_type": "stream",
     "text": [
      "Fitting 3 folds for each of 100 candidates, totalling 300 fits\n"
     ]
    },
    {
     "name": "stderr",
     "output_type": "stream",
     "text": [
      "[Parallel(n_jobs=-1)]: Using backend LokyBackend with 8 concurrent workers.\n",
      "[Parallel(n_jobs=-1)]: Done  25 tasks      | elapsed:   22.6s\n",
      "[Parallel(n_jobs=-1)]: Done 146 tasks      | elapsed:  1.8min\n",
      "[Parallel(n_jobs=-1)]: Done 300 out of 300 | elapsed:  4.2min finished\n"
     ]
    },
    {
     "data": {
      "text/plain": [
       "RandomizedSearchCV(cv=3, error_score=nan,\n",
       "                   estimator=RandomForestRegressor(bootstrap=True,\n",
       "                                                   ccp_alpha=0.0,\n",
       "                                                   criterion='mse',\n",
       "                                                   max_depth=None,\n",
       "                                                   max_features='auto',\n",
       "                                                   max_leaf_nodes=None,\n",
       "                                                   max_samples=None,\n",
       "                                                   min_impurity_decrease=0.0,\n",
       "                                                   min_impurity_split=None,\n",
       "                                                   min_samples_leaf=1,\n",
       "                                                   min_samples_split=2,\n",
       "                                                   min_weight_fraction_leaf=0.0,\n",
       "                                                   n_estimators=100,\n",
       "                                                   n_jobs=None, oob_score=Fals...\n",
       "                   param_distributions={'bootstrap': [True, False],\n",
       "                                        'max_depth': [10, 20, 30, 40, 50, 60,\n",
       "                                                      70, 80, 90, 100, 110,\n",
       "                                                      None],\n",
       "                                        'max_features': ['auto', 'sqrt'],\n",
       "                                        'min_samples_leaf': [1, 2, 4],\n",
       "                                        'min_samples_split': [2, 5, 10],\n",
       "                                        'n_estimators': [200, 400, 600, 800,\n",
       "                                                         1000, 1200, 1400, 1600,\n",
       "                                                         1800, 2000]},\n",
       "                   pre_dispatch='2*n_jobs', random_state=42, refit=True,\n",
       "                   return_train_score=False, scoring=None, verbose=2)"
      ]
     },
     "execution_count": 8,
     "metadata": {},
     "output_type": "execute_result"
    }
   ],
   "source": [
    "# Use the random grid to search for best hyperparameters\n",
    "\n",
    "# First create the base model to tune\n",
    "rf = RandomForestRegressor()\n",
    "# Random search of parameters, using 3 fold cross validation, \n",
    "# search across 100 different combinations, and use all available cores\n",
    "rf_random = RandomizedSearchCV(estimator = rf,\n",
    "                               param_distributions = random_grid,\n",
    "                               n_iter = 100,\n",
    "                               cv = 3,   # 3 folds\n",
    "                               verbose=2,\n",
    "                               random_state=42,\n",
    "                               n_jobs = -1)\n",
    "# Fit the random search model\n",
    "rf_random.fit(X_train, y_train)"
   ]
  },
  {
   "cell_type": "markdown",
   "metadata": {},
   "source": [
    "We can view the **best parameters** from fitting the random search:"
   ]
  },
  {
   "cell_type": "code",
   "execution_count": 9,
   "metadata": {},
   "outputs": [
    {
     "data": {
      "text/plain": [
       "{'n_estimators': 1400,\n",
       " 'min_samples_split': 2,\n",
       " 'min_samples_leaf': 1,\n",
       " 'max_features': 'auto',\n",
       " 'max_depth': 100,\n",
       " 'bootstrap': True}"
      ]
     },
     "execution_count": 9,
     "metadata": {},
     "output_type": "execute_result"
    }
   ],
   "source": [
    "rf_random.best_params_"
   ]
  },
  {
   "cell_type": "markdown",
   "metadata": {},
   "source": [
    "### Evaluate Random Search\n",
    "\n",
    "To determine if random search yielded a better model, we **compare the base model** with the **best random search model**."
   ]
  },
  {
   "cell_type": "code",
   "execution_count": 10,
   "metadata": {},
   "outputs": [
    {
     "name": "stdout",
     "output_type": "stream",
     "text": [
      "Model Performance\n",
      "Average Error: 4.9473 degrees.\n",
      "Accuracy = 92.78%.\n",
      "\n",
      "Model Performance\n",
      "Average Error: 4.5930 degrees.\n",
      "Accuracy = 93.31%.\n",
      "\n",
      "Improvement of 0.57%.\n"
     ]
    }
   ],
   "source": [
    "def evaluate(model, test_features, test_labels):\n",
    "    predictions = model.predict(test_features)\n",
    "    errors = abs(predictions - test_labels)\n",
    "    mape = 100 * np.mean(errors / test_labels)\n",
    "    accuracy = 100 - mape\n",
    "    print('Model Performance')\n",
    "    print('Average Error: {:0.4f} degrees.'.format(np.mean(errors)))\n",
    "    print('Accuracy = {:0.2f}%.'.format(accuracy))\n",
    "    print()\n",
    "    return accuracy\n",
    "\n",
    "\n",
    "base_model = RandomForestRegressor(n_estimators = 10, random_state = 42)\n",
    "base_model.fit(X_train, y_train)\n",
    "base_accuracy = evaluate(base_model, X_test, y_test)\n",
    "\n",
    "best_random = rf_random.best_estimator_\n",
    "random_accuracy = evaluate(best_random, X_test, y_test)\n",
    "\n",
    "print('Improvement of {:0.2f}%.'.format( 100 * (random_accuracy - base_accuracy) / base_accuracy))"
   ]
  },
  {
   "cell_type": "code",
   "execution_count": 12,
   "metadata": {},
   "outputs": [
    {
     "data": {
      "text/html": [
       "<div>\n",
       "<style scoped>\n",
       "    .dataframe tbody tr th:only-of-type {\n",
       "        vertical-align: middle;\n",
       "    }\n",
       "\n",
       "    .dataframe tbody tr th {\n",
       "        vertical-align: top;\n",
       "    }\n",
       "\n",
       "    .dataframe thead th {\n",
       "        text-align: right;\n",
       "    }\n",
       "</style>\n",
       "<table border=\"1\" class=\"dataframe\">\n",
       "  <thead>\n",
       "    <tr style=\"text-align: right;\">\n",
       "      <th></th>\n",
       "      <th>R-squared</th>\n",
       "      <th>MSE</th>\n",
       "      <th>MAE</th>\n",
       "    </tr>\n",
       "  </thead>\n",
       "  <tbody>\n",
       "    <tr>\n",
       "      <td>Random Forest Regressor</td>\n",
       "      <td>0.956</td>\n",
       "      <td>58.310642</td>\n",
       "      <td>4.592979</td>\n",
       "    </tr>\n",
       "  </tbody>\n",
       "</table>\n",
       "</div>"
      ],
      "text/plain": [
       "                         R-squared        MSE       MAE\n",
       "Random Forest Regressor      0.956  58.310642  4.592979"
      ]
     },
     "execution_count": 12,
     "metadata": {},
     "output_type": "execute_result"
    }
   ],
   "source": [
    "model_name = \"Random Forest Regressor\"\n",
    "y_pred = best_random.predict(X_test)\n",
    "\n",
    "r2_scores = round(metrics.r2_score(y_test, y_pred), 4)\n",
    "mse_scores = metrics.mean_squared_error(y_test, y_pred)\n",
    "mae_scores = metrics.mean_absolute_error(y_test, y_pred)\n",
    "        \n",
    "evaluation_df = pd.DataFrame({\"R-squared\": r2_scores, \n",
    "                              \"MSE\" : mse_scores, \n",
    "                              \"MAE\" : mae_scores}, index=[model_name])\n",
    "\n",
    "evaluation_df"
   ]
  },
  {
   "cell_type": "code",
   "execution_count": 69,
   "metadata": {},
   "outputs": [],
   "source": [
    "# model = best_random \n",
    "\n",
    "# importances = model.feature_importances_\n",
    "# std = np.std([tree.feature_importances_ for tree in model.estimators_],\n",
    "#              axis=0)\n",
    "# indices = np.argsort(importances)[::-1]\n",
    "\n",
    "# # Print the feature ranking\n",
    "# print(\"Feature ranking:\")\n",
    "# labels = []\n",
    "# for f in range(X_train.shape[1]):\n",
    "# #     print(\"%d. feature %s (%f)\" % (f + 1, X_train.columns[indices[f]], importances[indices[f]]))\n",
    "#     labels.append(X_train.columns[indices[f]])\n",
    "\n",
    "# # Plot the feature importances of the forest\n",
    "# plt.figure(figsize=(10,20))\n",
    "# plt.title(\"Feature importances\")\n",
    "# plt.barh(labels, importances[indices],\n",
    "#        color=\"r\", yerr=std[indices], align=\"center\")\n",
    "# plt.yticks(ticks=labels)\n",
    "# plt.ylim([-1, X.shape[1]])\n",
    "# plt.show()"
   ]
  },
  {
   "cell_type": "markdown",
   "metadata": {},
   "source": [
    "#### Grid Search Cross Validation\n",
    "\n",
    "To use Grid Search, we **make another grid based on the best values provided by random search**"
   ]
  },
  {
   "cell_type": "code",
   "execution_count": 13,
   "metadata": {},
   "outputs": [
    {
     "name": "stdout",
     "output_type": "stream",
     "text": [
      "Fitting 3 folds for each of 3200 candidates, totalling 9600 fits\n"
     ]
    },
    {
     "name": "stderr",
     "output_type": "stream",
     "text": [
      "[Parallel(n_jobs=-1)]: Using backend LokyBackend with 8 concurrent workers.\n",
      "[Parallel(n_jobs=-1)]: Done  25 tasks      | elapsed:   16.9s\n",
      "[Parallel(n_jobs=-1)]: Done 146 tasks      | elapsed:  1.1min\n",
      "[Parallel(n_jobs=-1)]: Done 349 tasks      | elapsed:  2.6min\n",
      "[Parallel(n_jobs=-1)]: Done 632 tasks      | elapsed:  4.7min\n",
      "[Parallel(n_jobs=-1)]: Done 997 tasks      | elapsed:  8.2min\n",
      "[Parallel(n_jobs=-1)]: Done 1442 tasks      | elapsed: 13.5min\n",
      "[Parallel(n_jobs=-1)]: Done 1969 tasks      | elapsed: 17.8min\n",
      "[Parallel(n_jobs=-1)]: Done 2576 tasks      | elapsed: 25.1min\n",
      "[Parallel(n_jobs=-1)]: Done 3265 tasks      | elapsed: 30.4min\n",
      "[Parallel(n_jobs=-1)]: Done 4034 tasks      | elapsed: 38.6min\n",
      "[Parallel(n_jobs=-1)]: Done 4885 tasks      | elapsed: 47.9min\n",
      "[Parallel(n_jobs=-1)]: Done 5816 tasks      | elapsed: 55.1min\n",
      "[Parallel(n_jobs=-1)]: Done 6829 tasks      | elapsed: 64.6min\n",
      "[Parallel(n_jobs=-1)]: Done 7922 tasks      | elapsed: 75.0min\n",
      "[Parallel(n_jobs=-1)]: Done 9097 tasks      | elapsed: 85.9min\n",
      "[Parallel(n_jobs=-1)]: Done 9600 out of 9600 | elapsed: 92.4min finished\n"
     ]
    },
    {
     "data": {
      "text/plain": [
       "GridSearchCV(cv=3, error_score=nan,\n",
       "             estimator=RandomForestRegressor(bootstrap=True, ccp_alpha=0.0,\n",
       "                                             criterion='mse', max_depth=None,\n",
       "                                             max_features='auto',\n",
       "                                             max_leaf_nodes=None,\n",
       "                                             max_samples=None,\n",
       "                                             min_impurity_decrease=0.0,\n",
       "                                             min_impurity_split=None,\n",
       "                                             min_samples_leaf=1,\n",
       "                                             min_samples_split=2,\n",
       "                                             min_weight_fraction_leaf=0.0,\n",
       "                                             n_estimators=100, n_jobs=None,\n",
       "                                             oob_score=False, rand...e=None,\n",
       "                                             verbose=0, warm_start=False),\n",
       "             iid='deprecated', n_jobs=-1,\n",
       "             param_grid={'bootstrap': [True],\n",
       "                         'max_depth': [80, 90, 95, 100, 105, 110, 115, 120],\n",
       "                         'max_features': [2, 3, 4, 5, 'auto'],\n",
       "                         'min_samples_leaf': [1, 2, 3, 4, 5],\n",
       "                         'min_samples_split': [1, 2, 3, 4],\n",
       "                         'n_estimators': [1300, 1400, 1450, 1500]},\n",
       "             pre_dispatch='2*n_jobs', refit=True, return_train_score=False,\n",
       "             scoring=None, verbose=2)"
      ]
     },
     "execution_count": 13,
     "metadata": {},
     "output_type": "execute_result"
    }
   ],
   "source": [
    "# Create the parameter grid based on the results of random search \n",
    "param_grid = {\n",
    "    'bootstrap': [True],\n",
    "    'max_depth': [80, 90, 95, 100, 105, 110, 115, 120],\n",
    "    'max_features': [2, 3, 4, 5, 'auto'],\n",
    "    'min_samples_leaf': [1, 2, 3, 4, 5],\n",
    "    'min_samples_split': [1, 2, 3, 4],\n",
    "    'n_estimators': [1300, 1400, 1450, 1500]\n",
    "}\n",
    "\n",
    "# Create a based model\n",
    "rf = RandomForestRegressor()\n",
    "\n",
    "# Instantiate the grid search model\n",
    "grid_search = GridSearchCV(estimator = rf, param_grid = param_grid, \n",
    "                          cv = 3, n_jobs = -1, verbose = 2)\n",
    "\n",
    "# Fit the grid search to the data\n",
    "grid_search.fit(X_train, y_train)"
   ]
  },
  {
   "cell_type": "code",
   "execution_count": 14,
   "metadata": {},
   "outputs": [
    {
     "data": {
      "text/plain": [
       "{'bootstrap': True,\n",
       " 'max_depth': 95,\n",
       " 'max_features': 'auto',\n",
       " 'min_samples_leaf': 1,\n",
       " 'min_samples_split': 3,\n",
       " 'n_estimators': 1300}"
      ]
     },
     "execution_count": 14,
     "metadata": {},
     "output_type": "execute_result"
    }
   ],
   "source": [
    "grid_search.best_params_"
   ]
  },
  {
   "cell_type": "code",
   "execution_count": 15,
   "metadata": {},
   "outputs": [
    {
     "name": "stdout",
     "output_type": "stream",
     "text": [
      "Model Performance\n",
      "Average Error: 4.5759 degrees.\n",
      "Accuracy = 93.34%.\n",
      "\n",
      "Improvement of 0.60%.\n"
     ]
    }
   ],
   "source": [
    "best_grid = grid_search.best_estimator_\n",
    "grid_accuracy = evaluate(best_grid, X_test, y_test)\n",
    "\n",
    "print('Improvement of {:0.2f}%.'.format( 100 * (grid_accuracy - base_accuracy) / base_accuracy))"
   ]
  },
  {
   "cell_type": "code",
   "execution_count": 16,
   "metadata": {},
   "outputs": [
    {
     "data": {
      "text/html": [
       "<div>\n",
       "<style scoped>\n",
       "    .dataframe tbody tr th:only-of-type {\n",
       "        vertical-align: middle;\n",
       "    }\n",
       "\n",
       "    .dataframe tbody tr th {\n",
       "        vertical-align: top;\n",
       "    }\n",
       "\n",
       "    .dataframe thead th {\n",
       "        text-align: right;\n",
       "    }\n",
       "</style>\n",
       "<table border=\"1\" class=\"dataframe\">\n",
       "  <thead>\n",
       "    <tr style=\"text-align: right;\">\n",
       "      <th></th>\n",
       "      <th>R-squared</th>\n",
       "      <th>MSE</th>\n",
       "      <th>MAE</th>\n",
       "    </tr>\n",
       "  </thead>\n",
       "  <tbody>\n",
       "    <tr>\n",
       "      <td>Random Forest Regressor (Grid Search)</td>\n",
       "      <td>0.9564</td>\n",
       "      <td>57.774134</td>\n",
       "      <td>4.575869</td>\n",
       "    </tr>\n",
       "  </tbody>\n",
       "</table>\n",
       "</div>"
      ],
      "text/plain": [
       "                                       R-squared        MSE       MAE\n",
       "Random Forest Regressor (Grid Search)     0.9564  57.774134  4.575869"
      ]
     },
     "execution_count": 16,
     "metadata": {},
     "output_type": "execute_result"
    }
   ],
   "source": [
    "model_name = \"Random Forest Regressor (Grid Search)\"\n",
    "y_pred = best_grid.predict(X_test)\n",
    "\n",
    "r2_scores = round(metrics.r2_score(y_test, y_pred), 4)\n",
    "mse_scores = metrics.mean_squared_error(y_test, y_pred)\n",
    "mae_scores = metrics.mean_absolute_error(y_test, y_pred)\n",
    "        \n",
    "evaluation_df = pd.DataFrame({\"R-squared\": r2_scores, \n",
    "                              \"MSE\" : mse_scores, \n",
    "                              \"MAE\" : mae_scores}, index=[model_name])\n",
    "\n",
    "evaluation_df"
   ]
  },
  {
   "cell_type": "code",
   "execution_count": 17,
   "metadata": {},
   "outputs": [
    {
     "name": "stdout",
     "output_type": "stream",
     "text": [
      "Fitting 3 folds for each of 4 candidates, totalling 12 fits\n"
     ]
    },
    {
     "name": "stderr",
     "output_type": "stream",
     "text": [
      "[Parallel(n_jobs=-1)]: Using backend LokyBackend with 8 concurrent workers.\n",
      "[Parallel(n_jobs=-1)]: Done   4 out of  12 | elapsed:   13.0s remaining:   26.1s\n",
      "[Parallel(n_jobs=-1)]: Done  12 out of  12 | elapsed:   22.2s finished\n"
     ]
    },
    {
     "name": "stdout",
     "output_type": "stream",
     "text": [
      "{'bootstrap': True,\n",
      " 'max_depth': 100,\n",
      " 'max_features': 'auto',\n",
      " 'min_samples_leaf': 1,\n",
      " 'min_samples_split': 2,\n",
      " 'n_estimators': 1700}\n"
     ]
    }
   ],
   "source": [
    "# Create the parameter grid based on the results of random search \n",
    "\n",
    "param_grid = {\n",
    "    'bootstrap': [True],\n",
    "    'max_depth': [100],\n",
    "    'max_features': ['auto'],\n",
    "    'min_samples_leaf': [1],\n",
    "    'min_samples_split': [2],\n",
    "    'n_estimators': [1400, 1500, 1600, 1700]\n",
    "}\n",
    "\n",
    "# Create a based model\n",
    "rf = RandomForestRegressor()\n",
    "\n",
    "# Instantiate the grid search model\n",
    "grid_search = GridSearchCV(estimator = rf, param_grid = param_grid, \n",
    "                          cv = 3, n_jobs = -1, verbose = 2)\n",
    "\n",
    "# Fit the grid search to the data\n",
    "grid_search.fit(X_train, y_train)\n",
    "\n",
    "# Print best parameters\n",
    "pprint(grid_search.best_params_)"
   ]
  },
  {
   "cell_type": "code",
   "execution_count": 18,
   "metadata": {},
   "outputs": [
    {
     "data": {
      "text/html": [
       "<div>\n",
       "<style scoped>\n",
       "    .dataframe tbody tr th:only-of-type {\n",
       "        vertical-align: middle;\n",
       "    }\n",
       "\n",
       "    .dataframe tbody tr th {\n",
       "        vertical-align: top;\n",
       "    }\n",
       "\n",
       "    .dataframe thead th {\n",
       "        text-align: right;\n",
       "    }\n",
       "</style>\n",
       "<table border=\"1\" class=\"dataframe\">\n",
       "  <thead>\n",
       "    <tr style=\"text-align: right;\">\n",
       "      <th></th>\n",
       "      <th>R-squared</th>\n",
       "      <th>MSE</th>\n",
       "      <th>MAE</th>\n",
       "    </tr>\n",
       "  </thead>\n",
       "  <tbody>\n",
       "    <tr>\n",
       "      <td>Random Forest Regressor (Grid Search v. 2)</td>\n",
       "      <td>0.9563</td>\n",
       "      <td>57.887152</td>\n",
       "      <td>4.582805</td>\n",
       "    </tr>\n",
       "  </tbody>\n",
       "</table>\n",
       "</div>"
      ],
      "text/plain": [
       "                                            R-squared        MSE       MAE\n",
       "Random Forest Regressor (Grid Search v. 2)     0.9563  57.887152  4.582805"
      ]
     },
     "execution_count": 18,
     "metadata": {},
     "output_type": "execute_result"
    }
   ],
   "source": [
    "best_grid = grid_search.best_estimator_\n",
    "best_grid.fit(X_train, y_train)\n",
    "\n",
    "model_name = \"Random Forest Regressor (Grid Search v. 2)\"\n",
    "y_pred = best_grid.predict(X_test)\n",
    "\n",
    "r2_scores = round(metrics.r2_score(y_test, y_pred), 4)\n",
    "mse_scores = metrics.mean_squared_error(y_test, y_pred)\n",
    "mae_scores = metrics.mean_absolute_error(y_test, y_pred)\n",
    "        \n",
    "evaluation_df = pd.DataFrame({\"R-squared\": r2_scores, \n",
    "                              \"MSE\" : mse_scores, \n",
    "                              \"MAE\" : mae_scores}, index=[model_name])\n",
    "\n",
    "evaluation_df"
   ]
  },
  {
   "cell_type": "code",
   "execution_count": 19,
   "metadata": {},
   "outputs": [
    {
     "data": {
      "image/png": "[encoded data removed]",
      "text/plain": [
       "<Figure size 432x288 with 1 Axes>"
      ]
     },
     "metadata": {
      "needs_background": "light"
     },
     "output_type": "display_data"
    }
   ],
   "source": [
    "plt.scatter(y_test, y_pred)\n",
    "plt.plot([50, 250], [50,250])\n",
    "plt.title(\"Tensile Strength Predictions\")\n",
    "plt.ylabel(\"Predicted\")\n",
    "plt.xlabel(\"Actual\")\n",
    "plt.show()"
   ]
  },
  {
   "cell_type": "code",
   "execution_count": 20,
   "metadata": {},
   "outputs": [
    {
     "data": {
      "image/png": "[encoded data removed]",
      "text/plain": [
       "<Figure size 432x288 with 1 Axes>"
      ]
     },
     "metadata": {
      "needs_background": "light"
     },
     "output_type": "display_data"
    }
   ],
   "source": [
    "plt.scatter(y_train, best_grid.predict(X_train))\n",
    "plt.plot([50, 250], [50,250])\n",
    "plt.title(\"Tensile Strength Predictions (on Training Data)\")\n",
    "plt.ylabel(\"Predicted\")\n",
    "plt.xlabel(\"Actual\")\n",
    "plt.show()"
   ]
  },
  {
   "cell_type": "code",
   "execution_count": 1,
   "metadata": {},
   "outputs": [
    {
     "ename": "NameError",
     "evalue": "name 'data' is not defined",
     "output_type": "error",
     "traceback": [
      "\u001b[1;31m---------------------------------------------------------------------------\u001b[0m",
      "\u001b[1;31mNameError\u001b[0m                                 Traceback (most recent call last)",
      "\u001b[1;32m<ipython-input-1-c5d84736ba45>\u001b[0m in \u001b[0;36m<module>\u001b[1;34m\u001b[0m\n\u001b[1;32m----> 1\u001b[1;33m \u001b[0mdata\u001b[0m\u001b[1;33m\u001b[0m\u001b[1;33m\u001b[0m\u001b[0m\n\u001b[0m",
      "\u001b[1;31mNameError\u001b[0m: name 'data' is not defined"
     ]
    }
   ],
   "source": [
    "data"
   ]
  }
 ],
 "metadata": {
  "kernelspec": {
   "display_name": "Python 3",
   "language": "python",
   "name": "python3"
  },
  "language_info": {
   "codemirror_mode": {
    "name": "ipython",
    "version": 3
   },
   "file_extension": ".py",
   "mimetype": "text/x-python",
   "name": "python",
   "nbconvert_exporter": "python",
   "pygments_lexer": "ipython3",
   "version": "3.7.4"
  }
 },
 "nbformat": 4,
 "nbformat_minor": 4
}
