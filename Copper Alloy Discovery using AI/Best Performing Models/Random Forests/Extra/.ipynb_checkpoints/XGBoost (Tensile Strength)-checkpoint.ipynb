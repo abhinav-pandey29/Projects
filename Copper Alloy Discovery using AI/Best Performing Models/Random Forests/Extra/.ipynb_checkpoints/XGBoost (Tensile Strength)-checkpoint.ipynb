{
 "cells": [
  {
   "cell_type": "code",
   "execution_count": 1,
   "metadata": {},
   "outputs": [],
   "source": [
    "import numpy as np\n",
    "import pandas as pd\n",
    "import matplotlib.pyplot as plt\n",
    "import seaborn as sns\n",
    "\n",
    "from sklearn.linear_model import LinearRegression, Ridge, Lasso\n",
    "from sklearn.svm import SVR\n",
    "from sklearn.tree import DecisionTreeRegressor\n",
    "from sklearn.ensemble import AdaBoostRegressor, RandomForestRegressor\n",
    "from xgboost import XGBRegressor, XGBRFRegressor\n",
    "from sklearn.neighbors import KNeighborsRegressor\n",
    "from sklearn.neural_network import MLPRegressor\n",
    "\n",
    "from sklearn.model_selection import train_test_split, cross_validate\n",
    "from sklearn import metrics\n",
    "\n",
    "from sklearn.model_selection import RandomizedSearchCV, GridSearchCV\n",
    "\n",
    "from pprint import pprint\n",
    "\n",
    "from warnings import filterwarnings\n",
    "filterwarnings('ignore')"
   ]
  },
  {
   "cell_type": "markdown",
   "metadata": {},
   "source": [
    "#### Helper Functions"
   ]
  },
  {
   "cell_type": "code",
   "execution_count": 2,
   "metadata": {},
   "outputs": [],
   "source": [
    "def model_and_evaluate(mode, plot=False):\n",
    "    \n",
    "    # Names of models\n",
    "    model_labels = [\n",
    "#         'LinearRegression',\n",
    "          'Lasso',\n",
    "          'Ridge',\n",
    "          'DecisionTreeRegressor',\n",
    "          'KNeighborsRegressor',\n",
    "          'MLPRegressor',\n",
    "          'RandomForestRegressor',\n",
    "          'XGBRegressor',\n",
    "          'XGBRFRegressor', \n",
    "          'SVR', \n",
    "          'AdaBoostRegressor'            \n",
    "         ]\n",
    "\n",
    "    # Regression Models with default hyper-parameters\n",
    "    models = [\n",
    "#         LinearRegression(normalize=True),\n",
    "          Lasso(alpha=0.001),\n",
    "          Ridge(),\n",
    "          DecisionTreeRegressor(),\n",
    "          KNeighborsRegressor(weights='distance'),\n",
    "          MLPRegressor(random_state=42, max_iter=2000),\n",
    "          RandomForestRegressor(),\n",
    "          XGBRegressor(objective='reg:squarederror'),\n",
    "          XGBRFRegressor(objective='reg:squarederror', learning_rate=1), \n",
    "          SVR(C=500000), \n",
    "          AdaBoostRegressor()\n",
    "    ]\n",
    "\n",
    "    r2_scores = []\n",
    "    mse_scores = []\n",
    "    mae_scores = []\n",
    "\n",
    "    for i, (model, name) in enumerate(zip(models, model_labels)):\n",
    "\n",
    "        model.fit(X_train, y_train)\n",
    "        \n",
    "        if mode == 'train':\n",
    "            y_pred = model.predict(X_train)\n",
    "            evaluation = y_train\n",
    "#             print(\"On Training Data\")\n",
    "        elif mode == 'test':\n",
    "            y_pred = model.predict(X_test)\n",
    "            evaluation = y_test\n",
    "#             print(\"On Testing Data\")\n",
    "\n",
    "\n",
    "        r2_scores.append(round(metrics.r2_score(evaluation, y_pred), 4))\n",
    "        mse_scores.append(metrics.mean_squared_error(evaluation, y_pred))\n",
    "        mae_scores.append(metrics.mean_absolute_error(evaluation, y_pred))  \n",
    "        \n",
    "        if plot:\n",
    "            plt.scatter(evaluation, y_pred)\n",
    "            plt.xlabel(\"True Labels\")\n",
    "            plt.ylabel(\"Predictions\")\n",
    "            plt.title(name)\n",
    "            plt.show()\n",
    "        \n",
    "    evaluation_df = pd.DataFrame({\"model\" : model_labels,\n",
    "                                  \"R-squared\": r2_scores, \n",
    "                                  \"MSE\" : mse_scores, \n",
    "                                  \"MAE\" : mae_scores}).sort_values(by=['R-squared'], ascending=False)\n",
    "    \n",
    "    \n",
    "    \n",
    "    return evaluation_df.reset_index(drop=True).set_index('model')"
   ]
  },
  {
   "cell_type": "code",
   "execution_count": 3,
   "metadata": {},
   "outputs": [],
   "source": [
    "# Read dataset\n",
    "data = pd.read_csv(\"../../Copper Dataset (version 2.0).csv\")\n",
    "\n",
    "# Split into features and target variables\n",
    "X = data.iloc[:, :-2]\n",
    "y = data['tensile_strength']\n",
    "\n",
    "# Split into train and test data\n",
    "X_train, X_test, y_train, y_test = train_test_split(X, y, test_size=0.2, random_state=327)  # (1029 in train/ 258 in test)"
   ]
  },
  {
   "cell_type": "code",
   "execution_count": 4,
   "metadata": {},
   "outputs": [],
   "source": [
    "# # Model using multiple techniques\n",
    "\n",
    "# # Evaluate on training data\n",
    "# train_eval = model_and_evaluate('train')\n",
    "# print(train_eval)\n",
    "\n",
    "# # Evaluate on testing data\n",
    "# test_eval = model_and_evaluate('test')\n",
    "# print(test_eval)"
   ]
  },
  {
   "cell_type": "markdown",
   "metadata": {},
   "source": [
    "# Best Models"
   ]
  },
  {
   "cell_type": "code",
   "execution_count": 5,
   "metadata": {},
   "outputs": [],
   "source": [
    "# # Mask for models with R-squared score > 0.8\n",
    "# mask = test_eval['R-squared'] > 0.8\n",
    "# best_models = test_eval[mask].index.values\n",
    "\n",
    "# # Display names of the best performing models\n",
    "# print(\"Models with r-squared > 0.80 are :-\\n\")\n",
    "\n",
    "# for i, model_name in enumerate(best_models):\n",
    "#     print(\"{}. {}\".format(i+1, model_name))"
   ]
  },
  {
   "cell_type": "markdown",
   "metadata": {},
   "source": [
    "# Hyperparameter Tuning for each model"
   ]
  },
  {
   "cell_type": "markdown",
   "metadata": {},
   "source": [
    "**1. XGBR Regressor** \n",
    "\n",
    "a. Hyperparamter tuning with **RandomizedSearchCV**\\\n",
    "b. Hyperparamter tuning with **GridSearchCV**"
   ]
  },
  {
   "cell_type": "markdown",
   "metadata": {},
   "source": [
    "#### Random Search Cross Validation"
   ]
  },
  {
   "cell_type": "code",
   "execution_count": 6,
   "metadata": {},
   "outputs": [
    {
     "name": "stdout",
     "output_type": "stream",
     "text": [
      "{'colsample_bytree': [0.3, 0.4, 0.5, 0.7],\n",
      " 'gamma': [0.0, 0.1, 0.2, 0.3, 0.4],\n",
      " 'learning_rate': [0.05, 0.1, 0.15, 0.2, 0.25, 0.3],\n",
      " 'max_depth': [3, 4, 5, 6, 8, 10, 12, 15],\n",
      " 'min_child_weight': [1, 3, 5, 7]}\n"
     ]
    }
   ],
   "source": [
    "# Create grid for RandomizedSearchCV\n",
    "\n",
    "# Create the random grid\n",
    "random_grid = {\"learning_rate\"    : [0.05, 0.10, 0.15, 0.20, 0.25, 0.30 ] ,\n",
    "               \"max_depth\"        : [ 3, 4, 5, 6, 8, 10, 12, 15],\n",
    "               \"min_child_weight\" : [ 1, 3, 5, 7 ],\n",
    "               \"gamma\"            : [ 0.0, 0.1, 0.2 , 0.3, 0.4 ],\n",
    "               \"colsample_bytree\" : [ 0.3, 0.4, 0.5 , 0.7 ]\n",
    "              }\n",
    "\n",
    "pprint(random_grid)"
   ]
  },
  {
   "cell_type": "code",
   "execution_count": 7,
   "metadata": {},
   "outputs": [
    {
     "name": "stdout",
     "output_type": "stream",
     "text": [
      "Fitting 3 folds for each of 100 candidates, totalling 300 fits\n"
     ]
    },
    {
     "name": "stderr",
     "output_type": "stream",
     "text": [
      "[Parallel(n_jobs=-1)]: Using backend LokyBackend with 8 concurrent workers.\n",
      "[Parallel(n_jobs=-1)]: Done  25 tasks      | elapsed:    5.4s\n",
      "[Parallel(n_jobs=-1)]: Done 146 tasks      | elapsed:   15.5s\n",
      "[Parallel(n_jobs=-1)]: Done 300 out of 300 | elapsed:   27.2s finished\n"
     ]
    },
    {
     "name": "stdout",
     "output_type": "stream",
     "text": [
      "[17:12:37] WARNING: C:/Jenkins/workspace/xgboost-win64_release_0.90/src/objective/regression_obj.cu:152: reg:linear is now deprecated in favor of reg:squarederror.\n"
     ]
    }
   ],
   "source": [
    "# Use the random grid to search for best hyperparameters\n",
    "\n",
    "# First create the base model to tune\n",
    "rf = XGBRegressor()\n",
    "# Random search of parameters, using 3 fold cross validation, \n",
    "# search across 100 different combinations, and use all available cores\n",
    "rf_random = RandomizedSearchCV(estimator = rf,\n",
    "                               param_distributions = random_grid,\n",
    "                               n_iter = 100,\n",
    "                               cv = 3,   # 3 folds\n",
    "                               verbose=2,\n",
    "                               random_state=42,\n",
    "                               n_jobs = -1)\n",
    "# Fit the random search model\n",
    "_ = rf_random.fit(X_train, y_train)"
   ]
  },
  {
   "cell_type": "markdown",
   "metadata": {},
   "source": [
    "We can view the **best parameters** from fitting the random search:"
   ]
  },
  {
   "cell_type": "code",
   "execution_count": 8,
   "metadata": {},
   "outputs": [
    {
     "data": {
      "text/plain": [
       "{'min_child_weight': 1,\n",
       " 'max_depth': 12,\n",
       " 'learning_rate': 0.1,\n",
       " 'gamma': 0.3,\n",
       " 'colsample_bytree': 0.5}"
      ]
     },
     "execution_count": 8,
     "metadata": {},
     "output_type": "execute_result"
    }
   ],
   "source": [
    "rf_random.best_params_"
   ]
  },
  {
   "cell_type": "markdown",
   "metadata": {},
   "source": [
    "### Evaluate Random Search\n",
    "\n",
    "To determine if random search yielded a better model, we **compare the base model** with the **best random search model**."
   ]
  },
  {
   "cell_type": "code",
   "execution_count": 9,
   "metadata": {},
   "outputs": [
    {
     "name": "stdout",
     "output_type": "stream",
     "text": [
      "Model Performance\n",
      "Average Error: 7.7810 degrees.\n",
      "Accuracy = 88.09%.\n",
      "\n",
      "Model Performance\n",
      "Average Error: 4.4894 degrees.\n",
      "Accuracy = 93.14%.\n",
      "\n",
      "Improvement of 5.73%.\n"
     ]
    }
   ],
   "source": [
    "def evaluate(model, test_features, test_labels):\n",
    "    predictions = model.predict(test_features)\n",
    "    errors = abs(predictions - test_labels)\n",
    "    mape = 100 * np.mean(errors / test_labels)\n",
    "    accuracy = 100 - mape\n",
    "    print('Model Performance')\n",
    "    print('Average Error: {:0.4f} degrees.'.format(np.mean(errors)))\n",
    "    print('Accuracy = {:0.2f}%.'.format(accuracy))\n",
    "    print()\n",
    "    return accuracy\n",
    "\n",
    "\n",
    "base_model = XGBRegressor(objective='reg:squarederror')\n",
    "base_model.fit(X_train, y_train)\n",
    "base_accuracy = evaluate(base_model, X_test, y_test)\n",
    "\n",
    "best_random = rf_random.best_estimator_\n",
    "random_accuracy = evaluate(best_random, X_test, y_test)\n",
    "\n",
    "print('Improvement of {:0.2f}%.'.format( 100 * (random_accuracy - base_accuracy) / base_accuracy))"
   ]
  },
  {
   "cell_type": "code",
   "execution_count": 10,
   "metadata": {},
   "outputs": [
    {
     "data": {
      "text/html": [
       "<div>\n",
       "<style scoped>\n",
       "    .dataframe tbody tr th:only-of-type {\n",
       "        vertical-align: middle;\n",
       "    }\n",
       "\n",
       "    .dataframe tbody tr th {\n",
       "        vertical-align: top;\n",
       "    }\n",
       "\n",
       "    .dataframe thead th {\n",
       "        text-align: right;\n",
       "    }\n",
       "</style>\n",
       "<table border=\"1\" class=\"dataframe\">\n",
       "  <thead>\n",
       "    <tr style=\"text-align: right;\">\n",
       "      <th></th>\n",
       "      <th>R-squared</th>\n",
       "      <th>MSE</th>\n",
       "      <th>MAE</th>\n",
       "    </tr>\n",
       "  </thead>\n",
       "  <tbody>\n",
       "    <tr>\n",
       "      <td>XGBoost Regressor</td>\n",
       "      <td>0.961</td>\n",
       "      <td>51.617039</td>\n",
       "      <td>4.489351</td>\n",
       "    </tr>\n",
       "  </tbody>\n",
       "</table>\n",
       "</div>"
      ],
      "text/plain": [
       "                   R-squared        MSE       MAE\n",
       "XGBoost Regressor      0.961  51.617039  4.489351"
      ]
     },
     "execution_count": 10,
     "metadata": {},
     "output_type": "execute_result"
    }
   ],
   "source": [
    "model_name = \"XGBoost Regressor\"\n",
    "y_pred = best_random.predict(X_test)\n",
    "\n",
    "r2_scores = round(metrics.r2_score(y_test, y_pred), 4)\n",
    "mse_scores = metrics.mean_squared_error(y_test, y_pred)\n",
    "mae_scores = metrics.mean_absolute_error(y_test, y_pred)\n",
    "        \n",
    "evaluation_df = pd.DataFrame({\"R-squared\": r2_scores, \n",
    "                              \"MSE\" : mse_scores, \n",
    "                              \"MAE\" : mae_scores}, index=[model_name])\n",
    "\n",
    "evaluation_df"
   ]
  },
  {
   "cell_type": "code",
   "execution_count": 11,
   "metadata": {},
   "outputs": [
    {
     "data": {
      "image/png": "[encoded data removed]",
      "text/plain": [
       "<Figure size 432x288 with 1 Axes>"
      ]
     },
     "metadata": {
      "needs_background": "light"
     },
     "output_type": "display_data"
    }
   ],
   "source": [
    "plt.scatter(y_test, y_pred)\n",
    "plt.plot([50, 250], [50,250])\n",
    "plt.title(\"Tensile Strength Predictions\")\n",
    "plt.ylabel(\"Predicted\")\n",
    "plt.xlabel(\"Actual\")\n",
    "plt.show()"
   ]
  },
  {
   "cell_type": "code",
   "execution_count": 13,
   "metadata": {},
   "outputs": [
    {
     "data": {
      "image/png": "[encoded data removed]",
      "text/plain": [
       "<Figure size 432x288 with 1 Axes>"
      ]
     },
     "metadata": {
      "needs_background": "light"
     },
     "output_type": "display_data"
    }
   ],
   "source": [
    "plt.scatter(y_train, best_random.predict(X_train))\n",
    "plt.plot([50, 250], [50,250])\n",
    "plt.title(\"Tensile Strength Predictions (on Training Data)\")\n",
    "plt.ylabel(\"Predicted\")\n",
    "plt.xlabel(\"Actual\")\n",
    "plt.show()"
   ]
  }
 ],
 "metadata": {
  "kernelspec": {
   "display_name": "Python 3",
   "language": "python",
   "name": "python3"
  },
  "language_info": {
   "codemirror_mode": {
    "name": "ipython",
    "version": 3
   },
   "file_extension": ".py",
   "mimetype": "text/x-python",
   "name": "python",
   "nbconvert_exporter": "python",
   "pygments_lexer": "ipython3",
   "version": "3.7.4"
  }
 },
 "nbformat": 4,
 "nbformat_minor": 4
}
