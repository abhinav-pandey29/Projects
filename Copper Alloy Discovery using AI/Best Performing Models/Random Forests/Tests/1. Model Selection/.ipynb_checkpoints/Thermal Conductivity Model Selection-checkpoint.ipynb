{
 "cells": [
  {
   "cell_type": "markdown",
   "metadata": {},
   "source": [
    "# Importing Libraries"
   ]
  },
  {
   "cell_type": "code",
   "execution_count": 1,
   "metadata": {
    "jupyter": {
     "source_hidden": true
    }
   },
   "outputs": [],
   "source": [
    "import numpy as np\n",
    "import pandas as pd\n",
    "import matplotlib.pyplot as plt\n",
    "import seaborn as sns\n",
    "\n",
    "from sklearn.linear_model import LinearRegression, Ridge, Lasso, BayesianRidge\n",
    "from sklearn.svm import SVR\n",
    "from sklearn.tree import DecisionTreeRegressor\n",
    "from sklearn.ensemble import AdaBoostRegressor, RandomForestRegressor\n",
    "# from xgboost import XGBRegressor, XGBRFRegressor\n",
    "from sklearn.neighbors import KNeighborsRegressor\n",
    "from sklearn.neural_network import MLPRegressor\n",
    "\n",
    "from sklearn.model_selection import train_test_split\n",
    "from sklearn.model_selection import cross_val_score\n",
    "from sklearn import metrics\n",
    "\n",
    "from sklearn.decomposition import PCA\n",
    "from sklearn.preprocessing import MinMaxScaler\n",
    "\n",
    "from sklearn.model_selection import cross_validate, train_test_split, GridSearchCV\n",
    "import itertools\n",
    "\n",
    "from warnings import filterwarnings\n",
    "filterwarnings('ignore')"
   ]
  },
  {
   "cell_type": "code",
   "execution_count": 2,
   "metadata": {
    "jupyter": {
     "source_hidden": true
    }
   },
   "outputs": [],
   "source": [
    "def model_selection_table(X_train, X_test, y_train, y_test, pca):\n",
    "    \n",
    "    model_labels = ['Lasso',\n",
    "                  'Ridge',\n",
    "                  'Decision Trees',\n",
    "                  'K-Nearest Neighbors',\n",
    "                  'Multi-Layered Perceptron',\n",
    "                  'Random Forests',\n",
    "                  'AdaBoost',\n",
    "                  'Bayesian Ridge'\n",
    "                 ]\n",
    "\n",
    "    # Regression Models with default hyper-parameters\n",
    "    models = [Lasso(alpha=0.001),\n",
    "              Ridge(),\n",
    "              DecisionTreeRegressor(),\n",
    "              KNeighborsRegressor(weights='distance'),\n",
    "              MLPRegressor(random_state=42, max_iter=2000),\n",
    "              RandomForestRegressor(),\n",
    "              AdaBoostRegressor(),\n",
    "              BayesianRidge()\n",
    "             ]\n",
    "\n",
    "    cv_mean = []\n",
    "    cv_std = []\n",
    "    cv_median = []\n",
    "    test_scores = []\n",
    "\n",
    "    plot = False\n",
    "\n",
    "    for i, (model, name) in enumerate(zip(models, model_labels)):\n",
    "\n",
    "        accuracies = cross_val_score(estimator = model, X = X_train, y = y_train, cv= 10, n_jobs = -1 )\n",
    "\n",
    "        cv_mean.append(accuracies.mean())\n",
    "        cv_std.append(accuracies.std())\n",
    "        cv_median.append(np.median(accuracies))\n",
    "\n",
    "        model.fit(X_train, y_train)\n",
    "\n",
    "        y_pred = model.predict(X_test)\n",
    "\n",
    "        test_scores.append(metrics.r2_score(y_test, y_pred))\n",
    "\n",
    "        if plot:\n",
    "            plt.scatter(y_test, y_pred)\n",
    "            plt.xlabel(\"True Labels\")\n",
    "            plt.ylabel(\"Predictions\")\n",
    "            plt.title(name)\n",
    "            plt.show()\n",
    "\n",
    "    evaluation_df = pd.DataFrame({\"pca\" : [pca] * len(model_labels),\n",
    "                                  \"model\" : model_labels,\n",
    "                                  \"r2_test\": test_scores, \n",
    "                                  \"cv_mean\" : cv_mean, \n",
    "                                  \"cv_median\" : cv_median,\n",
    "                                  \"cv_std\" : cv_std}).sort_values(by=['cv_mean', 'r2_test'], ascending=False)\n",
    "\n",
    "\n",
    "    return evaluation_df.reset_index(drop=True).set_index('model')"
   ]
  },
  {
   "cell_type": "markdown",
   "metadata": {},
   "source": [
    "### Model selection without PCA"
   ]
  },
  {
   "cell_type": "code",
   "execution_count": 19,
   "metadata": {},
   "outputs": [],
   "source": [
    "# Read dataset\n",
    "data = pd.read_csv(\"Copper Dataset (version 4.0).csv\")\n",
    "data = data.iloc[:,-32:].drop('tensile_strength', axis=1)\n",
    "data = data[~data.duplicated()]\n",
    "\n",
    "# Split into features and target variables\n",
    "X = data.drop(['thermal_conductivity'], axis=1)\n",
    "y = data['thermal_conductivity']\n",
    "\n",
    "# Split into train and test data\n",
    "X_train, X_test, y_train, y_test = train_test_split(X, y, test_size=0.15, random_state=42)"
   ]
  },
  {
   "cell_type": "code",
   "execution_count": 20,
   "metadata": {},
   "outputs": [],
   "source": [
    "models_without_pca = model_selection_table(X_train, X_test, y_train, y_test, \"no\")"
   ]
  },
  {
   "cell_type": "markdown",
   "metadata": {},
   "source": [
    "### Model selection with PCA"
   ]
  },
  {
   "cell_type": "code",
   "execution_count": 21,
   "metadata": {},
   "outputs": [],
   "source": [
    "# Normalise train and test data\n",
    "scaler = MinMaxScaler()\n",
    "X_train_scaled = scaler.fit_transform(X_train)\n",
    "\n",
    "# Perform PCA on normalised training data\n",
    "pca = PCA()\n",
    "X_train_scaled_pca = pca.fit_transform(X_train_scaled)\n",
    "\n",
    "# Use Principal Components (0, 1, 6, 14, 20, 15, 19, 10, 7, 28, 5, 29, 17, 25, 16) as training data\n",
    "best_principal_components = (0, 1, 6, 14, 20, 15, 19, 10, 7, 28, 5, 29, 17, 25, 16)\n",
    "x_train = X_train_scaled_pca[:, best_principal_components]\n",
    "\n",
    "# Normalise test data and project onto the subspace spanned by the Principal Components\n",
    "X_test_scaled = scaler.transform(X_test)\n",
    "X_test_scaled_pca = pca.transform(X_test_scaled)\n",
    "x_test = X_test_scaled_pca[:, best_principal_components]"
   ]
  },
  {
   "cell_type": "code",
   "execution_count": 22,
   "metadata": {},
   "outputs": [],
   "source": [
    "models_pca = model_selection_table(x_train, x_test, y_train, y_test, \"yes\")"
   ]
  },
  {
   "cell_type": "markdown",
   "metadata": {},
   "source": [
    "### Comparison"
   ]
  },
  {
   "cell_type": "code",
   "execution_count": 23,
   "metadata": {},
   "outputs": [
    {
     "data": {
      "text/html": [
       "<div>\n",
       "<style scoped>\n",
       "    .dataframe tbody tr th:only-of-type {\n",
       "        vertical-align: middle;\n",
       "    }\n",
       "\n",
       "    .dataframe tbody tr th {\n",
       "        vertical-align: top;\n",
       "    }\n",
       "\n",
       "    .dataframe thead th {\n",
       "        text-align: right;\n",
       "    }\n",
       "</style>\n",
       "<table border=\"1\" class=\"dataframe\">\n",
       "  <thead>\n",
       "    <tr style=\"text-align: right;\">\n",
       "      <th></th>\n",
       "      <th>pca</th>\n",
       "      <th>r2_test</th>\n",
       "      <th>cv_mean</th>\n",
       "      <th>cv_median</th>\n",
       "      <th>cv_std</th>\n",
       "    </tr>\n",
       "    <tr>\n",
       "      <th>model</th>\n",
       "      <th></th>\n",
       "      <th></th>\n",
       "      <th></th>\n",
       "      <th></th>\n",
       "      <th></th>\n",
       "    </tr>\n",
       "  </thead>\n",
       "  <tbody>\n",
       "    <tr>\n",
       "      <th>Random Forests</th>\n",
       "      <td>no</td>\n",
       "      <td>0.802134</td>\n",
       "      <td>0.767536</td>\n",
       "      <td>0.841705</td>\n",
       "      <td>0.184501</td>\n",
       "    </tr>\n",
       "    <tr>\n",
       "      <th>K-Nearest Neighbors</th>\n",
       "      <td>no</td>\n",
       "      <td>0.791719</td>\n",
       "      <td>0.742363</td>\n",
       "      <td>0.824219</td>\n",
       "      <td>0.226939</td>\n",
       "    </tr>\n",
       "    <tr>\n",
       "      <th>Decision Trees</th>\n",
       "      <td>no</td>\n",
       "      <td>0.776309</td>\n",
       "      <td>0.712320</td>\n",
       "      <td>0.785792</td>\n",
       "      <td>0.220247</td>\n",
       "    </tr>\n",
       "    <tr>\n",
       "      <th>AdaBoost</th>\n",
       "      <td>no</td>\n",
       "      <td>0.702178</td>\n",
       "      <td>0.707095</td>\n",
       "      <td>0.762817</td>\n",
       "      <td>0.199489</td>\n",
       "    </tr>\n",
       "    <tr>\n",
       "      <th>Multi-Layered Perceptron</th>\n",
       "      <td>no</td>\n",
       "      <td>0.785216</td>\n",
       "      <td>0.621218</td>\n",
       "      <td>0.730929</td>\n",
       "      <td>0.283853</td>\n",
       "    </tr>\n",
       "    <tr>\n",
       "      <th>Ridge</th>\n",
       "      <td>yes</td>\n",
       "      <td>0.589593</td>\n",
       "      <td>0.400729</td>\n",
       "      <td>0.338260</td>\n",
       "      <td>0.222423</td>\n",
       "    </tr>\n",
       "    <tr>\n",
       "      <th>Bayesian Ridge</th>\n",
       "      <td>yes</td>\n",
       "      <td>0.574180</td>\n",
       "      <td>0.382850</td>\n",
       "      <td>0.348862</td>\n",
       "      <td>0.255516</td>\n",
       "    </tr>\n",
       "    <tr>\n",
       "      <th>Lasso</th>\n",
       "      <td>yes</td>\n",
       "      <td>-1035.163323</td>\n",
       "      <td>0.351470</td>\n",
       "      <td>0.384992</td>\n",
       "      <td>0.297819</td>\n",
       "    </tr>\n",
       "  </tbody>\n",
       "</table>\n",
       "</div>"
      ],
      "text/plain": [
       "                          pca      r2_test   cv_mean  cv_median    cv_std\n",
       "model                                                                    \n",
       "Random Forests             no     0.802134  0.767536   0.841705  0.184501\n",
       "K-Nearest Neighbors        no     0.791719  0.742363   0.824219  0.226939\n",
       "Decision Trees             no     0.776309  0.712320   0.785792  0.220247\n",
       "AdaBoost                   no     0.702178  0.707095   0.762817  0.199489\n",
       "Multi-Layered Perceptron   no     0.785216  0.621218   0.730929  0.283853\n",
       "Ridge                     yes     0.589593  0.400729   0.338260  0.222423\n",
       "Bayesian Ridge            yes     0.574180  0.382850   0.348862  0.255516\n",
       "Lasso                     yes -1035.163323  0.351470   0.384992  0.297819"
      ]
     },
     "execution_count": 23,
     "metadata": {},
     "output_type": "execute_result"
    }
   ],
   "source": [
    "all_models = pd.concat((models_without_pca, models_pca), axis=0)\n",
    "\n",
    "best_models = pd.DataFrame()\n",
    "\n",
    "for model in np.unique(all_models.index):\n",
    "    \n",
    "    better_model = all_models.loc[[model],:].iloc[[all_models.loc[[model],:].cv_mean.argmax()], :]\n",
    "    best_models = best_models.append(better_model)\n",
    "    \n",
    "best_models = best_models.sort_values(by=['cv_mean', 'r2_test'], ascending = False)\n",
    "\n",
    "best_models"
   ]
  },
  {
   "cell_type": "code",
   "execution_count": 24,
   "metadata": {},
   "outputs": [
    {
     "data": {
      "image/png": "[encoded data removed]",
      "text/plain": [
       "<Figure size 720x504 with 1 Axes>"
      ]
     },
     "metadata": {},
     "output_type": "display_data"
    }
   ],
   "source": [
    "import seaborn as sns\n",
    "sns.set(style=\"whitegrid\")\n",
    "\n",
    "fig, ax = plt.subplots(figsize=(10,7))\n",
    "\n",
    "sns.barplot(y=best_models.index, x=\"cv_mean\", data=best_models, xerr = best_models.cv_std, ax=ax)\n",
    "ax.set_xlabel(\"R2 score with 10-Fold Cross Validation\")\n",
    "ax.set_ylabel(\"Regression Models\")\n",
    "# ax.set_ylabel(\"\")\n",
    "ax.set_title(\"Performance Comparison of Different Models (Cross Validation)\")\n",
    "ax.set_xlim([0,1])\n",
    "plt.show()"
   ]
  },
  {
   "cell_type": "code",
   "execution_count": 25,
   "metadata": {},
   "outputs": [
    {
     "data": {
      "image/png": "[encoded data removed]",
      "text/plain": [
       "<Figure size 720x504 with 1 Axes>"
      ]
     },
     "metadata": {},
     "output_type": "display_data"
    }
   ],
   "source": [
    "import seaborn as sns\n",
    "sns.set(style=\"whitegrid\")\n",
    "\n",
    "fig, ax = plt.subplots(figsize=(10,7))\n",
    "\n",
    "sns.barplot(y=best_models.index, x=\"r2_test\", data=best_models, ax=ax)\n",
    "ax.set_xlabel(\"R2 score for Test Data Predicitions\")\n",
    "ax.set_ylabel(\"Regression Models\")\n",
    "# ax.set_ylabel(\"\")\n",
    "ax.set_xlim([0,1])\n",
    "ax.set_title(\"Performance Comparison of Different Models (on Test Data predictions)\")\n",
    "plt.show()"
   ]
  }
 ],
 "metadata": {
  "kernelspec": {
   "display_name": "Python 3",
   "language": "python",
   "name": "python3"
  },
  "language_info": {
   "codemirror_mode": {
    "name": "ipython",
    "version": 3
   },
   "file_extension": ".py",
   "mimetype": "text/x-python",
   "name": "python",
   "nbconvert_exporter": "python",
   "pygments_lexer": "ipython3",
   "version": "3.7.7"
  }
 },
 "nbformat": 4,
 "nbformat_minor": 4
}
