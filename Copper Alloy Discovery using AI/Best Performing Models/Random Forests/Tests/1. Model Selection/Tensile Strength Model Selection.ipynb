{
 "cells": [
  {
   "cell_type": "markdown",
   "metadata": {},
   "source": [
    "# Importing Libraries"
   ]
  },
  {
   "cell_type": "code",
   "execution_count": 1,
   "metadata": {
    "jupyter": {
     "source_hidden": true
    }
   },
   "outputs": [],
   "source": [
    "import numpy as np\n",
    "import pandas as pd\n",
    "import matplotlib.pyplot as plt\n",
    "import seaborn as sns\n",
    "\n",
    "from sklearn.linear_model import LinearRegression, Ridge, Lasso\n",
    "from sklearn.svm import SVR\n",
    "from sklearn.tree import DecisionTreeRegressor\n",
    "from sklearn.ensemble import AdaBoostRegressor, RandomForestRegressor\n",
    "# from xgboost import XGBRegressor, XGBRFRegressor\n",
    "from sklearn.neighbors import KNeighborsRegressor\n",
    "from sklearn.neural_network import MLPRegressor\n",
    "\n",
    "from sklearn.model_selection import train_test_split\n",
    "from sklearn.model_selection import cross_val_score\n",
    "from sklearn import metrics\n",
    "\n",
    "from warnings import filterwarnings\n",
    "filterwarnings('ignore')"
   ]
  },
  {
   "cell_type": "code",
   "execution_count": 2,
   "metadata": {
    "jupyter": {
     "source_hidden": true
    }
   },
   "outputs": [],
   "source": [
    "def model_selection_table(X_train, X_test, y_train, y_test, encoding):\n",
    "    \n",
    "    model_labels = ['Linear Regression',\n",
    "          'Lasso',\n",
    "          'Ridge',\n",
    "          'Decision Trees',\n",
    "          'K-Nearest Neighbors',\n",
    "          'Multi-Layered Perceptron',\n",
    "          'Random Forests',\n",
    "          'AdaBoost'            \n",
    "         ]\n",
    "\n",
    "    # Regression Models with default hyper-parameters\n",
    "    models = [LinearRegression(),\n",
    "              Lasso(alpha=0.001),\n",
    "              Ridge(),\n",
    "              DecisionTreeRegressor(),\n",
    "              KNeighborsRegressor(weights='distance'),\n",
    "              MLPRegressor(random_state=42, max_iter=2000),\n",
    "              RandomForestRegressor(),\n",
    "              AdaBoostRegressor()\n",
    "             ]\n",
    "\n",
    "    cv_mean = []\n",
    "    cv_std = []\n",
    "    cv_median = []\n",
    "    test_scores = []\n",
    "\n",
    "    plot = False\n",
    "\n",
    "    for i, (model, name) in enumerate(zip(models, model_labels)):\n",
    "\n",
    "        accuracies = cross_val_score(estimator = model, X = X_train, y = y_train, cv= 10, n_jobs = -1 )\n",
    "\n",
    "        cv_mean.append(accuracies.mean())\n",
    "        cv_std.append(accuracies.std())\n",
    "        cv_median.append(np.median(accuracies))\n",
    "\n",
    "        model.fit(X_train, y_train)\n",
    "\n",
    "        y_pred = model.predict(X_test)\n",
    "\n",
    "        test_scores.append(metrics.r2_score(y_test, y_pred))\n",
    "\n",
    "        if plot:\n",
    "            plt.scatter(y_test, y_pred)\n",
    "            plt.xlabel(\"True Labels\")\n",
    "            plt.ylabel(\"Predictions\")\n",
    "            plt.title(name)\n",
    "            plt.show()\n",
    "\n",
    "    evaluation_df = pd.DataFrame({\"encoding\": [encoding] * len(model_labels),\n",
    "                                  \"model\" : model_labels,\n",
    "                                  \"r2_test\": test_scores, \n",
    "                                  \"cv_mean\" : cv_mean, \n",
    "                                  \"cv_median\" : cv_median,\n",
    "                                  \"cv_std\" : cv_std}).sort_values(by=['cv_mean', 'r2_test'], ascending=False)\n",
    "\n",
    "\n",
    "    return evaluation_df.reset_index(drop=True).set_index('model')"
   ]
  },
  {
   "cell_type": "markdown",
   "metadata": {},
   "source": [
    "### Model selection using data without One-Hot Encoding"
   ]
  },
  {
   "cell_type": "code",
   "execution_count": 3,
   "metadata": {
    "jupyter": {
     "source_hidden": true
    }
   },
   "outputs": [],
   "source": [
    "data = pd.read_csv(\"Data (version 3) without dummy variables.csv\")\n",
    "\n",
    "# Split into features and target variables\n",
    "X = data.drop(['tensile_strength', 'thermal_conductivity'], axis=1)\n",
    "y = data['tensile_strength']\n",
    "\n",
    "from sklearn.preprocessing import LabelEncoder\n",
    "\n",
    "X_transformed = X.copy()\n",
    "encoder = LabelEncoder()\n",
    "transformed_temper_code = encoder.fit_transform(X['Temper Code'])\n",
    "transformed_form = encoder.fit_transform(X['Form'])\n",
    "\n",
    "X_transformed['Form'] = transformed_form\n",
    "X_transformed['Temper Code'] = transformed_temper_code\n",
    "\n",
    "# Split into train and test data\n",
    "X_train, X_test, y_train, y_test = train_test_split(X_transformed, y, test_size=0.2, random_state=42)"
   ]
  },
  {
   "cell_type": "code",
   "execution_count": 4,
   "metadata": {
    "jupyter": {
     "source_hidden": true
    }
   },
   "outputs": [],
   "source": [
    "eval_df_no_encoding = model_selection_table(X_train, X_test, y_train, y_test, 'no')"
   ]
  },
  {
   "cell_type": "markdown",
   "metadata": {},
   "source": [
    "### Model selection using data with One-Hot Encoding"
   ]
  },
  {
   "cell_type": "code",
   "execution_count": 5,
   "metadata": {
    "jupyter": {
     "source_hidden": true
    }
   },
   "outputs": [],
   "source": [
    "# Read dataset\n",
    "data = pd.read_csv(\"Copper Dataset (version 4.0).csv\")\n",
    "\n",
    "# Split into features and target variables\n",
    "X = data.iloc[:, :-2]\n",
    "y = data['tensile_strength']\n",
    "\n",
    "# Split into train and test data\n",
    "X_train, X_test, y_train, y_test = train_test_split(X, y, test_size=0.2, random_state=42)"
   ]
  },
  {
   "cell_type": "code",
   "execution_count": 6,
   "metadata": {
    "jupyter": {
     "source_hidden": true
    }
   },
   "outputs": [],
   "source": [
    "eval_df_with_encoding = model_selection_table(X_train, X_test, y_train, y_test, 'yes')"
   ]
  },
  {
   "cell_type": "markdown",
   "metadata": {},
   "source": [
    "### Comparison"
   ]
  },
  {
   "cell_type": "code",
   "execution_count": 7,
   "metadata": {},
   "outputs": [
    {
     "data": {
      "text/html": [
       "<div>\n",
       "<style scoped>\n",
       "    .dataframe tbody tr th:only-of-type {\n",
       "        vertical-align: middle;\n",
       "    }\n",
       "\n",
       "    .dataframe tbody tr th {\n",
       "        vertical-align: top;\n",
       "    }\n",
       "\n",
       "    .dataframe thead th {\n",
       "        text-align: right;\n",
       "    }\n",
       "</style>\n",
       "<table border=\"1\" class=\"dataframe\">\n",
       "  <thead>\n",
       "    <tr style=\"text-align: right;\">\n",
       "      <th></th>\n",
       "      <th>encoding</th>\n",
       "      <th>r2_test</th>\n",
       "      <th>cv_mean</th>\n",
       "      <th>cv_median</th>\n",
       "      <th>cv_std</th>\n",
       "    </tr>\n",
       "    <tr>\n",
       "      <th>model</th>\n",
       "      <th></th>\n",
       "      <th></th>\n",
       "      <th></th>\n",
       "      <th></th>\n",
       "      <th></th>\n",
       "    </tr>\n",
       "  </thead>\n",
       "  <tbody>\n",
       "    <tr>\n",
       "      <th>Random Forests</th>\n",
       "      <td>no</td>\n",
       "      <td>0.942797</td>\n",
       "      <td>0.924536</td>\n",
       "      <td>0.935634</td>\n",
       "      <td>0.038171</td>\n",
       "    </tr>\n",
       "    <tr>\n",
       "      <th>Decision Trees</th>\n",
       "      <td>no</td>\n",
       "      <td>0.924537</td>\n",
       "      <td>0.897374</td>\n",
       "      <td>0.910212</td>\n",
       "      <td>0.035747</td>\n",
       "    </tr>\n",
       "    <tr>\n",
       "      <th>Multi-Layered Perceptron</th>\n",
       "      <td>yes</td>\n",
       "      <td>0.843367</td>\n",
       "      <td>0.875071</td>\n",
       "      <td>0.903239</td>\n",
       "      <td>0.059627</td>\n",
       "    </tr>\n",
       "    <tr>\n",
       "      <th>K-Nearest Neighbors</th>\n",
       "      <td>no</td>\n",
       "      <td>0.862482</td>\n",
       "      <td>0.815425</td>\n",
       "      <td>0.832685</td>\n",
       "      <td>0.084706</td>\n",
       "    </tr>\n",
       "    <tr>\n",
       "      <th>Lasso</th>\n",
       "      <td>yes</td>\n",
       "      <td>0.700011</td>\n",
       "      <td>0.814269</td>\n",
       "      <td>0.850817</td>\n",
       "      <td>0.089863</td>\n",
       "    </tr>\n",
       "    <tr>\n",
       "      <th>Ridge</th>\n",
       "      <td>yes</td>\n",
       "      <td>0.800846</td>\n",
       "      <td>0.800916</td>\n",
       "      <td>0.846798</td>\n",
       "      <td>0.114042</td>\n",
       "    </tr>\n",
       "    <tr>\n",
       "      <th>Linear Regression</th>\n",
       "      <td>yes</td>\n",
       "      <td>0.176302</td>\n",
       "      <td>0.774550</td>\n",
       "      <td>0.830814</td>\n",
       "      <td>0.115147</td>\n",
       "    </tr>\n",
       "    <tr>\n",
       "      <th>AdaBoost</th>\n",
       "      <td>no</td>\n",
       "      <td>0.786530</td>\n",
       "      <td>0.709144</td>\n",
       "      <td>0.746428</td>\n",
       "      <td>0.105050</td>\n",
       "    </tr>\n",
       "  </tbody>\n",
       "</table>\n",
       "</div>"
      ],
      "text/plain": [
       "                         encoding   r2_test   cv_mean  cv_median    cv_std\n",
       "model                                                                     \n",
       "Random Forests                 no  0.942797  0.924536   0.935634  0.038171\n",
       "Decision Trees                 no  0.924537  0.897374   0.910212  0.035747\n",
       "Multi-Layered Perceptron      yes  0.843367  0.875071   0.903239  0.059627\n",
       "K-Nearest Neighbors            no  0.862482  0.815425   0.832685  0.084706\n",
       "Lasso                         yes  0.700011  0.814269   0.850817  0.089863\n",
       "Ridge                         yes  0.800846  0.800916   0.846798  0.114042\n",
       "Linear Regression             yes  0.176302  0.774550   0.830814  0.115147\n",
       "AdaBoost                       no  0.786530  0.709144   0.746428  0.105050"
      ]
     },
     "execution_count": 7,
     "metadata": {},
     "output_type": "execute_result"
    }
   ],
   "source": [
    "all_models = pd.concat((eval_df_no_encoding, eval_df_with_encoding), axis=0)\n",
    "\n",
    "best_models = pd.DataFrame()\n",
    "\n",
    "for model in np.unique(all_models.index):\n",
    "    \n",
    "    better_model = all_models.loc[[model],:].iloc[[all_models.loc[[model],:].cv_mean.argmax()], :]\n",
    "    best_models = best_models.append(better_model)\n",
    "    \n",
    "best_models = best_models.sort_values(by=['cv_mean', 'r2_test'], ascending = False)\n",
    "\n",
    "best_models"
   ]
  },
  {
   "cell_type": "code",
   "execution_count": 10,
   "metadata": {},
   "outputs": [
    {
     "data": {
      "image/png": "[encoded data removed]",
      "text/plain": [
       "<Figure size 720x504 with 1 Axes>"
      ]
     },
     "metadata": {},
     "output_type": "display_data"
    }
   ],
   "source": [
    "import seaborn as sns\n",
    "sns.set(style=\"whitegrid\")\n",
    "\n",
    "fig, ax = plt.subplots(figsize=(10,7))\n",
    "\n",
    "sns.barplot(y=best_models.index, x=\"cv_mean\", data=best_models, xerr = best_models.cv_std, ax=ax)\n",
    "ax.set_xlabel(\"R2 score with 10-Fold Cross Validation\")\n",
    "ax.set_ylabel(\"Regression Models\")\n",
    "# ax.set_ylabel(\"\")\n",
    "ax.set_title(\"Performance Comparison of Different Models (Cross Validation)\")\n",
    "ax.set_xlim([0,1])\n",
    "plt.show()"
   ]
  },
  {
   "cell_type": "code",
   "execution_count": 14,
   "metadata": {},
   "outputs": [
    {
     "data": {
      "image/png": "[encoded data removed]",
      "text/plain": [
       "<Figure size 720x504 with 1 Axes>"
      ]
     },
     "metadata": {},
     "output_type": "display_data"
    }
   ],
   "source": [
    "import seaborn as sns\n",
    "sns.set(style=\"whitegrid\")\n",
    "\n",
    "fig, ax = plt.subplots(figsize=(10,7))\n",
    "\n",
    "sns.barplot(y=best_models.index, x=\"r2_test\", data=best_models, ax=ax)\n",
    "ax.set_xlabel(\"R2 score for Test Data Predicitions\")\n",
    "ax.set_ylabel(\"Regression Models\")\n",
    "# ax.set_ylabel(\"\")\n",
    "ax.set_xlim([0,1])\n",
    "ax.set_title(\"Performance Comparison of Different Models (on Test Data predictions)\")\n",
    "plt.show()"
   ]
  }
 ],
 "metadata": {
  "kernelspec": {
   "display_name": "Python 3",
   "language": "python",
   "name": "python3"
  },
  "language_info": {
   "codemirror_mode": {
    "name": "ipython",
    "version": 3
   },
   "file_extension": ".py",
   "mimetype": "text/x-python",
   "name": "python",
   "nbconvert_exporter": "python",
   "pygments_lexer": "ipython3",
   "version": "3.7.7"
  }
 },
 "nbformat": 4,
 "nbformat_minor": 4
}
