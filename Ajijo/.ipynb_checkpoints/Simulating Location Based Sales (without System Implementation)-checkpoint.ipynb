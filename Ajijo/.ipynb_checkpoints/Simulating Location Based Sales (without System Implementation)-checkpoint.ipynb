{
 "cells": [
  {
   "cell_type": "code",
   "execution_count": 398,
   "metadata": {},
   "outputs": [],
   "source": [
    "import numpy as np\n",
    "import pandas as pd\n",
    "import matplotlib.pyplot as plt\n",
    "import seaborn as sns\n",
    "\n",
    "from IPython.display import clear_output"
   ]
  },
  {
   "cell_type": "code",
   "execution_count": 399,
   "metadata": {},
   "outputs": [
    {
     "data": {
      "text/html": [
       "<div>\n",
       "<style scoped>\n",
       "    .dataframe tbody tr th:only-of-type {\n",
       "        vertical-align: middle;\n",
       "    }\n",
       "\n",
       "    .dataframe tbody tr th {\n",
       "        vertical-align: top;\n",
       "    }\n",
       "\n",
       "    .dataframe thead th {\n",
       "        text-align: right;\n",
       "    }\n",
       "</style>\n",
       "<table border=\"1\" class=\"dataframe\">\n",
       "  <thead>\n",
       "    <tr style=\"text-align: right;\">\n",
       "      <th></th>\n",
       "      <th>name</th>\n",
       "      <th>inventory</th>\n",
       "      <th>price</th>\n",
       "      <th>price_correspondance</th>\n",
       "      <th>collection</th>\n",
       "      <th>item_url</th>\n",
       "    </tr>\n",
       "  </thead>\n",
       "  <tbody>\n",
       "    <tr>\n",
       "      <th>0</th>\n",
       "      <td>HALEEM MIX, AHMED</td>\n",
       "      <td>-99</td>\n",
       "      <td>$4.75</td>\n",
       "      <td>'/products/haleem-mix-ahmed'</td>\n",
       "      <td>ahmed</td>\n",
       "      <td>https://www.ajijo.com.au/collections/ahmed/pro...</td>\n",
       "    </tr>\n",
       "    <tr>\n",
       "      <th>1</th>\n",
       "      <td>FRUIT CHAT MASALA, AHMED, 50G</td>\n",
       "      <td>8</td>\n",
       "      <td>$1.80</td>\n",
       "      <td>'/products/fruit-chat-masala-ahmed'</td>\n",
       "      <td>ahmed</td>\n",
       "      <td>https://www.ajijo.com.au/collections/ahmed/pro...</td>\n",
       "    </tr>\n",
       "    <tr>\n",
       "      <th>2</th>\n",
       "      <td>DAHI BARA MASALA, AHMED, 50G</td>\n",
       "      <td>8</td>\n",
       "      <td>$1.80</td>\n",
       "      <td>'/products/dahi-bara-masala-ahmed'</td>\n",
       "      <td>ahmed</td>\n",
       "      <td>https://www.ajijo.com.au/collections/ahmed/pro...</td>\n",
       "    </tr>\n",
       "    <tr>\n",
       "      <th>3</th>\n",
       "      <td>CHICKEN MASALA, AHMED, 50G</td>\n",
       "      <td>1</td>\n",
       "      <td>$1.80</td>\n",
       "      <td>'/products/chicken-masala-ahmed'</td>\n",
       "      <td>ahmed</td>\n",
       "      <td>https://www.ajijo.com.au/collections/ahmed/pro...</td>\n",
       "    </tr>\n",
       "    <tr>\n",
       "      <th>4</th>\n",
       "      <td>CHANA MASALA, AHMED, 50G</td>\n",
       "      <td>1</td>\n",
       "      <td>$1.80</td>\n",
       "      <td>'/products/chana-masala-ahmed'</td>\n",
       "      <td>ahmed</td>\n",
       "      <td>https://www.ajijo.com.au/collections/ahmed/pro...</td>\n",
       "    </tr>\n",
       "  </tbody>\n",
       "</table>\n",
       "</div>"
      ],
      "text/plain": [
       "                            name  inventory   price  \\\n",
       "0              HALEEM MIX, AHMED        -99   $4.75   \n",
       "1  FRUIT CHAT MASALA, AHMED, 50G          8   $1.80   \n",
       "2   DAHI BARA MASALA, AHMED, 50G          8   $1.80   \n",
       "3     CHICKEN MASALA, AHMED, 50G          1   $1.80   \n",
       "4       CHANA MASALA, AHMED, 50G          1   $1.80   \n",
       "\n",
       "                  price_correspondance collection  \\\n",
       "0         '/products/haleem-mix-ahmed'      ahmed   \n",
       "1  '/products/fruit-chat-masala-ahmed'      ahmed   \n",
       "2   '/products/dahi-bara-masala-ahmed'      ahmed   \n",
       "3     '/products/chicken-masala-ahmed'      ahmed   \n",
       "4       '/products/chana-masala-ahmed'      ahmed   \n",
       "\n",
       "                                            item_url  \n",
       "0  https://www.ajijo.com.au/collections/ahmed/pro...  \n",
       "1  https://www.ajijo.com.au/collections/ahmed/pro...  \n",
       "2  https://www.ajijo.com.au/collections/ahmed/pro...  \n",
       "3  https://www.ajijo.com.au/collections/ahmed/pro...  \n",
       "4  https://www.ajijo.com.au/collections/ahmed/pro...  "
      ]
     },
     "execution_count": 399,
     "metadata": {},
     "output_type": "execute_result"
    }
   ],
   "source": [
    "data = pd.read_csv(\"data.csv\")\n",
    "data.head()"
   ]
  },
  {
   "cell_type": "code",
   "execution_count": 400,
   "metadata": {},
   "outputs": [],
   "source": [
    "# Pre-processing\n",
    "\n",
    "# Inventory Available but unknown\n",
    "data.loc[data.inventory == -99, 'inventory'] = np.random.randint(5, 25, len(data.loc[data.inventory == -99, 'inventory']))\n",
    "# Product Out of Stock\n",
    "data.loc[data.inventory == -199, 'inventory'] = 0\n",
    "# Clean Price Column\n",
    "data['price'] = data['price'].str.replace(\"$\", \"\").astype(float)"
   ]
  },
  {
   "cell_type": "code",
   "execution_count": 401,
   "metadata": {},
   "outputs": [],
   "source": [
    "# Create Stores\n",
    "ajijo = data.sample(int(0.65 * len(data))).reset_index(drop=True)\n",
    "bharat = data.copy()\n",
    "\n",
    "# Full Stock for Bharat\n",
    "bharat.loc[:, 'inventory'] = (bharat['inventory'] + 5) * 5"
   ]
  },
  {
   "cell_type": "code",
   "execution_count": 402,
   "metadata": {},
   "outputs": [],
   "source": [
    "# Find Closest Store\n",
    "def find_closest_store(store_locations, customer_locations):\n",
    "    \n",
    "    distance_list = []\n",
    "    stores = []\n",
    "    for store_name, store_location in store_locations.items():\n",
    "        distances = np.sqrt(np.sum((store_location - customer_locations)**2, axis=1))\n",
    "        distance_list.append(distances)\n",
    "        stores.append(store_name)\n",
    "\n",
    "    closest_store = [stores[i] for i in np.argmin(distance_list, axis=0)]\n",
    "    \n",
    "    return closest_store\n",
    "\n",
    "# Plot Closest Store to Customers\n",
    "def plot_closest_store(store_locations, customer_locations):\n",
    "    \n",
    "    closest_store = find_closest_store(store_locations, customer_locations)\n",
    "    \n",
    "    plt.figure(figsize=(10,5))\n",
    "\n",
    "    for k,v in store_locations.items():\n",
    "        plt.scatter(v[0], v[1], label = k.upper(), marker='*', s = 200)\n",
    "\n",
    "    plt.scatter(customer_locations[:,0], customer_locations[:,1], c='black', alpha=0.3, label='customers')\n",
    "\n",
    "    for i, store in enumerate(closest_store):\n",
    "        plt.plot([store_locations[store][0], customer_locations[i, 0]],\n",
    "                 [store_locations[store][1], customer_locations[i,1]], color = 'orange', alpha=0.1)\n",
    "\n",
    "    plt.legend(loc='best')\n",
    "    plt.title(\"Indian Grocery Stores in Canberra\")\n",
    "    plt.show()"
   ]
  },
  {
   "cell_type": "code",
   "execution_count": 266,
   "metadata": {},
   "outputs": [
    {
     "data": {
      "image/png": "[encoded data removed]",
      "text/plain": [
       "<Figure size 720x360 with 1 Axes>"
      ]
     },
     "metadata": {
      "needs_background": "light"
     },
     "output_type": "display_data"
    }
   ],
   "source": [
    "np.random.seed(11)\n",
    "stores = ['ajijo', 'bharat']\n",
    "store_locations = {store : np.random.random(2)*100 for store in stores}\n",
    "\n",
    "n_customers = 20\n",
    "customer_locations = np.random.random((n_customers, 2))*100\n",
    "# Simulate n customers (for 1 day)\n",
    "customers = [np.random.randint(0, len(data), np.random.randint(1, 15)) for i in range(n_customers)]\n",
    "\n",
    "plot_closest_store(store_locations, customer_locations)"
   ]
  },
  {
   "cell_type": "code",
   "execution_count": 267,
   "metadata": {},
   "outputs": [
    {
     "data": {
      "text/plain": [
       "[array([509,  48, 303]),\n",
       " array([1064]),\n",
       " array([452, 929, 385, 991, 418,  19, 224, 338, 443]),\n",
       " array([ 840, 1062,  119,  756,  868,  924,  185,  321,   90,  630,  362,\n",
       "         145,  367,  842]),\n",
       " array([963, 931, 465, 518, 314, 805, 603, 252]),\n",
       " array([ 10,  64, 945]),\n",
       " array([215]),\n",
       " array([140, 506, 886, 343, 529, 241, 981, 947,  35, 766, 450, 619]),\n",
       " array([ 435,   15, 1056]),\n",
       " array([555, 787, 727, 818, 585, 141, 930,  76, 511]),\n",
       " array([ 493,  114, 1014,  987, 1066, 1066,  955,   17,  383,  849,  630,\n",
       "         459,  811,  734]),\n",
       " array([721,  91]),\n",
       " array([252, 978, 758, 385, 934, 969, 986, 114, 367]),\n",
       " array([  59,  596,  313,  283, 1029,  979,  705,  889,  249,  226]),\n",
       " array([705]),\n",
       " array([206]),\n",
       " array([706, 578]),\n",
       " array([ 491,  138,  555,  894,  256,  471, 1048,  487,  883, 1069]),\n",
       " array([193, 999, 478, 743, 233]),\n",
       " array([1037, 1060,  507,   51,  350, 1054,  747,  379, 1020,  208,  227])]"
      ]
     },
     "execution_count": 267,
     "metadata": {},
     "output_type": "execute_result"
    }
   ],
   "source": [
    "customers"
   ]
  },
  {
   "cell_type": "code",
   "execution_count": 403,
   "metadata": {},
   "outputs": [],
   "source": [
    "def shop_at_store(store_customers, store_name):\n",
    "    \n",
    "    store = ajijo.copy() if store_name == 'ajijo' else bharat.copy()\n",
    "    # Simulation Logs\n",
    "    revenue = 0 # From sales\n",
    "    revenue_lost = 0 # Due to missing stock\n",
    "    disappointed_customer_count = 0 # To log the number of customers who didn't get what they came looking for\n",
    "\n",
    "#     # Simulate n customers (for 1 day)\n",
    "#     customers = [np.random.randint(0, len(store), np.random.randint(1, 15)) for i in range(n_customers)]\n",
    "\n",
    "    for customer in store_customers:\n",
    "        \n",
    "        try:\n",
    "            # Purchased items (increase revenue and reduce stock)\n",
    "            revenue_lost -= store.loc[customer, 'price'][store.inventory <= 0].sum() # Calculate revenue lost due to low stock\n",
    "            revenue += store.loc[customer, 'price'][store.inventory > 0].sum() # Calculate revenue from sales\n",
    "            store.loc[customer, 'inventory'] = store.loc[customer, 'inventory'] - 1 # Update the inventory\n",
    "            if len(store.loc[customer, 'price'][store.inventory <= 0]) > 0:\n",
    "                disappointed_customer_count += 1\n",
    "        except:\n",
    "            disappointed_customer_count += 1\n",
    "            \n",
    "    # Calculate percentage of potential revenue lost due to unavailability of products\n",
    "    pl_inventory_perc = revenue_lost / revenue * 100 if revenue > 0 else 0\n",
    "    pl_inventory_perc = np.round(pl_inventory_perc, 2)\n",
    "    \n",
    "    # Revenue if the items had been available\n",
    "    potential_revenue = np.round(revenue - revenue_lost, 2)\n",
    "    \n",
    "    # Actual Revenue\n",
    "    revenue = np.round(revenue, 2)\n",
    "    \n",
    "    return list((revenue, potential_revenue, pl_inventory_perc, disappointed_customer_count))"
   ]
  },
  {
   "cell_type": "markdown",
   "metadata": {},
   "source": [
    "#### When ALL customers come to 1 store\n",
    "#### They only buy if the store has ALL the items that they want, else they are disappointed and leave"
   ]
  },
  {
   "cell_type": "code",
   "execution_count": 270,
   "metadata": {},
   "outputs": [
    {
     "data": {
      "image/png": "[encoded data removed]",
      "text/plain": [
       "<Figure size 720x360 with 1 Axes>"
      ]
     },
     "metadata": {
      "needs_background": "light"
     },
     "output_type": "display_data"
    }
   ],
   "source": [
    "# When all customers come to 1 store\n",
    "# They only buy if the store has all the items that they want, else they are disappointed and leave\n",
    "ajijo_stats = shop_at_store(customers, 'ajijo')\n",
    "bharat_stats = shop_at_store(customers, 'bharat')\n",
    "\n",
    "plt.figure(figsize=(10,5))\n",
    "plt.bar(['AJIJO', 'BHARAT'], [ajijo_stats[-1], bharat_stats[-1]], width=0.75)\n",
    "plt.title(\"Customer Disappointment Comparison\")\n",
    "plt.ylabel(\"No. of Disappointed Customers\")\n",
    "plt.show()"
   ]
  },
  {
   "cell_type": "markdown",
   "metadata": {},
   "source": [
    "#### Location Based"
   ]
  },
  {
   "cell_type": "code",
   "execution_count": 302,
   "metadata": {},
   "outputs": [
    {
     "data": {
      "image/png": "[encoded data removed]",
      "text/plain": [
       "<Figure size 1440x504 with 2 Axes>"
      ]
     },
     "metadata": {
      "needs_background": "light"
     },
     "output_type": "display_data"
    }
   ],
   "source": [
    "ajijo_stats = shop_at_store(ajijo_customers, 'ajijo')\n",
    "\n",
    "fig, ax = plt.subplots(1,2, figsize=(20,7))\n",
    "\n",
    "fig.suptitle(\"AJIJO\", fontsize=16)\n",
    "ax[0].bar(['Actual', 'Potential'], [ajijo_stats[0], ajijo_stats[1]])\n",
    "ax[0].set_title(\"Revenue with {} customers\".format(len(ajijo_customers)))\n",
    "\n",
    "ax[1].pie([len(ajijo_customers) - ajijo_stats[-1], ajijo_stats[-1]], colors=['blue', 'red'])\n",
    "ax[1].set_title(\"Estimating Customer Satisfaction\")\n",
    "ax[1].legend(['Satisfied', 'Disappointed'], loc='best')\n",
    "\n",
    "plt.show()"
   ]
  },
  {
   "cell_type": "code",
   "execution_count": 303,
   "metadata": {},
   "outputs": [
    {
     "data": {
      "image/png": "[encoded data removed]",
      "text/plain": [
       "<Figure size 1440x504 with 2 Axes>"
      ]
     },
     "metadata": {
      "needs_background": "light"
     },
     "output_type": "display_data"
    }
   ],
   "source": [
    "bharat_stats = shop_at_store(bharat_customers, 'bharat')\n",
    "\n",
    "fig, ax = plt.subplots(1,2, figsize=(20,7))\n",
    "\n",
    "fig.suptitle(\"Bharat International\", fontsize=16)\n",
    "ax[0].bar(['Actual', 'Potential'], [bharat_stats[0], bharat_stats[1]])\n",
    "ax[0].set_title(\"Revenue with {} customers\".format(len(bharat_customers)))\n",
    "\n",
    "ax[1].pie([len(bharat_customers) - bharat_stats[-1], bharat_stats[-1]], colors=['blue', 'red'])\n",
    "ax[1].set_title(\"Estimating Customer Satisfaction\")\n",
    "ax[1].legend(['Satisfied', 'Disappointed'], loc='best')\n",
    "\n",
    "plt.show()"
   ]
  },
  {
   "cell_type": "code",
   "execution_count": 404,
   "metadata": {},
   "outputs": [],
   "source": [
    "def customers_go_to_store(closest_store, customer_carts):\n",
    "    ajijo_customer_ids = [i for i, store_name in enumerate(closest_store) if store_name == 'ajijo']\n",
    "    ajijo_customers = [order for i, order in enumerate(customer_carts) if i in ajijo_customer_ids]\n",
    "\n",
    "    bharat_customer_ids = [i for i, store_name in enumerate(closest_store) if store_name == 'bharat']\n",
    "    bharat_customers = [order for i, order in enumerate(customer_carts) if i in bharat_customer_ids]\n",
    "    return ajijo_customers, bharat_customers"
   ]
  },
  {
   "cell_type": "code",
   "execution_count": 405,
   "metadata": {},
   "outputs": [],
   "source": [
    "def simulate_indian_grocery_shopping(num_runs):\n",
    "    \n",
    "    # Set environment\n",
    "    np.random.seed(11)\n",
    "    stores = ['ajijo', 'bharat']\n",
    "    store_locations = {store : np.random.random(2)*100 for store in stores}\n",
    "\n",
    "#     # Total number of days to simulate\n",
    "#     num_runs = 14\n",
    "\n",
    "    # Number of shoppers for each day of the simulation (anywhere between 1 to 100)\n",
    "    max_n_shoppers = 50 # Maximum number of shoppers on any given day\n",
    "    num_shoppers = np.random.randint(1, max_n_shoppers, size=num_runs)\n",
    "\n",
    "    # Log Table \n",
    "    columns = ['day_no', 'total_customers', 'store_customers', 'store_name',\n",
    "               'revenue_actual', 'revenue_potential', 'pl_perc', 'num_disappointed']\n",
    "    logs = pd.DataFrame()\n",
    "\n",
    "    # Looping over each day\n",
    "    for day, n_customers in enumerate(num_shoppers):\n",
    "\n",
    "        clear_output(wait=True)\n",
    "        # Customer Location and Shopping Lists\n",
    "        customer_locations = np.random.random((n_customers, 2))*100\n",
    "        customer_carts = [np.random.randint(0, len(data), np.random.randint(1, 15)) for i in range(n_customers)]\n",
    "\n",
    "        # Find closest store for all customers\n",
    "        closest_store = find_closest_store(store_locations, customer_locations)\n",
    "\n",
    "        # Send order to store\n",
    "        orders = customers_go_to_store(closest_store, customer_carts)\n",
    "\n",
    "        # Go Shopping\n",
    "        for order, store_name in zip(orders, stores):\n",
    "            day_stats = [day + 1, n_customers, len(order), store_name]\n",
    "            shopping_stats = shop_at_store(order, store_name)\n",
    "\n",
    "            day_data = [day_stats + shopping_stats]\n",
    "            day_data = pd.DataFrame(day_data, columns=columns)\n",
    "            logs = pd.concat((logs, day_data))\n",
    "\n",
    "        progress = (day + 1) / num_runs * 100\n",
    "        print(\"Shopping Simulation Progress : {} %\".format(np.round(progress ,2)))\n",
    "\n",
    "    return logs.reset_index(drop=True)"
   ]
  },
  {
   "cell_type": "markdown",
   "metadata": {},
   "source": [
    "#### Simulation 1\n",
    "\n",
    "**Conditions :** \n",
    "1. Unstable Inventory for Ajijo\n",
    "2. Full Inventory for Bharat"
   ]
  },
  {
   "cell_type": "code",
   "execution_count": 373,
   "metadata": {},
   "outputs": [
    {
     "name": "stdout",
     "output_type": "stream",
     "text": [
      "Shopping Simulation Progress : 100.0 %\n"
     ]
    }
   ],
   "source": [
    "data = pd.read_csv(\"data.csv\")\n",
    "\n",
    "# Pre-processing\n",
    "\n",
    "# Inventory Available but unknown\n",
    "data.loc[data.inventory == -99, 'inventory'] = np.random.randint(5, 25, len(data.loc[data.inventory == -99, 'inventory']))\n",
    "# Product Out of Stock\n",
    "data.loc[data.inventory == -199, 'inventory'] = 0\n",
    "# Clean Price Column\n",
    "data['price'] = data['price'].str.replace(\"$\", \"\").astype(float)\n",
    "\n",
    "# Create Stores\n",
    "ajijo = data.sample(int(0.65 * len(data))).reset_index(drop=True)\n",
    "bharat = data.copy()\n",
    "\n",
    "# Full Stock for Bharat\n",
    "bharat.loc[:, 'inventory'] = (bharat['inventory'] + 5) * 5\n",
    "\n",
    "simulation_results = simulate_indian_grocery_shopping(10000)"
   ]
  },
  {
   "cell_type": "markdown",
   "metadata": {},
   "source": [
    "#### Simulation 2\n",
    "\n",
    "**Conditions :** \n",
    "1. Full Inventory for Ajijo\n",
    "2. Full Inventory for Bharat"
   ]
  },
  {
   "cell_type": "code",
   "execution_count": 394,
   "metadata": {},
   "outputs": [
    {
     "name": "stdout",
     "output_type": "stream",
     "text": [
      "Shopping Simulation Progress : 100.0 %\n"
     ]
    }
   ],
   "source": [
    "data = pd.read_csv(\"data.csv\")\n",
    "\n",
    "# Pre-processing\n",
    "\n",
    "# Inventory Available but unknown\n",
    "data.loc[data.inventory == -99, 'inventory'] = np.random.randint(5, 25, len(data.loc[data.inventory == -99, 'inventory']))\n",
    "# Product Out of Stock\n",
    "data.loc[data.inventory == -199, 'inventory'] = 0\n",
    "# Clean Price Column\n",
    "data['price'] = data['price'].str.replace(\"$\", \"\").astype(float)\n",
    "\n",
    "# Create Stores\n",
    "ajijo = data.sample(int(0.65 * len(data))).reset_index(drop=True)\n",
    "bharat = data.copy()\n",
    "\n",
    "# Full Stock for Bharat AND AJIJO\n",
    "bharat.loc[:, 'inventory'] = (bharat['inventory'] + 5) * 5\n",
    "ajijo.loc[:, 'inventory'] = (ajijo['inventory'] + 5) * 5\n",
    "\n",
    "simulation_results = simulate_indian_grocery_shopping(10000)"
   ]
  },
  {
   "cell_type": "code",
   "execution_count": 396,
   "metadata": {},
   "outputs": [],
   "source": [
    "# simulation_results.to_csv(\"Location Based Shopping Data with Full Inventory (10000 days, 1-50 cpd).csv\", index=False)"
   ]
  }
 ],
 "metadata": {
  "kernelspec": {
   "display_name": "Python 3",
   "language": "python",
   "name": "python3"
  },
  "language_info": {
   "codemirror_mode": {
    "name": "ipython",
    "version": 3
   },
   "file_extension": ".py",
   "mimetype": "text/x-python",
   "name": "python",
   "nbconvert_exporter": "python",
   "pygments_lexer": "ipython3",
   "version": "3.7.7"
  }
 },
 "nbformat": 4,
 "nbformat_minor": 4
}
