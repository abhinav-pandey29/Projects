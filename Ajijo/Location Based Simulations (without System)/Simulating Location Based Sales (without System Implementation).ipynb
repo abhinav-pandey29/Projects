{
 "cells": [
  {
   "cell_type": "code",
   "execution_count": 1,
   "metadata": {},
   "outputs": [],
   "source": [
    "import numpy as np\n",
    "import pandas as pd\n",
    "import matplotlib.pyplot as plt\n",
    "import seaborn as sns\n",
    "\n",
    "from IPython.display import clear_output"
   ]
  },
  {
   "cell_type": "code",
   "execution_count": 5,
   "metadata": {},
   "outputs": [
    {
     "data": {
      "text/html": [
       "<div>\n",
       "<style scoped>\n",
       "    .dataframe tbody tr th:only-of-type {\n",
       "        vertical-align: middle;\n",
       "    }\n",
       "\n",
       "    .dataframe tbody tr th {\n",
       "        vertical-align: top;\n",
       "    }\n",
       "\n",
       "    .dataframe thead th {\n",
       "        text-align: right;\n",
       "    }\n",
       "</style>\n",
       "<table border=\"1\" class=\"dataframe\">\n",
       "  <thead>\n",
       "    <tr style=\"text-align: right;\">\n",
       "      <th></th>\n",
       "      <th>name</th>\n",
       "      <th>inventory</th>\n",
       "      <th>price</th>\n",
       "      <th>price_correspondance</th>\n",
       "      <th>collection</th>\n",
       "      <th>item_url</th>\n",
       "    </tr>\n",
       "  </thead>\n",
       "  <tbody>\n",
       "    <tr>\n",
       "      <th>0</th>\n",
       "      <td>HALEEM MIX, AHMED</td>\n",
       "      <td>-99</td>\n",
       "      <td>$4.75</td>\n",
       "      <td>'/products/haleem-mix-ahmed'</td>\n",
       "      <td>ahmed</td>\n",
       "      <td>https://www.ajijo.com.au/collections/ahmed/pro...</td>\n",
       "    </tr>\n",
       "    <tr>\n",
       "      <th>1</th>\n",
       "      <td>FRUIT CHAT MASALA, AHMED, 50G</td>\n",
       "      <td>8</td>\n",
       "      <td>$1.80</td>\n",
       "      <td>'/products/fruit-chat-masala-ahmed'</td>\n",
       "      <td>ahmed</td>\n",
       "      <td>https://www.ajijo.com.au/collections/ahmed/pro...</td>\n",
       "    </tr>\n",
       "    <tr>\n",
       "      <th>2</th>\n",
       "      <td>DAHI BARA MASALA, AHMED, 50G</td>\n",
       "      <td>8</td>\n",
       "      <td>$1.80</td>\n",
       "      <td>'/products/dahi-bara-masala-ahmed'</td>\n",
       "      <td>ahmed</td>\n",
       "      <td>https://www.ajijo.com.au/collections/ahmed/pro...</td>\n",
       "    </tr>\n",
       "    <tr>\n",
       "      <th>3</th>\n",
       "      <td>CHICKEN MASALA, AHMED, 50G</td>\n",
       "      <td>1</td>\n",
       "      <td>$1.80</td>\n",
       "      <td>'/products/chicken-masala-ahmed'</td>\n",
       "      <td>ahmed</td>\n",
       "      <td>https://www.ajijo.com.au/collections/ahmed/pro...</td>\n",
       "    </tr>\n",
       "    <tr>\n",
       "      <th>4</th>\n",
       "      <td>CHANA MASALA, AHMED, 50G</td>\n",
       "      <td>1</td>\n",
       "      <td>$1.80</td>\n",
       "      <td>'/products/chana-masala-ahmed'</td>\n",
       "      <td>ahmed</td>\n",
       "      <td>https://www.ajijo.com.au/collections/ahmed/pro...</td>\n",
       "    </tr>\n",
       "  </tbody>\n",
       "</table>\n",
       "</div>"
      ],
      "text/plain": [
       "                            name  inventory   price  \\\n",
       "0              HALEEM MIX, AHMED        -99   $4.75   \n",
       "1  FRUIT CHAT MASALA, AHMED, 50G          8   $1.80   \n",
       "2   DAHI BARA MASALA, AHMED, 50G          8   $1.80   \n",
       "3     CHICKEN MASALA, AHMED, 50G          1   $1.80   \n",
       "4       CHANA MASALA, AHMED, 50G          1   $1.80   \n",
       "\n",
       "                  price_correspondance collection  \\\n",
       "0         '/products/haleem-mix-ahmed'      ahmed   \n",
       "1  '/products/fruit-chat-masala-ahmed'      ahmed   \n",
       "2   '/products/dahi-bara-masala-ahmed'      ahmed   \n",
       "3     '/products/chicken-masala-ahmed'      ahmed   \n",
       "4       '/products/chana-masala-ahmed'      ahmed   \n",
       "\n",
       "                                            item_url  \n",
       "0  https://www.ajijo.com.au/collections/ahmed/pro...  \n",
       "1  https://www.ajijo.com.au/collections/ahmed/pro...  \n",
       "2  https://www.ajijo.com.au/collections/ahmed/pro...  \n",
       "3  https://www.ajijo.com.au/collections/ahmed/pro...  \n",
       "4  https://www.ajijo.com.au/collections/ahmed/pro...  "
      ]
     },
     "execution_count": 5,
     "metadata": {},
     "output_type": "execute_result"
    }
   ],
   "source": [
    "data = pd.read_csv(\"data.csv\")\n",
    "data.head()"
   ]
  },
  {
   "cell_type": "code",
   "execution_count": 6,
   "metadata": {},
   "outputs": [],
   "source": [
    "# Pre-processing\n",
    "\n",
    "# Inventory Available but unknown\n",
    "data.loc[data.inventory == -99, 'inventory'] = np.random.randint(5, 25, len(data.loc[data.inventory == -99, 'inventory']))\n",
    "# Product Out of Stock\n",
    "data.loc[data.inventory == -199, 'inventory'] = 0\n",
    "# Clean Price Column\n",
    "data['price'] = data['price'].str.replace(\"$\", \"\").astype(float)"
   ]
  },
  {
   "cell_type": "code",
   "execution_count": 7,
   "metadata": {},
   "outputs": [],
   "source": [
    "# Create Stores\n",
    "ajijo = data.sample(int(0.65 * len(data))).reset_index(drop=True)\n",
    "bharat = data.copy()\n",
    "\n",
    "# Full Stock for Bharat\n",
    "bharat.loc[:, 'inventory'] = (bharat['inventory'] + 5) * 5"
   ]
  },
  {
   "cell_type": "code",
   "execution_count": 15,
   "metadata": {},
   "outputs": [],
   "source": [
    "# Find Closest Store\n",
    "def find_closest_store(store_locations, customer_locations):\n",
    "    \n",
    "    distance_list = []\n",
    "    stores = []\n",
    "    for store_name, store_location in store_locations.items():\n",
    "        distances = np.sqrt(np.sum((store_location - customer_locations)**2, axis=1))\n",
    "        distance_list.append(distances)\n",
    "        stores.append(store_name)\n",
    "\n",
    "    closest_store = [stores[i] for i in np.argmin(distance_list, axis=0)]\n",
    "    \n",
    "    return closest_store\n",
    "\n",
    "# Plot Closest Store to Customers\n",
    "def plot_closest_store(store_locations, customer_locations):\n",
    "    \n",
    "    closest_store = find_closest_store(store_locations, customer_locations)\n",
    "    \n",
    "    plt.figure(figsize=(10,5))\n",
    "\n",
    "    for k,v in store_locations.items():\n",
    "        plt.scatter(v[0], v[1], label = k.upper(), marker='*', s = 200)\n",
    "\n",
    "    plt.scatter(customer_locations[:,0], customer_locations[:,1], c='black', alpha=0.3, label='customers')\n",
    "\n",
    "    for i, store in enumerate(closest_store):\n",
    "        plt.plot([store_locations[store][0], customer_locations[i, 0]],\n",
    "                 [store_locations[store][1], customer_locations[i,1]], color = 'orange', alpha=0.1)\n",
    "\n",
    "    plt.legend(loc='best')\n",
    "    plt.title(\"Indian Grocery Stores in Canberra\")\n",
    "    plt.show()"
   ]
  },
  {
   "cell_type": "code",
   "execution_count": 16,
   "metadata": {},
   "outputs": [
    {
     "data": {
      "image/png": "[encoded data removed]",
      "text/plain": [
       "<Figure size 720x360 with 1 Axes>"
      ]
     },
     "metadata": {
      "needs_background": "light"
     },
     "output_type": "display_data"
    }
   ],
   "source": [
    "np.random.seed(11)\n",
    "stores = ['ajijo', 'bharat']\n",
    "store_locations = {store : np.random.random(2)*100 for store in stores}\n",
    "\n",
    "n_customers = 20\n",
    "customer_locations = np.random.random((n_customers, 2))*100\n",
    "# Simulate n customers (for 1 day)\n",
    "customers = [np.random.randint(0, len(data), np.random.randint(1, 15)) for i in range(n_customers)]\n",
    "\n",
    "plot_closest_store(store_locations, customer_locations)"
   ]
  },
  {
   "cell_type": "code",
   "execution_count": 17,
   "metadata": {},
   "outputs": [
    {
     "data": {
      "text/plain": [
       "[array([509,  48, 303]),\n",
       " array([1064]),\n",
       " array([452, 929, 385, 991, 418,  19, 224, 338, 443]),\n",
       " array([ 840, 1062,  119,  756,  868,  924,  185,  321,   90,  630,  362,\n",
       "         145,  367,  842]),\n",
       " array([963, 931, 465, 518, 314, 805, 603, 252]),\n",
       " array([ 10,  64, 945]),\n",
       " array([215]),\n",
       " array([140, 506, 886, 343, 529, 241, 981, 947,  35, 766, 450, 619]),\n",
       " array([ 435,   15, 1056]),\n",
       " array([555, 787, 727, 818, 585, 141, 930,  76, 511]),\n",
       " array([ 493,  114, 1014,  987, 1066, 1066,  955,   17,  383,  849,  630,\n",
       "         459,  811,  734]),\n",
       " array([721,  91]),\n",
       " array([252, 978, 758, 385, 934, 969, 986, 114, 367]),\n",
       " array([  59,  596,  313,  283, 1029,  979,  705,  889,  249,  226]),\n",
       " array([705]),\n",
       " array([206]),\n",
       " array([706, 578]),\n",
       " array([ 491,  138,  555,  894,  256,  471, 1048,  487,  883, 1069]),\n",
       " array([193, 999, 478, 743, 233]),\n",
       " array([1037, 1060,  507,   51,  350, 1054,  747,  379, 1020,  208,  227])]"
      ]
     },
     "execution_count": 17,
     "metadata": {},
     "output_type": "execute_result"
    }
   ],
   "source": [
    "customers"
   ]
  },
  {
   "cell_type": "code",
   "execution_count": 18,
   "metadata": {},
   "outputs": [],
   "source": [
    "def shop_at_store(store_customers, store_name):\n",
    "    \n",
    "    store = ajijo.copy() if store_name == 'ajijo' else bharat.copy()\n",
    "    # Simulation Logs\n",
    "    revenue = 0 # From sales\n",
    "    revenue_lost = 0 # Due to missing stock\n",
    "    disappointed_customer_count = 0 # To log the number of customers who didn't get what they came looking for\n",
    "\n",
    "#     # Simulate n customers (for 1 day)\n",
    "#     customers = [np.random.randint(0, len(store), np.random.randint(1, 15)) for i in range(n_customers)]\n",
    "\n",
    "    for customer in store_customers:\n",
    "        \n",
    "        try:\n",
    "            # Purchased items (increase revenue and reduce stock)\n",
    "            revenue_lost -= store.loc[customer, 'price'][store.inventory <= 0].sum() # Calculate revenue lost due to low stock\n",
    "            revenue += store.loc[customer, 'price'][store.inventory > 0].sum() # Calculate revenue from sales\n",
    "            store.loc[customer, 'inventory'] = store.loc[customer, 'inventory'] - 1 # Update the inventory\n",
    "            if len(store.loc[customer, 'price'][store.inventory <= 0]) > 0:\n",
    "                disappointed_customer_count += 1\n",
    "        except:\n",
    "            disappointed_customer_count += 1\n",
    "            \n",
    "    # Calculate percentage of potential revenue lost due to unavailability of products\n",
    "    pl_inventory_perc = revenue_lost / revenue * 100 if revenue > 0 else 0\n",
    "    pl_inventory_perc = np.round(pl_inventory_perc, 2)\n",
    "    \n",
    "    # Revenue if the items had been available\n",
    "    potential_revenue = np.round(revenue - revenue_lost, 2)\n",
    "    \n",
    "    # Actual Revenue\n",
    "    revenue = np.round(revenue, 2)\n",
    "    \n",
    "    return list((revenue, potential_revenue, pl_inventory_perc, disappointed_customer_count))"
   ]
  },
  {
   "cell_type": "markdown",
   "metadata": {},
   "source": [
    "#### When ALL customers come to 1 store\n",
    "#### They only buy if the store has ALL the items that they want, else they are disappointed and leave"
   ]
  },
  {
   "cell_type": "code",
   "execution_count": 21,
   "metadata": {},
   "outputs": [
    {
     "data": {
      "image/png": "[encoded data removed]",
      "text/plain": [
       "<Figure size 720x360 with 1 Axes>"
      ]
     },
     "metadata": {
      "needs_background": "light"
     },
     "output_type": "display_data"
    }
   ],
   "source": [
    "# When all customers come to 1 store\n",
    "# They only buy if the store has all the items that they want, else they are disappointed and leave\n",
    "ajijo_stats = shop_at_store(customers, 'ajijo')\n",
    "bharat_stats = shop_at_store(customers, 'bharat')\n",
    "\n",
    "plt.figure(figsize=(10,5))\n",
    "plt.bar(['AJIJO', 'BHARAT'], [ajijo_stats[-1], bharat_stats[-1]], width=0.75)\n",
    "plt.title(\"Customer Disappointment Comparison\")\n",
    "plt.ylabel(\"No. of Disappointed Customers\")\n",
    "plt.show()"
   ]
  },
  {
   "cell_type": "markdown",
   "metadata": {},
   "source": [
    "#### Location Based"
   ]
  },
  {
   "cell_type": "code",
   "execution_count": 20,
   "metadata": {},
   "outputs": [
    {
     "ename": "NameError",
     "evalue": "name 'ajijo_customers' is not defined",
     "output_type": "error",
     "traceback": [
      "\u001b[1;31m---------------------------------------------------------------------------\u001b[0m",
      "\u001b[1;31mNameError\u001b[0m                                 Traceback (most recent call last)",
      "\u001b[1;32m<ipython-input-20-61b3f89db328>\u001b[0m in \u001b[0;36m<module>\u001b[1;34m\u001b[0m\n\u001b[1;32m----> 1\u001b[1;33m \u001b[0majijo_stats\u001b[0m \u001b[1;33m=\u001b[0m \u001b[0mshop_at_store\u001b[0m\u001b[1;33m(\u001b[0m\u001b[0majijo_customers\u001b[0m\u001b[1;33m,\u001b[0m \u001b[1;34m'ajijo'\u001b[0m\u001b[1;33m)\u001b[0m\u001b[1;33m\u001b[0m\u001b[1;33m\u001b[0m\u001b[0m\n\u001b[0m\u001b[0;32m      2\u001b[0m \u001b[1;33m\u001b[0m\u001b[0m\n\u001b[0;32m      3\u001b[0m \u001b[0mfig\u001b[0m\u001b[1;33m,\u001b[0m \u001b[0max\u001b[0m \u001b[1;33m=\u001b[0m \u001b[0mplt\u001b[0m\u001b[1;33m.\u001b[0m\u001b[0msubplots\u001b[0m\u001b[1;33m(\u001b[0m\u001b[1;36m1\u001b[0m\u001b[1;33m,\u001b[0m\u001b[1;36m2\u001b[0m\u001b[1;33m,\u001b[0m \u001b[0mfigsize\u001b[0m\u001b[1;33m=\u001b[0m\u001b[1;33m(\u001b[0m\u001b[1;36m20\u001b[0m\u001b[1;33m,\u001b[0m\u001b[1;36m7\u001b[0m\u001b[1;33m)\u001b[0m\u001b[1;33m)\u001b[0m\u001b[1;33m\u001b[0m\u001b[1;33m\u001b[0m\u001b[0m\n\u001b[0;32m      4\u001b[0m \u001b[1;33m\u001b[0m\u001b[0m\n\u001b[0;32m      5\u001b[0m \u001b[0mfig\u001b[0m\u001b[1;33m.\u001b[0m\u001b[0msuptitle\u001b[0m\u001b[1;33m(\u001b[0m\u001b[1;34m\"AJIJO\"\u001b[0m\u001b[1;33m,\u001b[0m \u001b[0mfontsize\u001b[0m\u001b[1;33m=\u001b[0m\u001b[1;36m16\u001b[0m\u001b[1;33m)\u001b[0m\u001b[1;33m\u001b[0m\u001b[1;33m\u001b[0m\u001b[0m\n",
      "\u001b[1;31mNameError\u001b[0m: name 'ajijo_customers' is not defined"
     ]
    }
   ],
   "source": [
    "ajijo_stats = shop_at_store(ajijo_customers, 'ajijo')\n",
    "\n",
    "fig, ax = plt.subplots(1,2, figsize=(20,7))\n",
    "\n",
    "fig.suptitle(\"AJIJO\", fontsize=16)\n",
    "ax[0].bar(['Actual', 'Potential'], [ajijo_stats[0], ajijo_stats[1]])\n",
    "ax[0].set_title(\"Revenue with {} customers\".format(len(ajijo_customers)))\n",
    "\n",
    "ax[1].pie([len(ajijo_customers) - ajijo_stats[-1], ajijo_stats[-1]], colors=['blue', 'red'])\n",
    "ax[1].set_title(\"Estimating Customer Satisfaction\")\n",
    "ax[1].legend(['Satisfied', 'Disappointed'], loc='best')\n",
    "\n",
    "plt.show()"
   ]
  },
  {
   "cell_type": "code",
   "execution_count": 22,
   "metadata": {},
   "outputs": [
    {
     "ename": "NameError",
     "evalue": "name 'bharat_customers' is not defined",
     "output_type": "error",
     "traceback": [
      "\u001b[1;31m---------------------------------------------------------------------------\u001b[0m",
      "\u001b[1;31mNameError\u001b[0m                                 Traceback (most recent call last)",
      "\u001b[1;32m<ipython-input-22-46f349b9206f>\u001b[0m in \u001b[0;36m<module>\u001b[1;34m\u001b[0m\n\u001b[1;32m----> 1\u001b[1;33m \u001b[0mbharat_stats\u001b[0m \u001b[1;33m=\u001b[0m \u001b[0mshop_at_store\u001b[0m\u001b[1;33m(\u001b[0m\u001b[0mbharat_customers\u001b[0m\u001b[1;33m,\u001b[0m \u001b[1;34m'bharat'\u001b[0m\u001b[1;33m)\u001b[0m\u001b[1;33m\u001b[0m\u001b[1;33m\u001b[0m\u001b[0m\n\u001b[0m\u001b[0;32m      2\u001b[0m \u001b[1;33m\u001b[0m\u001b[0m\n\u001b[0;32m      3\u001b[0m \u001b[0mfig\u001b[0m\u001b[1;33m,\u001b[0m \u001b[0max\u001b[0m \u001b[1;33m=\u001b[0m \u001b[0mplt\u001b[0m\u001b[1;33m.\u001b[0m\u001b[0msubplots\u001b[0m\u001b[1;33m(\u001b[0m\u001b[1;36m1\u001b[0m\u001b[1;33m,\u001b[0m\u001b[1;36m2\u001b[0m\u001b[1;33m,\u001b[0m \u001b[0mfigsize\u001b[0m\u001b[1;33m=\u001b[0m\u001b[1;33m(\u001b[0m\u001b[1;36m20\u001b[0m\u001b[1;33m,\u001b[0m\u001b[1;36m7\u001b[0m\u001b[1;33m)\u001b[0m\u001b[1;33m)\u001b[0m\u001b[1;33m\u001b[0m\u001b[1;33m\u001b[0m\u001b[0m\n\u001b[0;32m      4\u001b[0m \u001b[1;33m\u001b[0m\u001b[0m\n\u001b[0;32m      5\u001b[0m \u001b[0mfig\u001b[0m\u001b[1;33m.\u001b[0m\u001b[0msuptitle\u001b[0m\u001b[1;33m(\u001b[0m\u001b[1;34m\"Bharat International\"\u001b[0m\u001b[1;33m,\u001b[0m \u001b[0mfontsize\u001b[0m\u001b[1;33m=\u001b[0m\u001b[1;36m16\u001b[0m\u001b[1;33m)\u001b[0m\u001b[1;33m\u001b[0m\u001b[1;33m\u001b[0m\u001b[0m\n",
      "\u001b[1;31mNameError\u001b[0m: name 'bharat_customers' is not defined"
     ]
    }
   ],
   "source": [
    "bharat_stats = shop_at_store(bharat_customers, 'bharat')\n",
    "\n",
    "fig, ax = plt.subplots(1,2, figsize=(20,7))\n",
    "\n",
    "fig.suptitle(\"Bharat International\", fontsize=16)\n",
    "ax[0].bar(['Actual', 'Potential'], [bharat_stats[0], bharat_stats[1]])\n",
    "ax[0].set_title(\"Revenue with {} customers\".format(len(bharat_customers)))\n",
    "\n",
    "ax[1].pie([len(bharat_customers) - bharat_stats[-1], bharat_stats[-1]], colors=['blue', 'red'])\n",
    "ax[1].set_title(\"Estimating Customer Satisfaction\")\n",
    "ax[1].legend(['Satisfied', 'Disappointed'], loc='best')\n",
    "\n",
    "plt.show()"
   ]
  },
  {
   "cell_type": "code",
   "execution_count": 23,
   "metadata": {},
   "outputs": [],
   "source": [
    "def customers_go_to_store(closest_store, customer_carts):\n",
    "    ajijo_customer_ids = [i for i, store_name in enumerate(closest_store) if store_name == 'ajijo']\n",
    "    ajijo_customers = [order for i, order in enumerate(customer_carts) if i in ajijo_customer_ids]\n",
    "\n",
    "    bharat_customer_ids = [i for i, store_name in enumerate(closest_store) if store_name == 'bharat']\n",
    "    bharat_customers = [order for i, order in enumerate(customer_carts) if i in bharat_customer_ids]\n",
    "    return ajijo_customers, bharat_customers"
   ]
  },
  {
   "cell_type": "code",
   "execution_count": 24,
   "metadata": {},
   "outputs": [],
   "source": [
    "def simulate_indian_grocery_shopping(num_runs):\n",
    "    \n",
    "    # Set environment\n",
    "    np.random.seed(11)\n",
    "    stores = ['ajijo', 'bharat']\n",
    "    store_locations = {store : np.random.random(2)*100 for store in stores}\n",
    "\n",
    "#     # Total number of days to simulate\n",
    "#     num_runs = 14\n",
    "\n",
    "    # Number of shoppers for each day of the simulation (anywhere between 1 to 100)\n",
    "    max_n_shoppers = 50 # Maximum number of shoppers on any given day\n",
    "    num_shoppers = np.random.randint(1, max_n_shoppers, size=num_runs)\n",
    "\n",
    "    # Log Table \n",
    "    columns = ['day_no', 'total_customers', 'store_customers', 'store_name',\n",
    "               'revenue_actual', 'revenue_potential', 'pl_perc', 'num_disappointed']\n",
    "    logs = pd.DataFrame()\n",
    "\n",
    "    # Looping over each day\n",
    "    for day, n_customers in enumerate(num_shoppers):\n",
    "\n",
    "        clear_output(wait=True)\n",
    "        # Customer Location and Shopping Lists\n",
    "        customer_locations = np.random.random((n_customers, 2))*100\n",
    "        customer_carts = [np.random.randint(0, len(data), np.random.randint(1, 15)) for i in range(n_customers)]\n",
    "\n",
    "        # Find closest store for all customers\n",
    "        closest_store = find_closest_store(store_locations, customer_locations)\n",
    "\n",
    "        # Send order to store\n",
    "        orders = customers_go_to_store(closest_store, customer_carts)\n",
    "\n",
    "        # Go Shopping\n",
    "        for order, store_name in zip(orders, stores):\n",
    "            day_stats = [day + 1, n_customers, len(order), store_name]\n",
    "            shopping_stats = shop_at_store(order, store_name)\n",
    "\n",
    "            day_data = [day_stats + shopping_stats]\n",
    "            day_data = pd.DataFrame(day_data, columns=columns)\n",
    "            logs = pd.concat((logs, day_data))\n",
    "\n",
    "        progress = (day + 1) / num_runs * 100\n",
    "        print(\"Shopping Simulation Progress : {} %\".format(np.round(progress ,2)))\n",
    "\n",
    "    return logs.reset_index(drop=True)"
   ]
  },
  {
   "cell_type": "markdown",
   "metadata": {},
   "source": [
    "#### Simulation 1\n",
    "\n",
    "**Conditions :** \n",
    "1. Unstable Inventory for Ajijo\n",
    "2. Full Inventory for Bharat"
   ]
  },
  {
   "cell_type": "code",
   "execution_count": 25,
   "metadata": {},
   "outputs": [
    {
     "ename": "KeyboardInterrupt",
     "evalue": "",
     "output_type": "error",
     "traceback": [
      "\u001b[1;31m---------------------------------------------------------------------------\u001b[0m",
      "\u001b[1;31mKeyboardInterrupt\u001b[0m                         Traceback (most recent call last)",
      "\u001b[1;32m<ipython-input-25-3564504a34c6>\u001b[0m in \u001b[0;36m<module>\u001b[1;34m\u001b[0m\n\u001b[0;32m     17\u001b[0m \u001b[0mbharat\u001b[0m\u001b[1;33m.\u001b[0m\u001b[0mloc\u001b[0m\u001b[1;33m[\u001b[0m\u001b[1;33m:\u001b[0m\u001b[1;33m,\u001b[0m \u001b[1;34m'inventory'\u001b[0m\u001b[1;33m]\u001b[0m \u001b[1;33m=\u001b[0m \u001b[1;33m(\u001b[0m\u001b[0mbharat\u001b[0m\u001b[1;33m[\u001b[0m\u001b[1;34m'inventory'\u001b[0m\u001b[1;33m]\u001b[0m \u001b[1;33m+\u001b[0m \u001b[1;36m5\u001b[0m\u001b[1;33m)\u001b[0m \u001b[1;33m*\u001b[0m \u001b[1;36m5\u001b[0m\u001b[1;33m\u001b[0m\u001b[1;33m\u001b[0m\u001b[0m\n\u001b[0;32m     18\u001b[0m \u001b[1;33m\u001b[0m\u001b[0m\n\u001b[1;32m---> 19\u001b[1;33m \u001b[0msimulation_results\u001b[0m \u001b[1;33m=\u001b[0m \u001b[0msimulate_indian_grocery_shopping\u001b[0m\u001b[1;33m(\u001b[0m\u001b[1;36m10000\u001b[0m\u001b[1;33m)\u001b[0m\u001b[1;33m\u001b[0m\u001b[1;33m\u001b[0m\u001b[0m\n\u001b[0m",
      "\u001b[1;32m<ipython-input-24-5e139b60a0bc>\u001b[0m in \u001b[0;36msimulate_indian_grocery_shopping\u001b[1;34m(num_runs)\u001b[0m\n\u001b[0;32m     39\u001b[0m             \u001b[0mday_data\u001b[0m \u001b[1;33m=\u001b[0m \u001b[1;33m[\u001b[0m\u001b[0mday_stats\u001b[0m \u001b[1;33m+\u001b[0m \u001b[0mshopping_stats\u001b[0m\u001b[1;33m]\u001b[0m\u001b[1;33m\u001b[0m\u001b[1;33m\u001b[0m\u001b[0m\n\u001b[0;32m     40\u001b[0m             \u001b[0mday_data\u001b[0m \u001b[1;33m=\u001b[0m \u001b[0mpd\u001b[0m\u001b[1;33m.\u001b[0m\u001b[0mDataFrame\u001b[0m\u001b[1;33m(\u001b[0m\u001b[0mday_data\u001b[0m\u001b[1;33m,\u001b[0m \u001b[0mcolumns\u001b[0m\u001b[1;33m=\u001b[0m\u001b[0mcolumns\u001b[0m\u001b[1;33m)\u001b[0m\u001b[1;33m\u001b[0m\u001b[1;33m\u001b[0m\u001b[0m\n\u001b[1;32m---> 41\u001b[1;33m             \u001b[0mlogs\u001b[0m \u001b[1;33m=\u001b[0m \u001b[0mpd\u001b[0m\u001b[1;33m.\u001b[0m\u001b[0mconcat\u001b[0m\u001b[1;33m(\u001b[0m\u001b[1;33m(\u001b[0m\u001b[0mlogs\u001b[0m\u001b[1;33m,\u001b[0m \u001b[0mday_data\u001b[0m\u001b[1;33m)\u001b[0m\u001b[1;33m)\u001b[0m\u001b[1;33m\u001b[0m\u001b[1;33m\u001b[0m\u001b[0m\n\u001b[0m\u001b[0;32m     42\u001b[0m \u001b[1;33m\u001b[0m\u001b[0m\n\u001b[0;32m     43\u001b[0m         \u001b[0mprogress\u001b[0m \u001b[1;33m=\u001b[0m \u001b[1;33m(\u001b[0m\u001b[0mday\u001b[0m \u001b[1;33m+\u001b[0m \u001b[1;36m1\u001b[0m\u001b[1;33m)\u001b[0m \u001b[1;33m/\u001b[0m \u001b[0mnum_runs\u001b[0m \u001b[1;33m*\u001b[0m \u001b[1;36m100\u001b[0m\u001b[1;33m\u001b[0m\u001b[1;33m\u001b[0m\u001b[0m\n",
      "\u001b[1;32m~\\Anaconda3\\envs\\tf\\lib\\site-packages\\pandas\\core\\reshape\\concat.py\u001b[0m in \u001b[0;36mconcat\u001b[1;34m(objs, axis, join, ignore_index, keys, levels, names, verify_integrity, sort, copy)\u001b[0m\n\u001b[0;32m    279\u001b[0m         \u001b[0mverify_integrity\u001b[0m\u001b[1;33m=\u001b[0m\u001b[0mverify_integrity\u001b[0m\u001b[1;33m,\u001b[0m\u001b[1;33m\u001b[0m\u001b[1;33m\u001b[0m\u001b[0m\n\u001b[0;32m    280\u001b[0m         \u001b[0mcopy\u001b[0m\u001b[1;33m=\u001b[0m\u001b[0mcopy\u001b[0m\u001b[1;33m,\u001b[0m\u001b[1;33m\u001b[0m\u001b[1;33m\u001b[0m\u001b[0m\n\u001b[1;32m--> 281\u001b[1;33m         \u001b[0msort\u001b[0m\u001b[1;33m=\u001b[0m\u001b[0msort\u001b[0m\u001b[1;33m,\u001b[0m\u001b[1;33m\u001b[0m\u001b[1;33m\u001b[0m\u001b[0m\n\u001b[0m\u001b[0;32m    282\u001b[0m     )\n\u001b[0;32m    283\u001b[0m \u001b[1;33m\u001b[0m\u001b[0m\n",
      "\u001b[1;32m~\\Anaconda3\\envs\\tf\\lib\\site-packages\\pandas\\core\\reshape\\concat.py\u001b[0m in \u001b[0;36m__init__\u001b[1;34m(self, objs, axis, join, keys, levels, names, ignore_index, verify_integrity, copy, sort)\u001b[0m\n\u001b[0;32m    358\u001b[0m \u001b[1;33m\u001b[0m\u001b[0m\n\u001b[0;32m    359\u001b[0m             \u001b[1;31m# consolidate\u001b[0m\u001b[1;33m\u001b[0m\u001b[1;33m\u001b[0m\u001b[1;33m\u001b[0m\u001b[0m\n\u001b[1;32m--> 360\u001b[1;33m             \u001b[0mobj\u001b[0m\u001b[1;33m.\u001b[0m\u001b[0m_consolidate\u001b[0m\u001b[1;33m(\u001b[0m\u001b[0minplace\u001b[0m\u001b[1;33m=\u001b[0m\u001b[1;32mTrue\u001b[0m\u001b[1;33m)\u001b[0m\u001b[1;33m\u001b[0m\u001b[1;33m\u001b[0m\u001b[0m\n\u001b[0m\u001b[0;32m    361\u001b[0m             \u001b[0mndims\u001b[0m\u001b[1;33m.\u001b[0m\u001b[0madd\u001b[0m\u001b[1;33m(\u001b[0m\u001b[0mobj\u001b[0m\u001b[1;33m.\u001b[0m\u001b[0mndim\u001b[0m\u001b[1;33m)\u001b[0m\u001b[1;33m\u001b[0m\u001b[1;33m\u001b[0m\u001b[0m\n\u001b[0;32m    362\u001b[0m \u001b[1;33m\u001b[0m\u001b[0m\n",
      "\u001b[1;32m~\\Anaconda3\\envs\\tf\\lib\\site-packages\\pandas\\core\\generic.py\u001b[0m in \u001b[0;36m_consolidate\u001b[1;34m(self, inplace)\u001b[0m\n\u001b[0;32m   5363\u001b[0m         \u001b[0minplace\u001b[0m \u001b[1;33m=\u001b[0m \u001b[0mvalidate_bool_kwarg\u001b[0m\u001b[1;33m(\u001b[0m\u001b[0minplace\u001b[0m\u001b[1;33m,\u001b[0m \u001b[1;34m\"inplace\"\u001b[0m\u001b[1;33m)\u001b[0m\u001b[1;33m\u001b[0m\u001b[1;33m\u001b[0m\u001b[0m\n\u001b[0;32m   5364\u001b[0m         \u001b[1;32mif\u001b[0m \u001b[0minplace\u001b[0m\u001b[1;33m:\u001b[0m\u001b[1;33m\u001b[0m\u001b[1;33m\u001b[0m\u001b[0m\n\u001b[1;32m-> 5365\u001b[1;33m             \u001b[0mself\u001b[0m\u001b[1;33m.\u001b[0m\u001b[0m_consolidate_inplace\u001b[0m\u001b[1;33m(\u001b[0m\u001b[1;33m)\u001b[0m\u001b[1;33m\u001b[0m\u001b[1;33m\u001b[0m\u001b[0m\n\u001b[0m\u001b[0;32m   5366\u001b[0m         \u001b[1;32melse\u001b[0m\u001b[1;33m:\u001b[0m\u001b[1;33m\u001b[0m\u001b[1;33m\u001b[0m\u001b[0m\n\u001b[0;32m   5367\u001b[0m             \u001b[0mf\u001b[0m \u001b[1;33m=\u001b[0m \u001b[1;32mlambda\u001b[0m\u001b[1;33m:\u001b[0m \u001b[0mself\u001b[0m\u001b[1;33m.\u001b[0m\u001b[0m_data\u001b[0m\u001b[1;33m.\u001b[0m\u001b[0mconsolidate\u001b[0m\u001b[1;33m(\u001b[0m\u001b[1;33m)\u001b[0m\u001b[1;33m\u001b[0m\u001b[1;33m\u001b[0m\u001b[0m\n",
      "\u001b[1;32m~\\Anaconda3\\envs\\tf\\lib\\site-packages\\pandas\\core\\generic.py\u001b[0m in \u001b[0;36m_consolidate_inplace\u001b[1;34m(self)\u001b[0m\n\u001b[0;32m   5345\u001b[0m             \u001b[0mself\u001b[0m\u001b[1;33m.\u001b[0m\u001b[0m_data\u001b[0m \u001b[1;33m=\u001b[0m \u001b[0mself\u001b[0m\u001b[1;33m.\u001b[0m\u001b[0m_data\u001b[0m\u001b[1;33m.\u001b[0m\u001b[0mconsolidate\u001b[0m\u001b[1;33m(\u001b[0m\u001b[1;33m)\u001b[0m\u001b[1;33m\u001b[0m\u001b[1;33m\u001b[0m\u001b[0m\n\u001b[0;32m   5346\u001b[0m \u001b[1;33m\u001b[0m\u001b[0m\n\u001b[1;32m-> 5347\u001b[1;33m         \u001b[0mself\u001b[0m\u001b[1;33m.\u001b[0m\u001b[0m_protect_consolidate\u001b[0m\u001b[1;33m(\u001b[0m\u001b[0mf\u001b[0m\u001b[1;33m)\u001b[0m\u001b[1;33m\u001b[0m\u001b[1;33m\u001b[0m\u001b[0m\n\u001b[0m\u001b[0;32m   5348\u001b[0m \u001b[1;33m\u001b[0m\u001b[0m\n\u001b[0;32m   5349\u001b[0m     \u001b[1;32mdef\u001b[0m \u001b[0m_consolidate\u001b[0m\u001b[1;33m(\u001b[0m\u001b[0mself\u001b[0m\u001b[1;33m,\u001b[0m \u001b[0minplace\u001b[0m\u001b[1;33m:\u001b[0m \u001b[0mbool_t\u001b[0m \u001b[1;33m=\u001b[0m \u001b[1;32mFalse\u001b[0m\u001b[1;33m)\u001b[0m\u001b[1;33m:\u001b[0m\u001b[1;33m\u001b[0m\u001b[1;33m\u001b[0m\u001b[0m\n",
      "\u001b[1;32m~\\Anaconda3\\envs\\tf\\lib\\site-packages\\pandas\\core\\generic.py\u001b[0m in \u001b[0;36m_protect_consolidate\u001b[1;34m(self, f)\u001b[0m\n\u001b[0;32m   5334\u001b[0m         \"\"\"\n\u001b[0;32m   5335\u001b[0m         \u001b[0mblocks_before\u001b[0m \u001b[1;33m=\u001b[0m \u001b[0mlen\u001b[0m\u001b[1;33m(\u001b[0m\u001b[0mself\u001b[0m\u001b[1;33m.\u001b[0m\u001b[0m_data\u001b[0m\u001b[1;33m.\u001b[0m\u001b[0mblocks\u001b[0m\u001b[1;33m)\u001b[0m\u001b[1;33m\u001b[0m\u001b[1;33m\u001b[0m\u001b[0m\n\u001b[1;32m-> 5336\u001b[1;33m         \u001b[0mresult\u001b[0m \u001b[1;33m=\u001b[0m \u001b[0mf\u001b[0m\u001b[1;33m(\u001b[0m\u001b[1;33m)\u001b[0m\u001b[1;33m\u001b[0m\u001b[1;33m\u001b[0m\u001b[0m\n\u001b[0m\u001b[0;32m   5337\u001b[0m         \u001b[1;32mif\u001b[0m \u001b[0mlen\u001b[0m\u001b[1;33m(\u001b[0m\u001b[0mself\u001b[0m\u001b[1;33m.\u001b[0m\u001b[0m_data\u001b[0m\u001b[1;33m.\u001b[0m\u001b[0mblocks\u001b[0m\u001b[1;33m)\u001b[0m \u001b[1;33m!=\u001b[0m \u001b[0mblocks_before\u001b[0m\u001b[1;33m:\u001b[0m\u001b[1;33m\u001b[0m\u001b[1;33m\u001b[0m\u001b[0m\n\u001b[0;32m   5338\u001b[0m             \u001b[0mself\u001b[0m\u001b[1;33m.\u001b[0m\u001b[0m_clear_item_cache\u001b[0m\u001b[1;33m(\u001b[0m\u001b[1;33m)\u001b[0m\u001b[1;33m\u001b[0m\u001b[1;33m\u001b[0m\u001b[0m\n",
      "\u001b[1;32m~\\Anaconda3\\envs\\tf\\lib\\site-packages\\pandas\\core\\generic.py\u001b[0m in \u001b[0;36mf\u001b[1;34m()\u001b[0m\n\u001b[0;32m   5343\u001b[0m \u001b[1;33m\u001b[0m\u001b[0m\n\u001b[0;32m   5344\u001b[0m         \u001b[1;32mdef\u001b[0m \u001b[0mf\u001b[0m\u001b[1;33m(\u001b[0m\u001b[1;33m)\u001b[0m\u001b[1;33m:\u001b[0m\u001b[1;33m\u001b[0m\u001b[1;33m\u001b[0m\u001b[0m\n\u001b[1;32m-> 5345\u001b[1;33m             \u001b[0mself\u001b[0m\u001b[1;33m.\u001b[0m\u001b[0m_data\u001b[0m \u001b[1;33m=\u001b[0m \u001b[0mself\u001b[0m\u001b[1;33m.\u001b[0m\u001b[0m_data\u001b[0m\u001b[1;33m.\u001b[0m\u001b[0mconsolidate\u001b[0m\u001b[1;33m(\u001b[0m\u001b[1;33m)\u001b[0m\u001b[1;33m\u001b[0m\u001b[1;33m\u001b[0m\u001b[0m\n\u001b[0m\u001b[0;32m   5346\u001b[0m \u001b[1;33m\u001b[0m\u001b[0m\n\u001b[0;32m   5347\u001b[0m         \u001b[0mself\u001b[0m\u001b[1;33m.\u001b[0m\u001b[0m_protect_consolidate\u001b[0m\u001b[1;33m(\u001b[0m\u001b[0mf\u001b[0m\u001b[1;33m)\u001b[0m\u001b[1;33m\u001b[0m\u001b[1;33m\u001b[0m\u001b[0m\n",
      "\u001b[1;32m~\\Anaconda3\\envs\\tf\\lib\\site-packages\\pandas\\core\\internals\\managers.py\u001b[0m in \u001b[0;36mconsolidate\u001b[1;34m(self)\u001b[0m\n\u001b[0;32m    936\u001b[0m             \u001b[1;32mreturn\u001b[0m \u001b[0mself\u001b[0m\u001b[1;33m\u001b[0m\u001b[1;33m\u001b[0m\u001b[0m\n\u001b[0;32m    937\u001b[0m \u001b[1;33m\u001b[0m\u001b[0m\n\u001b[1;32m--> 938\u001b[1;33m         \u001b[0mbm\u001b[0m \u001b[1;33m=\u001b[0m \u001b[0mtype\u001b[0m\u001b[1;33m(\u001b[0m\u001b[0mself\u001b[0m\u001b[1;33m)\u001b[0m\u001b[1;33m(\u001b[0m\u001b[0mself\u001b[0m\u001b[1;33m.\u001b[0m\u001b[0mblocks\u001b[0m\u001b[1;33m,\u001b[0m \u001b[0mself\u001b[0m\u001b[1;33m.\u001b[0m\u001b[0maxes\u001b[0m\u001b[1;33m)\u001b[0m\u001b[1;33m\u001b[0m\u001b[1;33m\u001b[0m\u001b[0m\n\u001b[0m\u001b[0;32m    939\u001b[0m         \u001b[0mbm\u001b[0m\u001b[1;33m.\u001b[0m\u001b[0m_is_consolidated\u001b[0m \u001b[1;33m=\u001b[0m \u001b[1;32mFalse\u001b[0m\u001b[1;33m\u001b[0m\u001b[1;33m\u001b[0m\u001b[0m\n\u001b[0;32m    940\u001b[0m         \u001b[0mbm\u001b[0m\u001b[1;33m.\u001b[0m\u001b[0m_consolidate_inplace\u001b[0m\u001b[1;33m(\u001b[0m\u001b[1;33m)\u001b[0m\u001b[1;33m\u001b[0m\u001b[1;33m\u001b[0m\u001b[0m\n",
      "\u001b[1;32m~\\Anaconda3\\envs\\tf\\lib\\site-packages\\pandas\\core\\internals\\managers.py\u001b[0m in \u001b[0;36m__init__\u001b[1;34m(self, blocks, axes, do_integrity_check)\u001b[0m\n\u001b[0;32m    141\u001b[0m         \u001b[0mself\u001b[0m\u001b[1;33m.\u001b[0m\u001b[0m_consolidate_check\u001b[0m\u001b[1;33m(\u001b[0m\u001b[1;33m)\u001b[0m\u001b[1;33m\u001b[0m\u001b[1;33m\u001b[0m\u001b[0m\n\u001b[0;32m    142\u001b[0m \u001b[1;33m\u001b[0m\u001b[0m\n\u001b[1;32m--> 143\u001b[1;33m         \u001b[0mself\u001b[0m\u001b[1;33m.\u001b[0m\u001b[0m_rebuild_blknos_and_blklocs\u001b[0m\u001b[1;33m(\u001b[0m\u001b[1;33m)\u001b[0m\u001b[1;33m\u001b[0m\u001b[1;33m\u001b[0m\u001b[0m\n\u001b[0m\u001b[0;32m    144\u001b[0m \u001b[1;33m\u001b[0m\u001b[0m\n\u001b[0;32m    145\u001b[0m     \u001b[1;32mdef\u001b[0m \u001b[0mmake_empty\u001b[0m\u001b[1;33m(\u001b[0m\u001b[0mself\u001b[0m\u001b[1;33m,\u001b[0m \u001b[0maxes\u001b[0m\u001b[1;33m=\u001b[0m\u001b[1;32mNone\u001b[0m\u001b[1;33m)\u001b[0m\u001b[1;33m:\u001b[0m\u001b[1;33m\u001b[0m\u001b[1;33m\u001b[0m\u001b[0m\n",
      "\u001b[1;32m~\\Anaconda3\\envs\\tf\\lib\\site-packages\\pandas\\core\\internals\\managers.py\u001b[0m in \u001b[0;36m_rebuild_blknos_and_blklocs\u001b[1;34m(self)\u001b[0m\n\u001b[0;32m    222\u001b[0m             \u001b[0mrl\u001b[0m \u001b[1;33m=\u001b[0m \u001b[0mblk\u001b[0m\u001b[1;33m.\u001b[0m\u001b[0mmgr_locs\u001b[0m\u001b[1;33m\u001b[0m\u001b[1;33m\u001b[0m\u001b[0m\n\u001b[0;32m    223\u001b[0m             \u001b[0mnew_blknos\u001b[0m\u001b[1;33m[\u001b[0m\u001b[0mrl\u001b[0m\u001b[1;33m.\u001b[0m\u001b[0mindexer\u001b[0m\u001b[1;33m]\u001b[0m \u001b[1;33m=\u001b[0m \u001b[0mblkno\u001b[0m\u001b[1;33m\u001b[0m\u001b[1;33m\u001b[0m\u001b[0m\n\u001b[1;32m--> 224\u001b[1;33m             \u001b[0mnew_blklocs\u001b[0m\u001b[1;33m[\u001b[0m\u001b[0mrl\u001b[0m\u001b[1;33m.\u001b[0m\u001b[0mindexer\u001b[0m\u001b[1;33m]\u001b[0m \u001b[1;33m=\u001b[0m \u001b[0mnp\u001b[0m\u001b[1;33m.\u001b[0m\u001b[0marange\u001b[0m\u001b[1;33m(\u001b[0m\u001b[0mlen\u001b[0m\u001b[1;33m(\u001b[0m\u001b[0mrl\u001b[0m\u001b[1;33m)\u001b[0m\u001b[1;33m)\u001b[0m\u001b[1;33m\u001b[0m\u001b[1;33m\u001b[0m\u001b[0m\n\u001b[0m\u001b[0;32m    225\u001b[0m \u001b[1;33m\u001b[0m\u001b[0m\n\u001b[0;32m    226\u001b[0m         \u001b[1;32mif\u001b[0m \u001b[1;33m(\u001b[0m\u001b[0mnew_blknos\u001b[0m \u001b[1;33m==\u001b[0m \u001b[1;33m-\u001b[0m\u001b[1;36m1\u001b[0m\u001b[1;33m)\u001b[0m\u001b[1;33m.\u001b[0m\u001b[0many\u001b[0m\u001b[1;33m(\u001b[0m\u001b[1;33m)\u001b[0m\u001b[1;33m:\u001b[0m\u001b[1;33m\u001b[0m\u001b[1;33m\u001b[0m\u001b[0m\n",
      "\u001b[1;31mKeyboardInterrupt\u001b[0m: "
     ]
    }
   ],
   "source": [
    "data = pd.read_csv(\"data.csv\")\n",
    "\n",
    "# Pre-processing\n",
    "\n",
    "# Inventory Available but unknown\n",
    "data.loc[data.inventory == -99, 'inventory'] = np.random.randint(5, 25, len(data.loc[data.inventory == -99, 'inventory']))\n",
    "# Product Out of Stock\n",
    "data.loc[data.inventory == -199, 'inventory'] = 0\n",
    "# Clean Price Column\n",
    "data['price'] = data['price'].str.replace(\"$\", \"\").astype(float)\n",
    "\n",
    "# Create Stores\n",
    "ajijo = data.sample(int(0.65 * len(data))).reset_index(drop=True)\n",
    "bharat = data.copy()\n",
    "\n",
    "# Full Stock for Bharat\n",
    "bharat.loc[:, 'inventory'] = (bharat['inventory'] + 5) * 5\n",
    "\n",
    "simulation_results = simulate_indian_grocery_shopping(10000)"
   ]
  },
  {
   "cell_type": "markdown",
   "metadata": {},
   "source": [
    "#### Simulation 2\n",
    "\n",
    "**Conditions :** \n",
    "1. Full Inventory for Ajijo\n",
    "2. Full Inventory for Bharat"
   ]
  },
  {
   "cell_type": "code",
   "execution_count": null,
   "metadata": {},
   "outputs": [],
   "source": [
    "data = pd.read_csv(\"data.csv\")\n",
    "\n",
    "# Pre-processing\n",
    "\n",
    "# Inventory Available but unknown\n",
    "data.loc[data.inventory == -99, 'inventory'] = np.random.randint(5, 25, len(data.loc[data.inventory == -99, 'inventory']))\n",
    "# Product Out of Stock\n",
    "data.loc[data.inventory == -199, 'inventory'] = 0\n",
    "# Clean Price Column\n",
    "data['price'] = data['price'].str.replace(\"$\", \"\").astype(float)\n",
    "\n",
    "# Create Stores\n",
    "ajijo = data.sample(int(0.65 * len(data))).reset_index(drop=True)\n",
    "bharat = data.copy()\n",
    "\n",
    "# Full Stock for Bharat AND AJIJO\n",
    "bharat.loc[:, 'inventory'] = (bharat['inventory'] + 5) * 5\n",
    "ajijo.loc[:, 'inventory'] = (ajijo['inventory'] + 5) * 5\n",
    "\n",
    "simulation_results = simulate_indian_grocery_shopping(10000)"
   ]
  },
  {
   "cell_type": "code",
   "execution_count": 396,
   "metadata": {},
   "outputs": [],
   "source": [
    "# simulation_results.to_csv(\"Location Based Shopping Data with Full Inventory (10000 days, 1-50 cpd).csv\", index=False)"
   ]
  }
 ],
 "metadata": {
  "kernelspec": {
   "display_name": "Python 3",
   "language": "python",
   "name": "python3"
  },
  "language_info": {
   "codemirror_mode": {
    "name": "ipython",
    "version": 3
   },
   "file_extension": ".py",
   "mimetype": "text/x-python",
   "name": "python",
   "nbconvert_exporter": "python",
   "pygments_lexer": "ipython3",
   "version": "3.7.7"
  }
 },
 "nbformat": 4,
 "nbformat_minor": 4
}
