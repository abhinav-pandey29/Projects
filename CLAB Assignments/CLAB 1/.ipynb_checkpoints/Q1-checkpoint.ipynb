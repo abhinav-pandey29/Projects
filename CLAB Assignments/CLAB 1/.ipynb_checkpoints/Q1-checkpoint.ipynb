{
 "cells": [
  {
   "cell_type": "code",
   "execution_count": 2,
   "metadata": {},
   "outputs": [],
   "source": [
    "import numpy as np\n",
    "import matplotlib.pyplot as plt"
   ]
  },
  {
   "cell_type": "code",
   "execution_count": 48,
   "metadata": {},
   "outputs": [
    {
     "data": {
      "text/plain": [
       "array([ 0.,  2.,  4.,  8., 20.,  6.,  8.])"
      ]
     },
     "execution_count": 48,
     "metadata": {},
     "output_type": "execute_result"
    }
   ],
   "source": [
    "# Question 1\n",
    "f = np.array([1,2,1])\n",
    "I = np.array([0,1,2,4,10,3,4])\n",
    "\n",
    "def filter_I(I, f):\n",
    "    \n",
    "    padded_I = np.zeros(I.shape[0]+2)\n",
    "    padded_I[1:-1] = I\n",
    "\n",
    "    for i in range(7):\n",
    "        padded_I[i:i+3] *= f\n",
    "\n",
    "    return padded_I[1:-1]\n",
    "\n",
    "# Answer 1\n",
    "filter_I(I, f)"
   ]
  },
  {
   "cell_type": "code",
   "execution_count": 69,
   "metadata": {},
   "outputs": [
    {
     "data": {
      "text/plain": [
       "Text(0.5, 1.0, 'Filter')"
      ]
     },
     "execution_count": 69,
     "metadata": {},
     "output_type": "execute_result"
    },
    {
     "data": {
      "image/png": "[encoded data removed]",
      "text/plain": [
       "<Figure size 432x288 with 1 Axes>"
      ]
     },
     "metadata": {},
     "output_type": "display_data"
    }
   ],
   "source": [
    "plt.imshow(np.uint8(np.array([-1,-1,1,2,1,-1,-1]).reshape((1,-1))), cmap='gray', vmin=1, vmax=2)\n",
    "plt.xticks([])\n",
    "plt.yticks([])\n",
    "plt.title('Filter')"
   ]
  },
  {
   "cell_type": "code",
   "execution_count": 64,
   "metadata": {},
   "outputs": [
    {
     "data": {
      "image/png": "[encoded data removed]",
      "text/plain": [
       "<Figure size 432x288 with 1 Axes>"
      ]
     },
     "metadata": {},
     "output_type": "display_data"
    }
   ],
   "source": [
    "plt.imshow(np.uint8(I.reshape((1,-1))), cmap='gray', vmin=0, vmax=10)\n",
    "plt.xticks([])\n",
    "plt.yticks([])\n",
    "plt.title('Image')\n",
    "plt.show()"
   ]
  },
  {
   "cell_type": "code",
   "execution_count": 56,
   "metadata": {},
   "outputs": [
    {
     "data": {
      "text/plain": [
       "Text(0.5, 1.0, 'Filtered Image')"
      ]
     },
     "execution_count": 56,
     "metadata": {},
     "output_type": "execute_result"
    },
    {
     "data": {
      "image/png": "[encoded data removed]",
      "text/plain": [
       "<Figure size 432x288 with 1 Axes>"
      ]
     },
     "metadata": {},
     "output_type": "display_data"
    }
   ],
   "source": [
    "plt.imshow(np.uint8(filter_I(I, f).reshape((1,-1))), cmap='gray', vmin=0, vmax=10)\n",
    "plt.xticks([])\n",
    "plt.yticks([])\n",
    "plt.title('Filtered Image')"
   ]
  },
  {
   "cell_type": "code",
   "execution_count": 12,
   "metadata": {},
   "outputs": [
    {
     "data": {
      "image/png": "[encoded data removed]",
      "text/plain": [
       "<Figure size 1440x720 with 3 Axes>"
      ]
     },
     "metadata": {
      "needs_background": "light"
     },
     "output_type": "display_data"
    }
   ],
   "source": [
    "# Question 2 (i)\n",
    "A = np.ones((5, 10))\n",
    "A[0:2,[3,9]] = 0\n",
    "# print(\"A = \\n\", A)\n",
    "\n",
    "B = np.ones((3,3))\n",
    "# print(\"B = \\n\", B)\n",
    "\n",
    "def my_erosion(A, B):\n",
    "    \n",
    "    e_rows, e_cols = B.shape\n",
    "    m, n = A.shape\n",
    "    eroded_A = A.copy()\n",
    "\n",
    "    padded_A = np.zeros((m+2, n+2))\n",
    "    padded_A[1:-1,1:-1] = A\n",
    "\n",
    "    for i in range(m):\n",
    "        for j in range(n):\n",
    "            subset_of_interest = padded_A[i:i+e_rows, j:j+e_cols]\n",
    "            eroded_A[i, j] = subset_of_interest.min()\n",
    "\n",
    "    return eroded_A\n",
    "\n",
    "def my_boundary(A, eroded_A):\n",
    "    return A - eroded_A\n",
    "\n",
    "fig, ax = plt.subplots(1, 3, figsize=(20,10))\n",
    "\n",
    "# Answer 2\n",
    "ax[0].imshow(A, cmap='gray')\n",
    "\n",
    "# Erosion\n",
    "eroded_A = my_erosion(A, B)\n",
    "ax[1].imshow(eroded_A, cmap='gray')\n",
    "\n",
    "# Boundary\n",
    "boundary_A = A - eroded_A\n",
    "ax[2].imshow(boundary_A, cmap='gray')\n",
    "\n",
    "plt.show()\n"
   ]
  }
 ],
 "metadata": {
  "kernelspec": {
   "display_name": "Python 3",
   "language": "python",
   "name": "python3"
  },
  "language_info": {
   "codemirror_mode": {
    "name": "ipython",
    "version": 3
   },
   "file_extension": ".py",
   "mimetype": "text/x-python",
   "name": "python",
   "nbconvert_exporter": "python",
   "pygments_lexer": "ipython3",
   "version": "3.7.7"
  }
 },
 "nbformat": 4,
 "nbformat_minor": 4
}
