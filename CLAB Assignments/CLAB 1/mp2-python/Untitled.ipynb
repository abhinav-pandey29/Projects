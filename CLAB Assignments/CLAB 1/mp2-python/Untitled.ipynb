{
 "cells": [
  {
   "cell_type": "code",
   "execution_count": 5,
   "metadata": {},
   "outputs": [
    {
     "name": "stdout",
     "output_type": "stream",
     "text": [
      "Running detector:\n"
     ]
    },
    {
     "name": "stderr",
     "output_type": "stream",
     "text": [
      "100%|██████████| 50/50 [00:01<00:00, 46.33it/s]\n"
     ]
    },
    {
     "name": "stdout",
     "output_type": "stream",
     "text": [
      "Evaluating:\n"
     ]
    },
    {
     "name": "stderr",
     "output_type": "stream",
     "text": [
      "100%|██████████| 50/50 [02:51<00:00,  3.43s/it]\n"
     ]
    },
    {
     "name": "stdout",
     "output_type": "stream",
     "text": [
      "           threshold: 0.080000  \n",
      "overall max F1 score: 0.531252  \n",
      "average max F1 score: 0.568899  \n",
      "             area_pr: 0.342422  \n"
     ]
    }
   ],
   "source": [
    "# Code from Saurabh Gupta\n",
    "from tqdm import tqdm\n",
    "import os, sys, numpy as np, cv2\n",
    "\n",
    "sys.path.insert(0, 'pybsds')\n",
    "from scipy import signal\n",
    "from skimage.util import img_as_float\n",
    "from skimage.io import imread\n",
    "from pybsds.bsds_dataset import BSDSDataset\n",
    "from pybsds import evaluate_boundaries\n",
    "import matplotlib\n",
    "\n",
    "matplotlib.use('Agg')\n",
    "from matplotlib import pyplot as plt\n",
    "\n",
    "GT_DIR = os.path.join('contour-data', 'groundTruth')\n",
    "IMAGE_DIR = os.path.join('contour-data', 'images')\n",
    "N_THRESHOLDS = 99\n",
    "\n",
    "\n",
    "def get_imlist(name):\n",
    "    imlist = np.loadtxt('contour-data/{}.imlist'.format(name))\n",
    "    return imlist.astype(np.int)\n",
    "\n",
    "\n",
    "def compute_edges_dxdy(I):\n",
    "    \"\"\"Returns the norm of dx and dy as the edge response function.\"\"\"\n",
    "    I = I.astype(np.float32) / 255.\n",
    "    dx = signal.convolve2d(I, np.array([[-1, 0, 1]]), mode='same')\n",
    "    dy = signal.convolve2d(I, np.array([[-1, 0, 1]]).T, mode='same')\n",
    "    mag = np.sqrt(dx ** 2 + dy ** 2)\n",
    "    mag = mag / np.max(mag)\n",
    "    mag = mag * 255.\n",
    "    mag = np.clip(mag, 0, 255)\n",
    "    mag = mag.astype(np.uint8)\n",
    "    return mag\n",
    "\n",
    "\n",
    "def detect_edges(imlist, fn, out_dir):\n",
    "    for imname in tqdm(imlist):\n",
    "        I = cv2.imread(os.path.join(IMAGE_DIR, str(imname) + '.jpg'))\n",
    "        gray = cv2.cvtColor(I, cv2.COLOR_BGR2GRAY)\n",
    "        gray = cv2.GaussianBlur(gray, (7,7), 0)\n",
    "        mag = fn(gray)\n",
    "        out_file_name = os.path.join(out_dir, str(imname) + '.png')\n",
    "        cv2.imwrite(out_file_name, mag)\n",
    "\n",
    "\n",
    "def load_gt_boundaries(imname):\n",
    "    gt_path = os.path.join(GT_DIR, '{}.mat'.format(imname))\n",
    "    return BSDSDataset.load_boundaries(gt_path)\n",
    "\n",
    "\n",
    "def load_pred(output_dir, imname):\n",
    "    pred_path = os.path.join(output_dir, '{}.png'.format(imname))\n",
    "    return img_as_float(imread(pred_path))\n",
    "\n",
    "\n",
    "def display_results(ax, f, im_results, threshold_results, overall_result):\n",
    "    out_keys = ['threshold', 'f1', 'best_f1', 'area_pr']\n",
    "    out_name = ['threshold', 'overall max F1 score', 'average max F1 score',\n",
    "                'area_pr']\n",
    "    for k, n in zip(out_keys, out_name):\n",
    "        print('{:>20s}: {:<10.6f}'.format(n, getattr(overall_result, k)))\n",
    "        f.write('{:>20s}: {:<10.6f}\\n'.format(n, getattr(overall_result, k)))\n",
    "    res = np.array(threshold_results)\n",
    "    recall = res[:, 1]\n",
    "    precision = res[recall > 0.01, 2]\n",
    "    recall = recall[recall > 0.01]\n",
    "    label_str = '{:0.2f}, {:0.2f}, {:0.2f}'.format(\n",
    "        overall_result.f1, overall_result.best_f1, overall_result.area_pr)\n",
    "    # Sometimes the PR plot may look funny, such as the plot curving back, i.e,\n",
    "    # getting a lower recall value as you lower the threshold. This is because of\n",
    "    # the lack on non-maximum suppression. The benchmarking code does some\n",
    "    # contour thinning by itself. Unfortunately this contour thinning is not very\n",
    "    # good. Without having done non-maximum suppression, as you lower the\n",
    "    # threshold, the contours become thicker and thicker and we lose the\n",
    "    # information about the precise location of the contour. Thus, a thined\n",
    "    # contour that corresponded to a ground truth boundary at a higher threshold\n",
    "    # can end up far away from the ground truth boundary at a lower threshold.\n",
    "    # This leads to a drop in recall as we decrease the threshold.\n",
    "    ax.plot(recall, precision, 'r', lw=2, label=label_str)\n",
    "    ax.set_xlim([0, 1])\n",
    "    ax.set_ylim([0, 1])\n",
    "    ax.grid(True)\n",
    "    ax.legend()\n",
    "    ax.set_xlabel('Recall')\n",
    "    ax.set_ylabel('Precision')\n",
    "\n",
    "\n",
    "if __name__ == '__main__':\n",
    "    imset = 'val'\n",
    "    imlist = get_imlist(imset)\n",
    "    output_dir = 'contour-output/demo';\n",
    "    fn = compute_edges_dxdy;\n",
    "    if not os.path.exists(output_dir):\n",
    "        os.makedirs(output_dir)\n",
    "\n",
    "    print('Running detector:')\n",
    "    detect_edges(imlist, fn, output_dir)\n",
    "\n",
    "    _load_pred = lambda x: load_pred(output_dir, x)\n",
    "    print('Evaluating:')\n",
    "    sample_results, threshold_results, overall_result = \\\n",
    "        evaluate_boundaries.pr_evaluation(N_THRESHOLDS, imlist, load_gt_boundaries,\n",
    "                                          _load_pred, fast=True, progress=tqdm)\n",
    "    fig = plt.figure(figsize=(6, 6))\n",
    "    ax = fig.gca()\n",
    "    file_name = os.path.join(output_dir + '_out.txt')\n",
    "    with open(file_name, 'wt') as f:\n",
    "        display_results(ax, f, sample_results, threshold_results, overall_result)\n",
    "    fig.savefig(os.path.join(output_dir + '_pr.pdf'), bbox_inches='tight')\n",
    "\n",
    "    "
   ]
  },
  {
   "cell_type": "code",
   "execution_count": null,
   "metadata": {},
   "outputs": [],
   "source": []
  }
 ],
 "metadata": {
  "kernelspec": {
   "display_name": "Python 3",
   "language": "python",
   "name": "python3"
  },
  "language_info": {
   "codemirror_mode": {
    "name": "ipython",
    "version": 3
   },
   "file_extension": ".py",
   "mimetype": "text/x-python",
   "name": "python",
   "nbconvert_exporter": "python",
   "pygments_lexer": "ipython3",
   "version": "3.7.4"
  }
 },
 "nbformat": 4,
 "nbformat_minor": 4
}
