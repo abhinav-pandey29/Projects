{
 "cells": [
  {
   "cell_type": "code",
   "execution_count": 2,
   "metadata": {},
   "outputs": [],
   "source": [
    "import numpy as np\n",
    "import pandas as pd\n",
    "import matplotlib.pyplot as plt\n",
    "import seaborn as sns\n",
    "\n",
    "from glob import glob\n",
    "\n",
    "def create_forex_df(all_files_glob=glob(\"data/*.xls\")):\n",
    "\n",
    "    all_files = all_files_glob\n",
    "\n",
    "    li = []\n",
    "\n",
    "    for filename in all_files:\n",
    "        tdf = pd.read_excel(filename, skiprows=5, na_values=['CLOSED', 'closed', 'Closed', ' --']).drop([0,1,2,3,4])\n",
    "        tdf = tdf.rename(columns={'Units':'Date'})\n",
    "\n",
    "        # Convert Date to Datetime type\n",
    "        tdf['Date'] = pd.to_datetime(tdf['Date'])\n",
    "\n",
    "        # Create time series index\n",
    "        tdf = tdf.set_index('Date', drop=True)\n",
    "        li.append(tdf)\n",
    "\n",
    "    df = pd.concat(li, axis=0, sort=False)\n",
    "    \n",
    "    return df"
   ]
  }
 ],
 "metadata": {
  "kernelspec": {
   "display_name": "Python 3",
   "language": "python",
   "name": "python3"
  },
  "language_info": {
   "codemirror_mode": {
    "name": "ipython",
    "version": 3
   },
   "file_extension": ".py",
   "mimetype": "text/x-python",
   "name": "python",
   "nbconvert_exporter": "python",
   "pygments_lexer": "ipython3",
   "version": "3.7.4"
  }
 },
 "nbformat": 4,
 "nbformat_minor": 4
}
