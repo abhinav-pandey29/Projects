{
 "cells": [
  {
   "cell_type": "code",
   "execution_count": 1,
   "metadata": {},
   "outputs": [],
   "source": [
    "import numpy as np\n",
    "import pandas as pd\n",
    "import matplotlib.pyplot as plt\n",
    "import seaborn as sns\n",
    "\n",
    "from glob import glob\n",
    "\n",
    "def create_forex_df(all_files_glob=glob(\"data/*.xls\")):\n",
    "\n",
    "    all_files = all_files_glob\n",
    "\n",
    "    li = []\n",
    "\n",
    "    for filename in all_files:\n",
    "        tdf = pd.read_excel(filename, skiprows=5, na_values=['CLOSED', 'closed', 'Closed', ' --']).drop([0,1,2,3,4])\n",
    "        tdf = tdf.rename(columns={'Units':'Date'})\n",
    "\n",
    "        # Convert Date to Datetime type\n",
    "        tdf['Date'] = pd.to_datetime(tdf['Date'])\n",
    "\n",
    "        # Create time series index\n",
    "        tdf = tdf.set_index('Date', drop=True)\n",
    "        li.append(tdf)\n",
    "\n",
    "    df = pd.concat(li, axis=0, sort=False)\n",
    "    \n",
    "    return df"
   ]
  },
  {
   "cell_type": "code",
   "execution_count": 2,
   "metadata": {},
   "outputs": [],
   "source": [
    "data = create_forex_df()\n",
    "USD = data[['USD']]\n",
    "\n",
    "sim_subset = USD.tail(20)\n",
    "obs_subset = USD.iloc[-80:-20]"
   ]
  },
  {
   "cell_type": "code",
   "execution_count": 3,
   "metadata": {},
   "outputs": [],
   "source": [
    "def buy_usd(aud_amt, exchange_rate):\n",
    "    return aud_amt * exchange_rate\n",
    "\n",
    "def buy_aud(usd_amt, exchange_rate):\n",
    "    return usd_amt / exchange_rate"
   ]
  },
  {
   "cell_type": "code",
   "execution_count": 4,
   "metadata": {},
   "outputs": [],
   "source": [
    "def benchmark_simulation(init_balance=1000, n=1000):\n",
    "    \n",
    "    profits = []\n",
    "    \n",
    "    for iterations in range(n):\n",
    "        # 1 - Buy USD\n",
    "        # 0 - Buy AUD or Sell USD\n",
    "        random_strategy = np.random.randint(2, size=len(sim_subset))\n",
    "        random_strategy\n",
    "\n",
    "        init_aud_wallet = init_balance\n",
    "        usd_wallet = 0\n",
    "        # aud_to_usd_rates = \n",
    "        aud_wallet = init_balance\n",
    "        \n",
    "        for i in range(len(random_strategy)):\n",
    "\n",
    "                exchange_rate = sim_subset.iloc[i].values[0]\n",
    "\n",
    "                if random_strategy[i] == 1:                    \n",
    "                    new_usd = buy_usd(0.1 * aud_wallet, exchange_rate)\n",
    "                    aud_wallet -= 0.1 * aud_wallet\n",
    "                    usd_wallet += new_usd\n",
    "                elif random_strategy[i] == 0:\n",
    "                    new_aud = buy_aud(usd_wallet, exchange_rate)\n",
    "                    usd_wallet = 0\n",
    "                    aud_wallet += new_aud\n",
    "\n",
    "        final_money_aud = aud_wallet + buy_aud(usd_wallet, exchange_rate)\n",
    "        profit = final_money_aud - init_aud_wallet\n",
    "        \n",
    "        profits.append(profit)\n",
    "    \n",
    "    profits = np.array(profits)\n",
    "    median_simulation_profit = np.median(profits)\n",
    "    \n",
    "    return profits, median_simulation_profit\n",
    "\n",
    "p, median = benchmark_simulation(100, n=100000)"
   ]
  },
  {
   "cell_type": "code",
   "execution_count": 5,
   "metadata": {},
   "outputs": [
    {
     "data": {
      "image/png": "[encoded data removed]",
      "text/plain": [
       "<Figure size 432x288 with 1 Axes>"
      ]
     },
     "metadata": {
      "needs_background": "light"
     },
     "output_type": "display_data"
    }
   ],
   "source": [
    "plt.boxplot(p, labels=['Profit Random'])\n",
    "plt.hlines(y=0, xmin=0, xmax=2)\n",
    "plt.show()"
   ]
  },
  {
   "cell_type": "code",
   "execution_count": 6,
   "metadata": {},
   "outputs": [
    {
     "name": "stdout",
     "output_type": "stream",
     "text": [
      "Median Profit = 19.19\n",
      "Mean Profit = 22.94\n"
     ]
    }
   ],
   "source": [
    "print(\"Median Profit =\",round(median*100,2))\n",
    "print(\"Mean Profit =\",round(p.mean()*100,2))"
   ]
  },
  {
   "cell_type": "code",
   "execution_count": null,
   "metadata": {},
   "outputs": [],
   "source": []
  },
  {
   "cell_type": "code",
   "execution_count": null,
   "metadata": {},
   "outputs": [],
   "source": []
  }
 ],
 "metadata": {
  "kernelspec": {
   "display_name": "Python 3",
   "language": "python",
   "name": "python3"
  },
  "language_info": {
   "codemirror_mode": {
    "name": "ipython",
    "version": 3
   },
   "file_extension": ".py",
   "mimetype": "text/x-python",
   "name": "python",
   "nbconvert_exporter": "python",
   "pygments_lexer": "ipython3",
   "version": "3.7.4"
  }
 },
 "nbformat": 4,
 "nbformat_minor": 4
}
